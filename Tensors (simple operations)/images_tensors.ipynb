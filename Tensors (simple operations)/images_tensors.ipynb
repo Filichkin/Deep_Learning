{
 "cells": [
  {
   "cell_type": "markdown",
   "id": "01b463c6",
   "metadata": {
    "toc": true
   },
   "source": [
    "<h1>Images tensors<span class=\"tocSkip\"></span></h1>\n",
    "<div class=\"toc\"><ul class=\"toc-item\"><li><span><a href=\"#Загрузка-файла-изображения\" data-toc-modified-id=\"Загрузка-файла-изображения-1\"><span class=\"toc-item-num\">1&nbsp;&nbsp;</span>Загрузка файла изображения</a></span></li><li><span><a href=\"#Изменение-схемы-изображения\" data-toc-modified-id=\"Изменение-схемы-изображения-2\"><span class=\"toc-item-num\">2&nbsp;&nbsp;</span>Изменение схемы изображения</a></span></li><li><span><a href=\"#Нормализация-данных\" data-toc-modified-id=\"Нормализация-данных-3\"><span class=\"toc-item-num\">3&nbsp;&nbsp;</span>Нормализация данных</a></span></li><li><span><a href=\"#Загрузка-данных-в-специализированном-формате\" data-toc-modified-id=\"Загрузка-данных-в-специализированном-формате-4\"><span class=\"toc-item-num\">4&nbsp;&nbsp;</span>Загрузка данных в специализированном формате</a></span></li></ul></div>"
   ]
  },
  {
   "cell_type": "code",
   "execution_count": 10,
   "id": "b3504c81",
   "metadata": {},
   "outputs": [],
   "source": [
    "import imageio\n",
    "import torch\n",
    "import os"
   ]
  },
  {
   "cell_type": "markdown",
   "id": "766e9d06",
   "metadata": {},
   "source": [
    "### Загрузка файла изображения"
   ]
  },
  {
   "cell_type": "code",
   "execution_count": 2,
   "id": "215cc0f0",
   "metadata": {},
   "outputs": [
    {
     "name": "stderr",
     "output_type": "stream",
     "text": [
      "/var/folders/yj/05csyfjn179703hvgy2jqdqm0000gn/T/ipykernel_24224/93083565.py:1: DeprecationWarning: Starting with ImageIO v3 the behavior of this function will switch to that of iio.v3.imread. To keep the current behavior (and make this warning disappear) use `import imageio.v2 as imageio` or call `imageio.v2.imread` directly.\n",
      "  img_arr = imageio.imread('/Users/alexfil/Desktop/PyTorch/RgAAAgO_X-A-1920.jpg')\n"
     ]
    }
   ],
   "source": [
    "img_arr = imageio.imread('/Users/alexfil/Desktop/PyTorch/RgAAAgO_X-A-1920.jpg')"
   ]
  },
  {
   "cell_type": "code",
   "execution_count": 3,
   "id": "6e7b8096",
   "metadata": {},
   "outputs": [
    {
     "data": {
      "text/plain": [
       "(768, 1024, 3)"
      ]
     },
     "execution_count": 3,
     "metadata": {},
     "output_type": "execute_result"
    }
   ],
   "source": [
    "img_arr.shape"
   ]
  },
  {
   "cell_type": "markdown",
   "id": "12be06d1",
   "metadata": {},
   "source": [
    "Для PyTorch необходима схема измерений C x H x W (каналы, высота, ширина)"
   ]
  },
  {
   "cell_type": "markdown",
   "id": "e09bc968",
   "metadata": {},
   "source": [
    "### Изменение схемы изображения"
   ]
  },
  {
   "cell_type": "code",
   "execution_count": 6,
   "id": "b4ad76f9",
   "metadata": {},
   "outputs": [],
   "source": [
    "img = torch.from_numpy(img_arr)\n",
    "out = img.permute(2, 0, 1)"
   ]
  },
  {
   "cell_type": "code",
   "execution_count": 7,
   "id": "2af52e3a",
   "metadata": {},
   "outputs": [
    {
     "data": {
      "text/plain": [
       "torch.Size([3, 768, 1024])"
      ]
     },
     "execution_count": 7,
     "metadata": {},
     "output_type": "execute_result"
    }
   ],
   "source": [
    "out.shape"
   ]
  },
  {
   "cell_type": "code",
   "execution_count": 48,
   "id": "56796364",
   "metadata": {},
   "outputs": [],
   "source": [
    "batch_size = 3\n",
    "batch = torch.zeros(batch_size, 3, 256, 256, dtype=torch.uint8)"
   ]
  },
  {
   "cell_type": "code",
   "execution_count": 49,
   "id": "34406661",
   "metadata": {},
   "outputs": [],
   "source": [
    "data_dir = '/Users/alexfil/Desktop/PyTorch/data/cats'\n",
    "filenames = [name for name in os.listdir(data_dir)\n",
    "             if os.path.splitext(name)[-1] == '.png']"
   ]
  },
  {
   "cell_type": "code",
   "execution_count": 50,
   "id": "7fb46fc7",
   "metadata": {},
   "outputs": [
    {
     "data": {
      "text/plain": [
       "['cat1.png', 'cat2.png', 'cat3.png']"
      ]
     },
     "execution_count": 50,
     "metadata": {},
     "output_type": "execute_result"
    }
   ],
   "source": [
    "filenames"
   ]
  },
  {
   "cell_type": "code",
   "execution_count": 51,
   "id": "5abd4f9b",
   "metadata": {},
   "outputs": [
    {
     "name": "stderr",
     "output_type": "stream",
     "text": [
      "/var/folders/yj/05csyfjn179703hvgy2jqdqm0000gn/T/ipykernel_24224/4177784309.py:2: DeprecationWarning: Starting with ImageIO v3 the behavior of this function will switch to that of iio.v3.imread. To keep the current behavior (and make this warning disappear) use `import imageio.v2 as imageio` or call `imageio.v2.imread` directly.\n",
      "  img_arr = imageio.imread(os.path.join(data_dir, filename))\n"
     ]
    }
   ],
   "source": [
    "for i, filename in enumerate(filenames):\n",
    "    img_arr = imageio.imread(os.path.join(data_dir, filename))\n",
    "    img_t = torch.from_numpy(img_arr)\n",
    "    img_t = img_t.permute(2, 0, 1)\n",
    "    img_t = img_t[:3]\n",
    "    batch[i] = img_t"
   ]
  },
  {
   "cell_type": "code",
   "execution_count": 52,
   "id": "bc15450a",
   "metadata": {},
   "outputs": [
    {
     "data": {
      "text/plain": [
       "torch.Size([3, 256, 256])"
      ]
     },
     "execution_count": 52,
     "metadata": {},
     "output_type": "execute_result"
    }
   ],
   "source": [
    "img_t.shape"
   ]
  },
  {
   "cell_type": "code",
   "execution_count": 53,
   "id": "8a305285",
   "metadata": {},
   "outputs": [
    {
     "data": {
      "text/plain": [
       "torch.Size([3, 3, 256, 256])"
      ]
     },
     "execution_count": 53,
     "metadata": {},
     "output_type": "execute_result"
    }
   ],
   "source": [
    "batch.shape"
   ]
  },
  {
   "cell_type": "markdown",
   "id": "3f65f306",
   "metadata": {},
   "source": [
    "### Нормализация данных"
   ]
  },
  {
   "cell_type": "code",
   "execution_count": 54,
   "id": "144a3f59",
   "metadata": {},
   "outputs": [],
   "source": [
    "batch = batch.float()\n",
    "batch /= 255.0"
   ]
  },
  {
   "cell_type": "code",
   "execution_count": 46,
   "id": "22d3f6b3",
   "metadata": {},
   "outputs": [],
   "source": [
    "n_channels = batch.shape[1]\n",
    "for c in range(n_channels):\n",
    "    mean = torch.mean(batch[:, c])\n",
    "    std = torch.std(batch[:, c])\n",
    "    batch[:, c] = (batch[:, c] - mean) / std"
   ]
  },
  {
   "cell_type": "code",
   "execution_count": 55,
   "id": "126ebf34",
   "metadata": {},
   "outputs": [
    {
     "data": {
      "text/plain": [
       "tensor([[[0.7922, 0.7569, 0.7451,  ..., 0.0510, 0.0510, 0.0471],\n",
       "         [0.7804, 0.7529, 0.7412,  ..., 0.0549, 0.0549, 0.0549],\n",
       "         [0.7765, 0.7569, 0.7373,  ..., 0.0471, 0.0471, 0.0471],\n",
       "         ...,\n",
       "         [0.3647, 0.3216, 0.2980,  ..., 0.1412, 0.1412, 0.1412],\n",
       "         [0.2941, 0.2667, 0.3961,  ..., 0.1412, 0.1412, 0.1451],\n",
       "         [0.3333, 0.4039, 0.3529,  ..., 0.1412, 0.1451, 0.1490]],\n",
       "\n",
       "        [[0.5922, 0.5451, 0.5216,  ..., 0.0353, 0.0353, 0.0314],\n",
       "         [0.5922, 0.5490, 0.5255,  ..., 0.0431, 0.0431, 0.0431],\n",
       "         [0.5961, 0.5608, 0.5255,  ..., 0.0431, 0.0431, 0.0431],\n",
       "         ...,\n",
       "         [0.2235, 0.1765, 0.1529,  ..., 0.1020, 0.1020, 0.1020],\n",
       "         [0.1294, 0.1020, 0.2314,  ..., 0.1020, 0.1020, 0.1059],\n",
       "         [0.1569, 0.2275, 0.1765,  ..., 0.1020, 0.1059, 0.1098]],\n",
       "\n",
       "        [[0.2667, 0.2078, 0.1725,  ..., 0.0235, 0.0235, 0.0196],\n",
       "         [0.2627, 0.2118, 0.1725,  ..., 0.0235, 0.0235, 0.0235],\n",
       "         [0.2627, 0.2196, 0.1725,  ..., 0.0235, 0.0235, 0.0235],\n",
       "         ...,\n",
       "         [0.1216, 0.0745, 0.0471,  ..., 0.0667, 0.0667, 0.0667],\n",
       "         [0.0431, 0.0078, 0.1373,  ..., 0.0667, 0.0667, 0.0706],\n",
       "         [0.0745, 0.1451, 0.0863,  ..., 0.0667, 0.0706, 0.0745]]])"
      ]
     },
     "execution_count": 55,
     "metadata": {},
     "output_type": "execute_result"
    }
   ],
   "source": [
    "batch[1]"
   ]
  },
  {
   "cell_type": "code",
   "execution_count": 56,
   "id": "4c98cb89",
   "metadata": {},
   "outputs": [],
   "source": [
    "n_channels = batch.shape[1]\n",
    "for c in range(n_channels):\n",
    "    mean = torch.mean(batch[:, c])\n",
    "    std = torch.std(batch[:, c])\n",
    "    batch[:, c] = (batch[:, c] - mean) / std"
   ]
  },
  {
   "cell_type": "code",
   "execution_count": 57,
   "id": "49bad944",
   "metadata": {},
   "outputs": [
    {
     "data": {
      "text/plain": [
       "tensor([[[ 0.9595,  0.7999,  0.7467,  ..., -2.3915, -2.3915, -2.4092],\n",
       "         [ 0.9063,  0.7822,  0.7290,  ..., -2.3738, -2.3738, -2.3738],\n",
       "         [ 0.8886,  0.7999,  0.7113,  ..., -2.4092, -2.4092, -2.4092],\n",
       "         ...,\n",
       "         [-0.9731, -1.1681, -1.2745,  ..., -1.9837, -1.9837, -1.9837],\n",
       "         [-1.2922, -1.4163, -0.8312,  ..., -1.9837, -1.9837, -1.9660],\n",
       "         [-1.1149, -0.7958, -1.0263,  ..., -1.9837, -1.9660, -1.9482]],\n",
       "\n",
       "        [[ 0.6908,  0.4632,  0.3494,  ..., -2.0024, -2.0024, -2.0214],\n",
       "         [ 0.6908,  0.4822,  0.3684,  ..., -1.9645, -1.9645, -1.9645],\n",
       "         [ 0.7098,  0.5391,  0.3684,  ..., -1.9645, -1.9645, -1.9645],\n",
       "         ...,\n",
       "         [-1.0920, -1.3196, -1.4334,  ..., -1.6800, -1.6800, -1.6800],\n",
       "         [-1.5472, -1.6800, -1.0541,  ..., -1.6800, -1.6800, -1.6610],\n",
       "         [-1.4144, -1.0730, -1.3196,  ..., -1.6800, -1.6610, -1.6420]],\n",
       "\n",
       "        [[-0.4598, -0.7644, -0.9472,  ..., -1.7190, -1.7190, -1.7394],\n",
       "         [-0.4801, -0.7441, -0.9472,  ..., -1.7190, -1.7190, -1.7190],\n",
       "         [-0.4801, -0.7035, -0.9472,  ..., -1.7190, -1.7190, -1.7190],\n",
       "         ...,\n",
       "         [-1.2113, -1.4550, -1.5972,  ..., -1.4956, -1.4956, -1.4956],\n",
       "         [-1.6175, -1.8003, -1.1300,  ..., -1.4956, -1.4956, -1.4753],\n",
       "         [-1.4550, -1.0894, -1.3941,  ..., -1.4956, -1.4753, -1.4550]]])"
      ]
     },
     "execution_count": 57,
     "metadata": {},
     "output_type": "execute_result"
    }
   ],
   "source": [
    "batch[1]"
   ]
  },
  {
   "cell_type": "markdown",
   "id": "560083ad",
   "metadata": {},
   "source": [
    "### Загрузка данных в специализированном формате"
   ]
  },
  {
   "cell_type": "code",
   "execution_count": 58,
   "id": "3d54c506",
   "metadata": {},
   "outputs": [
    {
     "name": "stdout",
     "output_type": "stream",
     "text": [
      "Reading DICOM (examining files): 1/21 files (4.8  Warning: missing file after '/Users/alexfil/Desktop/PyTorch/data/2-LUNG 3.0 B70f-04083/000011.dcm'\n",
      "Reading DICOM (examining files): 1/21 files (4.8  Warning: missing file after '/Users/alexfil/Desktop/PyTorch/data/2-LUNG 3.0 B70f-04083/000017.dcm'\n",
      "Reading DICOM (examining files): 1/21 files (4.8%21/21 files (100.0%)\n",
      "  Found 5 correct series.\n",
      "Reading DICOM (loading data): 4/4  (100.0%)\n"
     ]
    },
    {
     "data": {
      "text/plain": [
       "(4, 512, 512)"
      ]
     },
     "execution_count": 58,
     "metadata": {},
     "output_type": "execute_result"
    }
   ],
   "source": [
    "dir_path = '/Users/alexfil/Desktop/PyTorch/data/2-LUNG 3.0 B70f-04083'\n",
    "vol_arr = imageio.volread(dir_path, 'DICOM')\n",
    "vol_arr.shape"
   ]
  },
  {
   "cell_type": "code",
   "execution_count": 59,
   "id": "980cc774",
   "metadata": {},
   "outputs": [],
   "source": [
    "vol = torch.from_numpy(vol_arr).float()\n",
    "vol = torch.unsqueeze(vol, 0)"
   ]
  },
  {
   "cell_type": "code",
   "execution_count": 60,
   "id": "5045b2b0",
   "metadata": {},
   "outputs": [
    {
     "data": {
      "text/plain": [
       "torch.Size([1, 4, 512, 512])"
      ]
     },
     "execution_count": 60,
     "metadata": {},
     "output_type": "execute_result"
    }
   ],
   "source": [
    "vol.shape"
   ]
  },
  {
   "cell_type": "code",
   "execution_count": 61,
   "id": "abbe46c4",
   "metadata": {},
   "outputs": [
    {
     "data": {
      "text/plain": [
       "tensor([[[[ -985.,  -990.,  -999.,  ..., -1017., -1008.,  -971.],\n",
       "          [-1016.,  -984.,  -963.,  ..., -1000., -1009.,  -999.],\n",
       "          [-1024., -1008.,  -996.,  ...,  -979., -1021.,  -987.],\n",
       "          ...,\n",
       "          [ -920.,  -942.,  -944.,  ...,  -893.,  -917.,  -955.],\n",
       "          [ -871.,  -879.,  -905.,  ...,  -895.,  -869.,  -867.],\n",
       "          [ -876.,  -855.,  -873.,  ...,  -933.,  -982.,  -936.]],\n",
       "\n",
       "         [[-1022., -1011.,  -983.,  ..., -1013.,  -980.,  -967.],\n",
       "          [-1022., -1005., -1012.,  ...,  -948.,  -966., -1008.],\n",
       "          [ -991.,  -965.,  -993.,  ...,  -964., -1011.,  -996.],\n",
       "          ...,\n",
       "          [ -858.,  -899.,  -950.,  ...,  -939.,  -868.,  -827.],\n",
       "          [ -948.,  -914.,  -918.,  ...,  -968.,  -978.,  -946.],\n",
       "          [ -921.,  -874.,  -914.,  ...,  -898.,  -910.,  -934.]],\n",
       "\n",
       "         [[-1014.,  -981., -1024.,  ...,  -981.,  -985.,  -999.],\n",
       "          [-1010.,  -971., -1004.,  ...,  -934.,  -963., -1023.],\n",
       "          [-1022.,  -981.,  -941.,  ...,  -963., -1015., -1024.],\n",
       "          ...,\n",
       "          [ -863.,  -903.,  -927.,  ...,  -916.,  -894.,  -880.],\n",
       "          [ -915.,  -885.,  -872.,  ...,  -868.,  -926.,  -965.],\n",
       "          [ -884.,  -887.,  -904.,  ...,  -877.,  -871.,  -940.]],\n",
       "\n",
       "         [[ -984., -1001., -1010.,  ..., -1021., -1018., -1006.],\n",
       "          [-1012., -1014., -1023.,  ..., -1011.,  -988., -1007.],\n",
       "          [ -960.,  -992., -1019.,  ...,  -976.,  -992., -1002.],\n",
       "          ...,\n",
       "          [ -861.,  -855.,  -884.,  ...,  -847.,  -876.,  -909.],\n",
       "          [ -885.,  -890.,  -867.,  ...,  -908.,  -864.,  -856.],\n",
       "          [ -936.,  -877.,  -931.,  ...,  -944.,  -946.,  -912.]]]])"
      ]
     },
     "execution_count": 61,
     "metadata": {},
     "output_type": "execute_result"
    }
   ],
   "source": [
    "vol"
   ]
  },
  {
   "cell_type": "code",
   "execution_count": null,
   "id": "a62878ec",
   "metadata": {},
   "outputs": [],
   "source": []
  }
 ],
 "metadata": {
  "kernelspec": {
   "display_name": "Python 3 (ipykernel)",
   "language": "python",
   "name": "python3"
  },
  "language_info": {
   "codemirror_mode": {
    "name": "ipython",
    "version": 3
   },
   "file_extension": ".py",
   "mimetype": "text/x-python",
   "name": "python",
   "nbconvert_exporter": "python",
   "pygments_lexer": "ipython3",
   "version": "3.11.5"
  },
  "toc": {
   "base_numbering": 1,
   "nav_menu": {},
   "number_sections": true,
   "sideBar": true,
   "skip_h1_title": true,
   "title_cell": "Real data with tensors",
   "title_sidebar": "Contents",
   "toc_cell": true,
   "toc_position": {
    "height": "calc(100% - 180px)",
    "left": "10px",
    "top": "150px",
    "width": "288px"
   },
   "toc_section_display": true,
   "toc_window_display": false
  },
  "varInspector": {
   "cols": {
    "lenName": 16,
    "lenType": 16,
    "lenVar": 40
   },
   "kernels_config": {
    "python": {
     "delete_cmd_postfix": "",
     "delete_cmd_prefix": "del ",
     "library": "var_list.py",
     "varRefreshCmd": "print(var_dic_list())"
    },
    "r": {
     "delete_cmd_postfix": ") ",
     "delete_cmd_prefix": "rm(",
     "library": "var_list.r",
     "varRefreshCmd": "cat(var_dic_list()) "
    }
   },
   "types_to_exclude": [
    "module",
    "function",
    "builtin_function_or_method",
    "instance",
    "_Feature"
   ],
   "window_display": false
  }
 },
 "nbformat": 4,
 "nbformat_minor": 5
}
