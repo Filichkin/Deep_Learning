{
 "cells": [
  {
   "cell_type": "markdown",
   "id": "cc67a1d8",
   "metadata": {
    "toc": true
   },
   "source": [
    "<h1>Table of Contents<span class=\"tocSkip\"></span></h1>\n",
    "<div class=\"toc\"><ul class=\"toc-item\"><li><span><a href=\"#Создание-тензора\" data-toc-modified-id=\"Создание-тензора-1\"><span class=\"toc-item-num\">1&nbsp;&nbsp;</span>Создание тензора</a></span></li><li><span><a href=\"#Доступ-к-тензорам-по-индексам\" data-toc-modified-id=\"Доступ-к-тензорам-по-индексам-2\"><span class=\"toc-item-num\">2&nbsp;&nbsp;</span>Доступ к тензорам по индексам</a></span></li><li><span><a href=\"#Поименованные-тензоры\" data-toc-modified-id=\"Поименованные-тензоры-3\"><span class=\"toc-item-num\">3&nbsp;&nbsp;</span>Поименованные тензоры</a></span></li><li><span><a href=\"#Работа-с-атрибутом-dtype-тензоров\" data-toc-modified-id=\"Работа-с-атрибутом-dtype-тензоров-4\"><span class=\"toc-item-num\">4&nbsp;&nbsp;</span>Работа с атрибутом dtype тензоров</a></span></li><li><span><a href=\"#API-тензоров\" data-toc-modified-id=\"API-тензоров-5\"><span class=\"toc-item-num\">5&nbsp;&nbsp;</span>API тензоров</a></span></li><li><span><a href=\"#Доступ-к-хранилищу-по-индексу\" data-toc-modified-id=\"Доступ-к-хранилищу-по-индексу-6\"><span class=\"toc-item-num\">6&nbsp;&nbsp;</span>Доступ к хранилищу по индексу</a></span></li><li><span><a href=\"#Модификация&nbsp;хранимых-значений:-операции-с-заменой-на-месте\" data-toc-modified-id=\"Модификация&nbsp;хранимых-значений:-операции-с-заменой-на-месте-7\"><span class=\"toc-item-num\">7&nbsp;&nbsp;</span>Модификация&nbsp;хранимых значений: операции с заменой на месте</a></span></li><li><span><a href=\"#Представления-хранилища-другого-тензора\" data-toc-modified-id=\"Представления-хранилища-другого-тензора-8\"><span class=\"toc-item-num\">8&nbsp;&nbsp;</span>Представления хранилища другого тензора</a></span></li><li><span><a href=\"#Транспонирование-без-копирования\" data-toc-modified-id=\"Транспонирование-без-копирования-9\"><span class=\"toc-item-num\">9&nbsp;&nbsp;</span>Транспонирование без копирования</a></span></li><li><span><a href=\"#Транспонирование-при-более-высокой-размерности\" data-toc-modified-id=\"Транспонирование-при-более-высокой-размерности-10\"><span class=\"toc-item-num\">10&nbsp;&nbsp;</span>Транспонирование при более высокой размерности</a></span></li><li><span><a href=\"#Непрерывные-тензоры\" data-toc-modified-id=\"Непрерывные-тензоры-11\"><span class=\"toc-item-num\">11&nbsp;&nbsp;</span>Непрерывные тензоры</a></span></li><li><span><a href=\"#Совместимость-с-NumPy\" data-toc-modified-id=\"Совместимость-с-NumPy-12\"><span class=\"toc-item-num\">12&nbsp;&nbsp;</span>Совместимость с NumPy</a></span></li><li><span><a href=\"#Сериализация-тензоров\" data-toc-modified-id=\"Сериализация-тензоров-13\"><span class=\"toc-item-num\">13&nbsp;&nbsp;</span>Сериализация тензоров</a></span></li><li><span><a href=\"#Сериализация-в-HDF5\" data-toc-modified-id=\"Сериализация-в-HDF5-14\"><span class=\"toc-item-num\">14&nbsp;&nbsp;</span>Сериализация в HDF5</a></span></li><li><span><a href=\"#Упражнения\" data-toc-modified-id=\"Упражнения-15\"><span class=\"toc-item-num\">15&nbsp;&nbsp;</span>Упражнения</a></span></li></ul></div>"
   ]
  },
  {
   "cell_type": "code",
   "execution_count": 1,
   "id": "3eb6e33d",
   "metadata": {},
   "outputs": [],
   "source": [
    "import torch"
   ]
  },
  {
   "cell_type": "markdown",
   "id": "cf363a35",
   "metadata": {},
   "source": [
    "### Создание тензора"
   ]
  },
  {
   "cell_type": "code",
   "execution_count": 2,
   "id": "d1ec70b8",
   "metadata": {},
   "outputs": [],
   "source": [
    "a = torch.ones(3)"
   ]
  },
  {
   "cell_type": "code",
   "execution_count": 3,
   "id": "1ad731d0",
   "metadata": {},
   "outputs": [
    {
     "data": {
      "text/plain": [
       "tensor([1., 1., 1.])"
      ]
     },
     "execution_count": 3,
     "metadata": {},
     "output_type": "execute_result"
    }
   ],
   "source": [
    "a"
   ]
  },
  {
   "cell_type": "code",
   "execution_count": 4,
   "id": "400d0ce8",
   "metadata": {},
   "outputs": [
    {
     "data": {
      "text/plain": [
       "tensor(1.)"
      ]
     },
     "execution_count": 4,
     "metadata": {},
     "output_type": "execute_result"
    }
   ],
   "source": [
    "a[1]"
   ]
  },
  {
   "cell_type": "code",
   "execution_count": 5,
   "id": "3f12a3a2",
   "metadata": {},
   "outputs": [
    {
     "data": {
      "text/plain": [
       "1.0"
      ]
     },
     "execution_count": 5,
     "metadata": {},
     "output_type": "execute_result"
    }
   ],
   "source": [
    "float(a[1])"
   ]
  },
  {
   "cell_type": "code",
   "execution_count": 6,
   "id": "5d7490cd",
   "metadata": {},
   "outputs": [],
   "source": [
    "a[2] = 2"
   ]
  },
  {
   "cell_type": "code",
   "execution_count": 7,
   "id": "90986b8b",
   "metadata": {},
   "outputs": [
    {
     "data": {
      "text/plain": [
       "tensor([1., 1., 2.])"
      ]
     },
     "execution_count": 7,
     "metadata": {},
     "output_type": "execute_result"
    }
   ],
   "source": [
    "a"
   ]
  },
  {
   "cell_type": "code",
   "execution_count": 8,
   "id": "611723ce",
   "metadata": {},
   "outputs": [],
   "source": [
    "points = torch.zeros(6)"
   ]
  },
  {
   "cell_type": "code",
   "execution_count": 9,
   "id": "5ae405fe",
   "metadata": {},
   "outputs": [
    {
     "data": {
      "text/plain": [
       "tensor([0., 0., 0., 0., 0., 0.])"
      ]
     },
     "execution_count": 9,
     "metadata": {},
     "output_type": "execute_result"
    }
   ],
   "source": [
    "points"
   ]
  },
  {
   "cell_type": "code",
   "execution_count": 10,
   "id": "a48623a0",
   "metadata": {},
   "outputs": [],
   "source": [
    "points[0] = 4.0\n",
    "points[1] = 1.0\n",
    "points[2] = 5.0\n",
    "points[3] = 3.0\n",
    "points[4] = 2.0\n",
    "points[5] = 1.0"
   ]
  },
  {
   "cell_type": "code",
   "execution_count": 11,
   "id": "50808d69",
   "metadata": {},
   "outputs": [],
   "source": [
    "points = torch.tensor([4.0, 1.0, 5.0, 3.0, 2.0, 1.0])"
   ]
  },
  {
   "cell_type": "code",
   "execution_count": 12,
   "id": "bd4bdd8b",
   "metadata": {},
   "outputs": [
    {
     "data": {
      "text/plain": [
       "tensor([4., 1., 5., 3., 2., 1.])"
      ]
     },
     "execution_count": 12,
     "metadata": {},
     "output_type": "execute_result"
    }
   ],
   "source": [
    "points"
   ]
  },
  {
   "cell_type": "code",
   "execution_count": 13,
   "id": "5a8f046b",
   "metadata": {},
   "outputs": [
    {
     "data": {
      "text/plain": [
       "(4.0, 1.0)"
      ]
     },
     "execution_count": 13,
     "metadata": {},
     "output_type": "execute_result"
    }
   ],
   "source": [
    "float(points[0]), float(points[1])"
   ]
  },
  {
   "cell_type": "code",
   "execution_count": 14,
   "id": "8dd33417",
   "metadata": {},
   "outputs": [],
   "source": [
    "points = torch.tensor([[4.0, 1.0], [5.0, 3.0], [2.0, 1.0]])"
   ]
  },
  {
   "cell_type": "code",
   "execution_count": 15,
   "id": "3b454d2c",
   "metadata": {},
   "outputs": [
    {
     "data": {
      "text/plain": [
       "tensor([[4., 1.],\n",
       "        [5., 3.],\n",
       "        [2., 1.]])"
      ]
     },
     "execution_count": 15,
     "metadata": {},
     "output_type": "execute_result"
    }
   ],
   "source": [
    "points"
   ]
  },
  {
   "cell_type": "code",
   "execution_count": 16,
   "id": "07cd65d4",
   "metadata": {},
   "outputs": [
    {
     "data": {
      "text/plain": [
       "torch.Size([3, 2])"
      ]
     },
     "execution_count": 16,
     "metadata": {},
     "output_type": "execute_result"
    }
   ],
   "source": [
    "points.shape"
   ]
  },
  {
   "cell_type": "code",
   "execution_count": 17,
   "id": "11fec82a",
   "metadata": {},
   "outputs": [],
   "source": [
    "points = torch.zeros(3, 2)"
   ]
  },
  {
   "cell_type": "code",
   "execution_count": 18,
   "id": "6a8caa60",
   "metadata": {},
   "outputs": [
    {
     "data": {
      "text/plain": [
       "tensor([[0., 0.],\n",
       "        [0., 0.],\n",
       "        [0., 0.]])"
      ]
     },
     "execution_count": 18,
     "metadata": {},
     "output_type": "execute_result"
    }
   ],
   "source": [
    "points"
   ]
  },
  {
   "cell_type": "code",
   "execution_count": 19,
   "id": "57301170",
   "metadata": {},
   "outputs": [],
   "source": [
    "points = torch.tensor([[4.0, 1.0], [5.0, 3.0], [2.0, 1.0]])"
   ]
  },
  {
   "cell_type": "code",
   "execution_count": 20,
   "id": "5168dbdf",
   "metadata": {},
   "outputs": [
    {
     "data": {
      "text/plain": [
       "tensor(1.)"
      ]
     },
     "execution_count": 20,
     "metadata": {},
     "output_type": "execute_result"
    }
   ],
   "source": [
    "points[0, 1]"
   ]
  },
  {
   "cell_type": "code",
   "execution_count": 21,
   "id": "321319ad",
   "metadata": {},
   "outputs": [
    {
     "data": {
      "text/plain": [
       "tensor([4., 1.])"
      ]
     },
     "execution_count": 21,
     "metadata": {},
     "output_type": "execute_result"
    }
   ],
   "source": [
    "points[0]"
   ]
  },
  {
   "cell_type": "markdown",
   "id": "6b3bfd73",
   "metadata": {},
   "source": [
    "### Доступ к тензорам по индексам"
   ]
  },
  {
   "cell_type": "code",
   "execution_count": 22,
   "id": "a25de364",
   "metadata": {},
   "outputs": [],
   "source": [
    "some_list = list(range(6))"
   ]
  },
  {
   "cell_type": "code",
   "execution_count": 23,
   "id": "2d9ab711",
   "metadata": {},
   "outputs": [
    {
     "data": {
      "text/plain": [
       "[0, 1, 2, 3, 4, 5]"
      ]
     },
     "execution_count": 23,
     "metadata": {},
     "output_type": "execute_result"
    }
   ],
   "source": [
    "some_list[:]"
   ]
  },
  {
   "cell_type": "code",
   "execution_count": 24,
   "id": "50714341",
   "metadata": {},
   "outputs": [
    {
     "data": {
      "text/plain": [
       "[1, 2, 3]"
      ]
     },
     "execution_count": 24,
     "metadata": {},
     "output_type": "execute_result"
    }
   ],
   "source": [
    "some_list[1:4]"
   ]
  },
  {
   "cell_type": "code",
   "execution_count": 25,
   "id": "be80e34b",
   "metadata": {},
   "outputs": [
    {
     "data": {
      "text/plain": [
       "[1, 2, 3]"
      ]
     },
     "execution_count": 25,
     "metadata": {},
     "output_type": "execute_result"
    }
   ],
   "source": [
    "some_list[1:4]"
   ]
  },
  {
   "cell_type": "code",
   "execution_count": 26,
   "id": "a1d67f11",
   "metadata": {},
   "outputs": [
    {
     "data": {
      "text/plain": [
       "[1, 2, 3, 4, 5]"
      ]
     },
     "execution_count": 26,
     "metadata": {},
     "output_type": "execute_result"
    }
   ],
   "source": [
    "some_list[1:]"
   ]
  },
  {
   "cell_type": "code",
   "execution_count": 27,
   "id": "2711cc6c",
   "metadata": {},
   "outputs": [
    {
     "data": {
      "text/plain": [
       "[0, 1, 2, 3]"
      ]
     },
     "execution_count": 27,
     "metadata": {},
     "output_type": "execute_result"
    }
   ],
   "source": [
    "some_list[:4]"
   ]
  },
  {
   "cell_type": "code",
   "execution_count": 28,
   "id": "c5541293",
   "metadata": {},
   "outputs": [
    {
     "data": {
      "text/plain": [
       "[0, 1, 2, 3, 4]"
      ]
     },
     "execution_count": 28,
     "metadata": {},
     "output_type": "execute_result"
    }
   ],
   "source": [
    "some_list[:-1]"
   ]
  },
  {
   "cell_type": "code",
   "execution_count": 29,
   "id": "3c737f00",
   "metadata": {},
   "outputs": [
    {
     "data": {
      "text/plain": [
       "[1, 3]"
      ]
     },
     "execution_count": 29,
     "metadata": {},
     "output_type": "execute_result"
    }
   ],
   "source": [
    "some_list[1:4:2]"
   ]
  },
  {
   "cell_type": "code",
   "execution_count": 30,
   "id": "9eeafdfe",
   "metadata": {},
   "outputs": [
    {
     "data": {
      "text/plain": [
       "tensor([[4., 1.],\n",
       "        [5., 3.],\n",
       "        [2., 1.]])"
      ]
     },
     "execution_count": 30,
     "metadata": {},
     "output_type": "execute_result"
    }
   ],
   "source": [
    "points"
   ]
  },
  {
   "cell_type": "code",
   "execution_count": 31,
   "id": "6ca2c725",
   "metadata": {},
   "outputs": [
    {
     "data": {
      "text/plain": [
       "tensor([[5., 3.],\n",
       "        [2., 1.]])"
      ]
     },
     "execution_count": 31,
     "metadata": {},
     "output_type": "execute_result"
    }
   ],
   "source": [
    "points[1:]"
   ]
  },
  {
   "cell_type": "code",
   "execution_count": 32,
   "id": "84462206",
   "metadata": {},
   "outputs": [
    {
     "data": {
      "text/plain": [
       "tensor([[5., 3.],\n",
       "        [2., 1.]])"
      ]
     },
     "execution_count": 32,
     "metadata": {},
     "output_type": "execute_result"
    }
   ],
   "source": [
    "points[1:, :]"
   ]
  },
  {
   "cell_type": "code",
   "execution_count": 33,
   "id": "ca60d83a",
   "metadata": {},
   "outputs": [
    {
     "data": {
      "text/plain": [
       "tensor([5., 2.])"
      ]
     },
     "execution_count": 33,
     "metadata": {},
     "output_type": "execute_result"
    }
   ],
   "source": [
    "points[1:, 0]"
   ]
  },
  {
   "cell_type": "code",
   "execution_count": 34,
   "id": "8636df31",
   "metadata": {},
   "outputs": [
    {
     "data": {
      "text/plain": [
       "tensor([[[4., 1.],\n",
       "         [5., 3.],\n",
       "         [2., 1.]]])"
      ]
     },
     "execution_count": 34,
     "metadata": {},
     "output_type": "execute_result"
    }
   ],
   "source": [
    "points[None]"
   ]
  },
  {
   "cell_type": "markdown",
   "id": "864b513e",
   "metadata": {},
   "source": [
    "### Поименованные тензоры"
   ]
  },
  {
   "cell_type": "code",
   "execution_count": 35,
   "id": "c9c7194c",
   "metadata": {},
   "outputs": [],
   "source": [
    "img_t = torch.randn(3, 5, 5)"
   ]
  },
  {
   "cell_type": "code",
   "execution_count": 36,
   "id": "3522bb30",
   "metadata": {},
   "outputs": [
    {
     "data": {
      "text/plain": [
       "tensor([[[ 2.0594, -1.1983,  0.3290, -1.8601,  0.0486],\n",
       "         [-0.1446, -0.1555,  0.2338, -0.5177,  0.2297],\n",
       "         [ 0.2306,  1.9629,  0.9200, -0.7424, -0.2412],\n",
       "         [ 1.5311, -0.6206, -0.5839,  1.1726,  0.9414],\n",
       "         [-1.0170,  0.4645,  2.3899,  0.0085, -0.0201]],\n",
       "\n",
       "        [[ 0.5855, -0.1619, -0.9564,  1.4804, -0.0721],\n",
       "         [ 0.4158, -1.1565,  0.5702,  0.0207,  1.9903],\n",
       "         [ 0.9842,  0.1993, -0.7904,  1.1505, -0.2505],\n",
       "         [ 0.0432, -0.5206, -1.9137, -1.3364, -0.6051],\n",
       "         [ 0.4096, -0.1794, -0.6533,  1.6545,  0.0710]],\n",
       "\n",
       "        [[ 0.8793, -1.3736, -0.0309,  1.4345,  0.2535],\n",
       "         [-0.3127, -1.9432,  1.0717,  0.9928,  1.3696],\n",
       "         [-0.1957,  0.1714,  0.3461, -0.7151,  1.4787],\n",
       "         [ 0.0750, -0.3427,  1.1853, -0.9801, -1.1877],\n",
       "         [-1.6335, -0.0916,  1.3507, -0.5809,  0.2856]]])"
      ]
     },
     "execution_count": 36,
     "metadata": {},
     "output_type": "execute_result"
    }
   ],
   "source": [
    "img_t"
   ]
  },
  {
   "cell_type": "code",
   "execution_count": 37,
   "id": "77a48063",
   "metadata": {},
   "outputs": [],
   "source": [
    "weights = torch.tensor([0.2126, 0.7152, 0.0722])"
   ]
  },
  {
   "cell_type": "code",
   "execution_count": 38,
   "id": "6f39c0b6",
   "metadata": {},
   "outputs": [
    {
     "data": {
      "text/plain": [
       "tensor([0.2126, 0.7152, 0.0722])"
      ]
     },
     "execution_count": 38,
     "metadata": {},
     "output_type": "execute_result"
    }
   ],
   "source": [
    "weights"
   ]
  },
  {
   "cell_type": "code",
   "execution_count": 39,
   "id": "af21d6d2",
   "metadata": {},
   "outputs": [],
   "source": [
    "batch_t = torch.randn(2, 3, 5, 5)"
   ]
  },
  {
   "cell_type": "code",
   "execution_count": 40,
   "id": "f6c0719f",
   "metadata": {},
   "outputs": [
    {
     "data": {
      "text/plain": [
       "tensor([[[[-0.9885,  1.9630, -0.3908,  0.2852,  0.4944],\n",
       "          [ 0.8555, -2.8186, -2.7398, -1.3005,  0.0116],\n",
       "          [ 0.1138, -0.5771, -1.9207, -1.5538, -1.2930],\n",
       "          [ 0.6696, -3.1920,  0.1101, -0.1137, -1.3891],\n",
       "          [-0.3104, -0.6786,  0.7506, -0.9528, -0.7794]],\n",
       "\n",
       "         [[-0.4446, -0.6219, -0.9445, -0.1244, -0.9197],\n",
       "          [ 0.6699, -1.0939, -0.9634, -1.5145, -1.2606],\n",
       "          [ 0.3408,  0.3088,  0.8663,  0.0494, -0.1625],\n",
       "          [ 0.6670,  2.1474,  0.4168, -1.2767, -1.1116],\n",
       "          [ 1.8378,  0.5856, -0.8848, -0.7889,  0.6737]],\n",
       "\n",
       "         [[ 1.7250, -1.1393, -0.1125, -1.2075, -0.2323],\n",
       "          [ 0.0321, -1.0588,  2.0203,  0.3832, -0.3045],\n",
       "          [-0.5751,  1.4706, -1.3102,  0.6328,  0.0070],\n",
       "          [-1.2212, -0.8246, -0.9820,  0.0082, -1.8507],\n",
       "          [ 0.9813, -0.3749,  0.8862,  0.7321, -1.4280]]],\n",
       "\n",
       "\n",
       "        [[[ 0.1449,  1.5068,  0.9217, -1.8479,  1.0136],\n",
       "          [-0.7324, -0.9941,  0.2639, -1.1473,  1.8293],\n",
       "          [ 0.4612, -0.3990,  1.1537,  0.1610, -0.6567],\n",
       "          [-0.2364,  0.6748,  0.1971,  0.1076, -0.2039],\n",
       "          [ 2.0561,  0.8152,  0.9579, -0.7875, -0.5983]],\n",
       "\n",
       "         [[ 0.4513,  0.9503, -1.1521,  0.8446, -0.5790],\n",
       "          [ 0.0125,  0.4914,  0.0417,  0.9980, -0.8396],\n",
       "          [-1.0326,  0.1460, -0.3606, -0.5655,  0.1514],\n",
       "          [ 0.9504,  0.5288, -0.3391,  0.3140, -0.1934],\n",
       "          [ 0.5120, -1.9156, -1.1471,  0.6173,  0.5344]],\n",
       "\n",
       "         [[-1.5759,  0.7904, -0.7112, -1.8160,  0.7615],\n",
       "          [-0.9844, -0.0767,  0.9513, -0.7953,  0.7235],\n",
       "          [-0.8723, -0.2283,  0.8354, -0.1293, -0.9481],\n",
       "          [ 1.1289,  1.9095,  0.4650, -1.1394, -0.4934],\n",
       "          [-0.2917, -0.4324,  0.2073,  0.6998, -1.9499]]]])"
      ]
     },
     "execution_count": 40,
     "metadata": {},
     "output_type": "execute_result"
    }
   ],
   "source": [
    "batch_t"
   ]
  },
  {
   "cell_type": "code",
   "execution_count": 41,
   "id": "cd218f11",
   "metadata": {},
   "outputs": [],
   "source": [
    "img_gray_naive = img_t.mean(-3)"
   ]
  },
  {
   "cell_type": "code",
   "execution_count": 42,
   "id": "c32d3c52",
   "metadata": {},
   "outputs": [
    {
     "data": {
      "text/plain": [
       "tensor([[ 1.1747, -0.9113, -0.2194,  0.3516,  0.0767],\n",
       "        [-0.0138, -1.0851,  0.6253,  0.1653,  1.1965],\n",
       "        [ 0.3397,  0.7779,  0.1586, -0.1023,  0.3290],\n",
       "        [ 0.5497, -0.4946, -0.4374, -0.3813, -0.2838],\n",
       "        [-0.7470,  0.0645,  1.0291,  0.3607,  0.1122]])"
      ]
     },
     "execution_count": 42,
     "metadata": {},
     "output_type": "execute_result"
    }
   ],
   "source": [
    "img_gray_naive"
   ]
  },
  {
   "cell_type": "code",
   "execution_count": 43,
   "id": "1da0a599",
   "metadata": {},
   "outputs": [],
   "source": [
    "batch_gray_naive = batch_t.mean(-3)"
   ]
  },
  {
   "cell_type": "code",
   "execution_count": 44,
   "id": "8c907414",
   "metadata": {},
   "outputs": [
    {
     "data": {
      "text/plain": [
       "tensor([[[ 0.0973,  0.0673, -0.4826, -0.3489, -0.2192],\n",
       "         [ 0.5192, -1.6571, -0.5610, -0.8106, -0.5178],\n",
       "         [-0.0402,  0.4008, -0.7882, -0.2906, -0.4828],\n",
       "         [ 0.0385, -0.6231, -0.1517, -0.4607, -1.4505],\n",
       "         [ 0.8362, -0.1560,  0.2506, -0.3365, -0.5112]],\n",
       "\n",
       "        [[-0.3266,  1.0825, -0.3139, -0.9398,  0.3987],\n",
       "         [-0.5681, -0.1931,  0.4190, -0.3149,  0.5711],\n",
       "         [-0.4812, -0.1604,  0.5428, -0.1779, -0.4844],\n",
       "         [ 0.6143,  1.0377,  0.1077, -0.2393, -0.2969],\n",
       "         [ 0.7588, -0.5109,  0.0060,  0.1765, -0.6712]]])"
      ]
     },
     "execution_count": 44,
     "metadata": {},
     "output_type": "execute_result"
    }
   ],
   "source": [
    "batch_gray_naive"
   ]
  },
  {
   "cell_type": "code",
   "execution_count": 45,
   "id": "ee10b0c7",
   "metadata": {},
   "outputs": [
    {
     "data": {
      "text/plain": [
       "(torch.Size([5, 5]), torch.Size([2, 5, 5]))"
      ]
     },
     "execution_count": 45,
     "metadata": {},
     "output_type": "execute_result"
    }
   ],
   "source": [
    "img_gray_naive.shape, batch_gray_naive.shape"
   ]
  },
  {
   "cell_type": "code",
   "execution_count": 46,
   "id": "e864f74c",
   "metadata": {},
   "outputs": [],
   "source": [
    "unsqueezed_weights = weights.unsqueeze(-1).unsqueeze_(-1)"
   ]
  },
  {
   "cell_type": "code",
   "execution_count": 47,
   "id": "e7e3ddea",
   "metadata": {},
   "outputs": [
    {
     "data": {
      "text/plain": [
       "tensor([[[0.2126]],\n",
       "\n",
       "        [[0.7152]],\n",
       "\n",
       "        [[0.0722]]])"
      ]
     },
     "execution_count": 47,
     "metadata": {},
     "output_type": "execute_result"
    }
   ],
   "source": [
    "unsqueezed_weights"
   ]
  },
  {
   "cell_type": "code",
   "execution_count": 48,
   "id": "45089068",
   "metadata": {},
   "outputs": [],
   "source": [
    "img_weights = (img_t * unsqueezed_weights)"
   ]
  },
  {
   "cell_type": "code",
   "execution_count": 49,
   "id": "732a5260",
   "metadata": {},
   "outputs": [
    {
     "data": {
      "text/plain": [
       "tensor([[[ 0.4378, -0.2548,  0.0700, -0.3955,  0.0103],\n",
       "         [-0.0307, -0.0331,  0.0497, -0.1101,  0.0488],\n",
       "         [ 0.0490,  0.4173,  0.1956, -0.1578, -0.0513],\n",
       "         [ 0.3255, -0.1319, -0.1241,  0.2493,  0.2001],\n",
       "         [-0.2162,  0.0988,  0.5081,  0.0018, -0.0043]],\n",
       "\n",
       "        [[ 0.4187, -0.1158, -0.6840,  1.0588, -0.0516],\n",
       "         [ 0.2974, -0.8271,  0.4078,  0.0148,  1.4234],\n",
       "         [ 0.7039,  0.1426, -0.5653,  0.8228, -0.1791],\n",
       "         [ 0.0309, -0.3723, -1.3687, -0.9558, -0.4328],\n",
       "         [ 0.2930, -0.1283, -0.4672,  1.1833,  0.0508]],\n",
       "\n",
       "        [[ 0.0635, -0.0992, -0.0022,  0.1036,  0.0183],\n",
       "         [-0.0226, -0.1403,  0.0774,  0.0717,  0.0989],\n",
       "         [-0.0141,  0.0124,  0.0250, -0.0516,  0.1068],\n",
       "         [ 0.0054, -0.0247,  0.0856, -0.0708, -0.0858],\n",
       "         [-0.1179, -0.0066,  0.0975, -0.0419,  0.0206]]])"
      ]
     },
     "execution_count": 49,
     "metadata": {},
     "output_type": "execute_result"
    }
   ],
   "source": [
    "img_weights"
   ]
  },
  {
   "cell_type": "code",
   "execution_count": 50,
   "id": "38c48f02",
   "metadata": {},
   "outputs": [],
   "source": [
    "batch_weights = (batch_t * unsqueezed_weights)"
   ]
  },
  {
   "cell_type": "code",
   "execution_count": 51,
   "id": "541607cf",
   "metadata": {},
   "outputs": [
    {
     "data": {
      "text/plain": [
       "tensor([[[[-2.1015e-01,  4.1734e-01, -8.3089e-02,  6.0628e-02,  1.0511e-01],\n",
       "          [ 1.8188e-01, -5.9923e-01, -5.8248e-01, -2.7649e-01,  2.4652e-03],\n",
       "          [ 2.4196e-02, -1.2270e-01, -4.0834e-01, -3.3035e-01, -2.7489e-01],\n",
       "          [ 1.4236e-01, -6.7862e-01,  2.3400e-02, -2.4179e-02, -2.9533e-01],\n",
       "          [-6.5992e-02, -1.4427e-01,  1.5957e-01, -2.0256e-01, -1.6570e-01]],\n",
       "\n",
       "         [[-3.1801e-01, -4.4479e-01, -6.7553e-01, -8.8936e-02, -6.5775e-01],\n",
       "          [ 4.7914e-01, -7.8235e-01, -6.8901e-01, -1.0832e+00, -9.0162e-01],\n",
       "          [ 2.4374e-01,  2.2087e-01,  6.1959e-01,  3.5302e-02, -1.1625e-01],\n",
       "          [ 4.7707e-01,  1.5358e+00,  2.9812e-01, -9.1311e-01, -7.9504e-01],\n",
       "          [ 1.3144e+00,  4.1882e-01, -6.3283e-01, -5.6420e-01,  4.8183e-01]],\n",
       "\n",
       "         [[ 1.2455e-01, -8.2260e-02, -8.1206e-03, -8.7183e-02, -1.6771e-02],\n",
       "          [ 2.3161e-03, -7.6444e-02,  1.4587e-01,  2.7668e-02, -2.1984e-02],\n",
       "          [-4.1522e-02,  1.0618e-01, -9.4599e-02,  4.5685e-02,  5.0887e-04],\n",
       "          [-8.8172e-02, -5.9539e-02, -7.0898e-02,  5.9447e-04, -1.3362e-01],\n",
       "          [ 7.0853e-02, -2.7070e-02,  6.3984e-02,  5.2856e-02, -1.0310e-01]]],\n",
       "\n",
       "\n",
       "        [[[ 3.0798e-02,  3.2034e-01,  1.9595e-01, -3.9287e-01,  2.1548e-01],\n",
       "          [-1.5571e-01, -2.1135e-01,  5.6110e-02, -2.4392e-01,  3.8892e-01],\n",
       "          [ 9.8055e-02, -8.4831e-02,  2.4527e-01,  3.4228e-02, -1.3961e-01],\n",
       "          [-5.0254e-02,  1.4347e-01,  4.1910e-02,  2.2866e-02, -4.3349e-02],\n",
       "          [ 4.3712e-01,  1.7331e-01,  2.0366e-01, -1.6742e-01, -1.2719e-01]],\n",
       "\n",
       "         [[ 3.2279e-01,  6.7964e-01, -8.2400e-01,  6.0409e-01, -4.1413e-01],\n",
       "          [ 8.9453e-03,  3.5145e-01,  2.9813e-02,  7.1380e-01, -6.0050e-01],\n",
       "          [-7.3854e-01,  1.0443e-01, -2.5790e-01, -4.0444e-01,  1.0832e-01],\n",
       "          [ 6.7969e-01,  3.7819e-01, -2.4252e-01,  2.2458e-01, -1.3833e-01],\n",
       "          [ 3.6618e-01, -1.3700e+00, -8.2043e-01,  4.4149e-01,  3.8221e-01]],\n",
       "\n",
       "         [[-1.1378e-01,  5.7069e-02, -5.1347e-02, -1.3111e-01,  5.4984e-02],\n",
       "          [-7.1071e-02, -5.5399e-03,  6.8683e-02, -5.7423e-02,  5.2239e-02],\n",
       "          [-6.2979e-02, -1.6481e-02,  6.0319e-02, -9.3365e-03, -6.8453e-02],\n",
       "          [ 8.1508e-02,  1.3786e-01,  3.3570e-02, -8.2265e-02, -3.5622e-02],\n",
       "          [-2.1060e-02, -3.1221e-02,  1.4969e-02,  5.0524e-02, -1.4078e-01]]]])"
      ]
     },
     "execution_count": 51,
     "metadata": {},
     "output_type": "execute_result"
    }
   ],
   "source": [
    "batch_weights"
   ]
  },
  {
   "cell_type": "code",
   "execution_count": 52,
   "id": "c5249079",
   "metadata": {},
   "outputs": [],
   "source": [
    "img_gray_weighted = img_weights.sum(-3)"
   ]
  },
  {
   "cell_type": "code",
   "execution_count": 53,
   "id": "0dd43850",
   "metadata": {},
   "outputs": [
    {
     "data": {
      "text/plain": [
       "tensor([[ 0.9201, -0.4697, -0.6163,  0.7669, -0.0229],\n",
       "        [ 0.2440, -1.0005,  0.5349, -0.0236,  1.5711],\n",
       "        [ 0.7388,  0.5723, -0.3447,  0.6134, -0.1237],\n",
       "        [ 0.3618, -0.5290, -1.4072, -0.7772, -0.3184],\n",
       "        [-0.0412, -0.0361,  0.1384,  1.1431,  0.0671]])"
      ]
     },
     "execution_count": 53,
     "metadata": {},
     "output_type": "execute_result"
    }
   ],
   "source": [
    "img_gray_weighted"
   ]
  },
  {
   "cell_type": "code",
   "execution_count": 54,
   "id": "7f847441",
   "metadata": {},
   "outputs": [],
   "source": [
    "batch_gray_weighted = batch_weights.sum(-3)"
   ]
  },
  {
   "cell_type": "code",
   "execution_count": 55,
   "id": "e0da55b0",
   "metadata": {},
   "outputs": [
    {
     "data": {
      "text/plain": [
       "tensor([[[-0.4036, -0.1097, -0.7667, -0.1155, -0.5694],\n",
       "         [ 0.6633, -1.4580, -1.1256, -1.3320, -0.9211],\n",
       "         [ 0.2264,  0.2043,  0.1166, -0.2494, -0.3906],\n",
       "         [ 0.5313,  0.7976,  0.2506, -0.9367, -1.2240],\n",
       "         [ 1.3192,  0.2475, -0.4093, -0.7139,  0.2130]],\n",
       "\n",
       "        [[ 0.2398,  1.0571, -0.6794,  0.0801, -0.1437],\n",
       "         [-0.2178,  0.1346,  0.1546,  0.4125, -0.1593],\n",
       "         [-0.7035,  0.0031,  0.0477, -0.3795, -0.0997],\n",
       "         [ 0.7109,  0.6595, -0.1670,  0.1652, -0.2173],\n",
       "         [ 0.7822, -1.2279, -0.6018,  0.3246,  0.1142]]])"
      ]
     },
     "execution_count": 55,
     "metadata": {},
     "output_type": "execute_result"
    }
   ],
   "source": [
    "batch_gray_weighted"
   ]
  },
  {
   "cell_type": "code",
   "execution_count": 56,
   "id": "c5675262",
   "metadata": {},
   "outputs": [
    {
     "data": {
      "text/plain": [
       "(torch.Size([2, 3, 5, 5]), torch.Size([2, 3, 5, 5]), torch.Size([3, 1, 1]))"
      ]
     },
     "execution_count": 56,
     "metadata": {},
     "output_type": "execute_result"
    }
   ],
   "source": [
    "batch_weights.shape, batch_t.shape, unsqueezed_weights.shape"
   ]
  },
  {
   "cell_type": "code",
   "execution_count": 57,
   "id": "5e97c0c4",
   "metadata": {},
   "outputs": [
    {
     "data": {
      "text/plain": [
       "torch.Size([2, 5, 5])"
      ]
     },
     "execution_count": 57,
     "metadata": {},
     "output_type": "execute_result"
    }
   ],
   "source": [
    "img_gray_weighted_fancy = torch.einsum('...chw,c->...hw', img_t, weights)\n",
    "batch_gray_weighted_fancy = torch.einsum('...chw,c->...hw', batch_t, weights)\n",
    "batch_gray_weighted_fancy.shape"
   ]
  },
  {
   "cell_type": "code",
   "execution_count": 58,
   "id": "d06adadd",
   "metadata": {},
   "outputs": [
    {
     "data": {
      "text/plain": [
       "tensor([[ 0.9201, -0.4697, -0.6163,  0.7669, -0.0229],\n",
       "        [ 0.2440, -1.0005,  0.5349, -0.0236,  1.5711],\n",
       "        [ 0.7388,  0.5723, -0.3447,  0.6134, -0.1237],\n",
       "        [ 0.3618, -0.5290, -1.4072, -0.7772, -0.3184],\n",
       "        [-0.0412, -0.0361,  0.1384,  1.1431,  0.0671]])"
      ]
     },
     "execution_count": 58,
     "metadata": {},
     "output_type": "execute_result"
    }
   ],
   "source": [
    "img_gray_weighted_fancy"
   ]
  },
  {
   "cell_type": "code",
   "execution_count": 59,
   "id": "f1fe89dc",
   "metadata": {},
   "outputs": [
    {
     "name": "stderr",
     "output_type": "stream",
     "text": [
      "/var/folders/yj/05csyfjn179703hvgy2jqdqm0000gn/T/ipykernel_98677/1901091524.py:1: UserWarning: Named tensors and all their associated APIs are an experimental feature and subject to change. Please do not use them for anything important until they are released as stable. (Triggered internally at /Users/runner/work/pytorch/pytorch/pytorch/c10/core/TensorImpl.h:1911.)\n",
      "  weights_named = torch.tensor([0.2126, 0.7152, 0.0722], names=['channels'])\n"
     ]
    }
   ],
   "source": [
    "weights_named = torch.tensor([0.2126, 0.7152, 0.0722], names=['channels'])"
   ]
  },
  {
   "cell_type": "code",
   "execution_count": 60,
   "id": "f33891a3",
   "metadata": {},
   "outputs": [
    {
     "data": {
      "text/plain": [
       "tensor([0.2126, 0.7152, 0.0722], names=('channels',))"
      ]
     },
     "execution_count": 60,
     "metadata": {},
     "output_type": "execute_result"
    }
   ],
   "source": [
    "weights_named"
   ]
  },
  {
   "cell_type": "code",
   "execution_count": 61,
   "id": "380e6b90",
   "metadata": {},
   "outputs": [
    {
     "name": "stdout",
     "output_type": "stream",
     "text": [
      "img named: torch.Size([3, 5, 5]) ('channels', 'rows', 'columns')\n",
      "batch named: torch.Size([2, 3, 5, 5]) (None, 'channels', 'rows', 'columns')\n"
     ]
    }
   ],
   "source": [
    "img_named = img_t.refine_names(..., 'channels', 'rows', 'columns')\n",
    "batch_named = batch_t.refine_names(..., 'channels', 'rows', 'columns')\n",
    "print(\"img named:\", img_named.shape, img_named.names)\n",
    "print(\"batch named:\", batch_named.shape, batch_named.names)"
   ]
  },
  {
   "cell_type": "code",
   "execution_count": 62,
   "id": "9a738cc2",
   "metadata": {},
   "outputs": [
    {
     "data": {
      "text/plain": [
       "(torch.Size([3, 1, 1]), ('channels', 'rows', 'columns'))"
      ]
     },
     "execution_count": 62,
     "metadata": {},
     "output_type": "execute_result"
    }
   ],
   "source": [
    "weights_aligned = weights_named.align_as(img_named)\n",
    "weights_aligned.shape, weights_aligned.names"
   ]
  },
  {
   "cell_type": "code",
   "execution_count": 63,
   "id": "e3c139de",
   "metadata": {},
   "outputs": [
    {
     "data": {
      "text/plain": [
       "tensor([[[ 2.0594, -1.1983,  0.3290, -1.8601,  0.0486],\n",
       "         [-0.1446, -0.1555,  0.2338, -0.5177,  0.2297],\n",
       "         [ 0.2306,  1.9629,  0.9200, -0.7424, -0.2412],\n",
       "         [ 1.5311, -0.6206, -0.5839,  1.1726,  0.9414],\n",
       "         [-1.0170,  0.4645,  2.3899,  0.0085, -0.0201]],\n",
       "\n",
       "        [[ 0.5855, -0.1619, -0.9564,  1.4804, -0.0721],\n",
       "         [ 0.4158, -1.1565,  0.5702,  0.0207,  1.9903],\n",
       "         [ 0.9842,  0.1993, -0.7904,  1.1505, -0.2505],\n",
       "         [ 0.0432, -0.5206, -1.9137, -1.3364, -0.6051],\n",
       "         [ 0.4096, -0.1794, -0.6533,  1.6545,  0.0710]],\n",
       "\n",
       "        [[ 0.8793, -1.3736, -0.0309,  1.4345,  0.2535],\n",
       "         [-0.3127, -1.9432,  1.0717,  0.9928,  1.3696],\n",
       "         [-0.1957,  0.1714,  0.3461, -0.7151,  1.4787],\n",
       "         [ 0.0750, -0.3427,  1.1853, -0.9801, -1.1877],\n",
       "         [-1.6335, -0.0916,  1.3507, -0.5809,  0.2856]]],\n",
       "       names=('channels', 'rows', 'columns'))"
      ]
     },
     "execution_count": 63,
     "metadata": {},
     "output_type": "execute_result"
    }
   ],
   "source": [
    "img_named"
   ]
  },
  {
   "cell_type": "code",
   "execution_count": 64,
   "id": "d9bb6ce7",
   "metadata": {},
   "outputs": [
    {
     "data": {
      "text/plain": [
       "(torch.Size([5, 5]), ('rows', 'columns'))"
      ]
     },
     "execution_count": 64,
     "metadata": {},
     "output_type": "execute_result"
    }
   ],
   "source": [
    "gray_named = (img_named * weights_aligned).sum('channels')\n",
    "gray_named.shape, gray_named.names"
   ]
  },
  {
   "cell_type": "code",
   "execution_count": 65,
   "id": "6322fc8d",
   "metadata": {},
   "outputs": [
    {
     "data": {
      "text/plain": [
       "tensor([[ 0.9201, -0.4697, -0.6163,  0.7669, -0.0229],\n",
       "        [ 0.2440, -1.0005,  0.5349, -0.0236,  1.5711],\n",
       "        [ 0.7388,  0.5723, -0.3447,  0.6134, -0.1237],\n",
       "        [ 0.3618, -0.5290, -1.4072, -0.7772, -0.3184],\n",
       "        [-0.0412, -0.0361,  0.1384,  1.1431,  0.0671]],\n",
       "       names=('rows', 'columns'))"
      ]
     },
     "execution_count": 65,
     "metadata": {},
     "output_type": "execute_result"
    }
   ],
   "source": [
    "gray_named"
   ]
  },
  {
   "cell_type": "code",
   "execution_count": 66,
   "id": "7d704431",
   "metadata": {},
   "outputs": [
    {
     "data": {
      "text/plain": [
       "(torch.Size([5, 5]), (None, None))"
      ]
     },
     "execution_count": 66,
     "metadata": {},
     "output_type": "execute_result"
    }
   ],
   "source": [
    "gray_plain = gray_named.rename(None)\n",
    "gray_plain.shape, gray_plain.names"
   ]
  },
  {
   "cell_type": "markdown",
   "id": "1a52d976",
   "metadata": {},
   "source": [
    "### Работа с атрибутом dtype тензоров"
   ]
  },
  {
   "cell_type": "code",
   "execution_count": 67,
   "id": "2abd9350",
   "metadata": {},
   "outputs": [],
   "source": [
    "double_points = torch.ones(10, 2, dtype=torch.double)"
   ]
  },
  {
   "cell_type": "code",
   "execution_count": 68,
   "id": "e0de1c2c",
   "metadata": {},
   "outputs": [
    {
     "data": {
      "text/plain": [
       "tensor([[1., 1.],\n",
       "        [1., 1.],\n",
       "        [1., 1.],\n",
       "        [1., 1.],\n",
       "        [1., 1.],\n",
       "        [1., 1.],\n",
       "        [1., 1.],\n",
       "        [1., 1.],\n",
       "        [1., 1.],\n",
       "        [1., 1.]], dtype=torch.float64)"
      ]
     },
     "execution_count": 68,
     "metadata": {},
     "output_type": "execute_result"
    }
   ],
   "source": [
    "double_points"
   ]
  },
  {
   "cell_type": "code",
   "execution_count": 69,
   "id": "6302d30a",
   "metadata": {},
   "outputs": [],
   "source": [
    "short_points = torch.tensor([[1, 2], [3, 4]], dtype=torch.short)"
   ]
  },
  {
   "cell_type": "code",
   "execution_count": 70,
   "id": "e9d4f4aa",
   "metadata": {},
   "outputs": [
    {
     "data": {
      "text/plain": [
       "tensor([[1, 2],\n",
       "        [3, 4]], dtype=torch.int16)"
      ]
     },
     "execution_count": 70,
     "metadata": {},
     "output_type": "execute_result"
    }
   ],
   "source": [
    "short_points"
   ]
  },
  {
   "cell_type": "code",
   "execution_count": 71,
   "id": "0231232f",
   "metadata": {},
   "outputs": [],
   "source": [
    "double_points = torch.zeros(10, 2).double()"
   ]
  },
  {
   "cell_type": "code",
   "execution_count": 72,
   "id": "6fc9538f",
   "metadata": {},
   "outputs": [],
   "source": [
    "double_points = torch.ones(10, 2).short()"
   ]
  },
  {
   "cell_type": "code",
   "execution_count": 73,
   "id": "4aefc40f",
   "metadata": {},
   "outputs": [],
   "source": [
    "double_points = torch.zeros(10, 2).to(torch.double)"
   ]
  },
  {
   "cell_type": "code",
   "execution_count": 74,
   "id": "519f52f6",
   "metadata": {},
   "outputs": [],
   "source": [
    "double_points = torch.ones(10, 2).to(torch.short)"
   ]
  },
  {
   "cell_type": "code",
   "execution_count": 75,
   "id": "d204d889",
   "metadata": {},
   "outputs": [],
   "source": [
    "points_64 = torch.rand(5, dtype=torch.double)"
   ]
  },
  {
   "cell_type": "code",
   "execution_count": 76,
   "id": "d866ba11",
   "metadata": {},
   "outputs": [
    {
     "data": {
      "text/plain": [
       "tensor([0.4884, 0.2814, 0.9483, 0.8298, 0.8415], dtype=torch.float64)"
      ]
     },
     "execution_count": 76,
     "metadata": {},
     "output_type": "execute_result"
    }
   ],
   "source": [
    "points_64"
   ]
  },
  {
   "cell_type": "code",
   "execution_count": 77,
   "id": "b55994b2",
   "metadata": {},
   "outputs": [],
   "source": [
    "points_short = points_64.to(torch.short)"
   ]
  },
  {
   "cell_type": "code",
   "execution_count": 78,
   "id": "431a9a09",
   "metadata": {},
   "outputs": [
    {
     "data": {
      "text/plain": [
       "tensor([0, 0, 0, 0, 0], dtype=torch.int16)"
      ]
     },
     "execution_count": 78,
     "metadata": {},
     "output_type": "execute_result"
    }
   ],
   "source": [
    "points_short"
   ]
  },
  {
   "cell_type": "code",
   "execution_count": 79,
   "id": "2809d614",
   "metadata": {},
   "outputs": [
    {
     "data": {
      "text/plain": [
       "tensor([0., 0., 0., 0., 0.], dtype=torch.float64)"
      ]
     },
     "execution_count": 79,
     "metadata": {},
     "output_type": "execute_result"
    }
   ],
   "source": [
    "points_64 * points_short"
   ]
  },
  {
   "cell_type": "markdown",
   "id": "b5c51ef9",
   "metadata": {},
   "source": [
    "### API тензоров"
   ]
  },
  {
   "cell_type": "code",
   "execution_count": 80,
   "id": "96919bc9",
   "metadata": {},
   "outputs": [],
   "source": [
    "a = torch.ones(3, 2)"
   ]
  },
  {
   "cell_type": "code",
   "execution_count": 81,
   "id": "1319c309",
   "metadata": {},
   "outputs": [],
   "source": [
    "a_t = torch.transpose(a, 0, 1)"
   ]
  },
  {
   "cell_type": "code",
   "execution_count": 82,
   "id": "b6068b70",
   "metadata": {},
   "outputs": [
    {
     "data": {
      "text/plain": [
       "(torch.Size([3, 2]), torch.Size([2, 3]))"
      ]
     },
     "execution_count": 82,
     "metadata": {},
     "output_type": "execute_result"
    }
   ],
   "source": [
    "a.shape, a_t.shape"
   ]
  },
  {
   "cell_type": "code",
   "execution_count": 83,
   "id": "c0c73299",
   "metadata": {},
   "outputs": [
    {
     "data": {
      "text/plain": [
       "tensor([[1., 1., 1.],\n",
       "        [1., 1., 1.]])"
      ]
     },
     "execution_count": 83,
     "metadata": {},
     "output_type": "execute_result"
    }
   ],
   "source": [
    "a_t"
   ]
  },
  {
   "cell_type": "code",
   "execution_count": 84,
   "id": "1ed1bef1",
   "metadata": {},
   "outputs": [],
   "source": [
    "a = torch.ones(3, 2)"
   ]
  },
  {
   "cell_type": "code",
   "execution_count": 85,
   "id": "337d20a0",
   "metadata": {},
   "outputs": [],
   "source": [
    "a_t = a.transpose(0, 1)"
   ]
  },
  {
   "cell_type": "code",
   "execution_count": 86,
   "id": "de5a656d",
   "metadata": {},
   "outputs": [
    {
     "data": {
      "text/plain": [
       "(torch.Size([3, 2]), torch.Size([2, 3]))"
      ]
     },
     "execution_count": 86,
     "metadata": {},
     "output_type": "execute_result"
    }
   ],
   "source": [
    "a.shape, a_t.shape"
   ]
  },
  {
   "cell_type": "markdown",
   "id": "76d83c5e",
   "metadata": {},
   "source": [
    "### Доступ к хранилищу по индексу"
   ]
  },
  {
   "cell_type": "code",
   "execution_count": 87,
   "id": "d3d9997e",
   "metadata": {},
   "outputs": [],
   "source": [
    "points = torch.tensor([[4.0, 1.0], [5.0, 3.0], [2.0, 1.0]])"
   ]
  },
  {
   "cell_type": "code",
   "execution_count": 88,
   "id": "4c6cb1ce",
   "metadata": {},
   "outputs": [
    {
     "name": "stderr",
     "output_type": "stream",
     "text": [
      "/var/folders/yj/05csyfjn179703hvgy2jqdqm0000gn/T/ipykernel_98677/2396954748.py:1: UserWarning: TypedStorage is deprecated. It will be removed in the future and UntypedStorage will be the only storage class. This should only matter to you if you are using storages directly.  To access UntypedStorage directly, use tensor.untyped_storage() instead of tensor.storage()\n",
      "  points.storage()\n"
     ]
    },
    {
     "data": {
      "text/plain": [
       " 4.0\n",
       " 1.0\n",
       " 5.0\n",
       " 3.0\n",
       " 2.0\n",
       " 1.0\n",
       "[torch.storage.TypedStorage(dtype=torch.float32, device=cpu) of size 6]"
      ]
     },
     "execution_count": 88,
     "metadata": {},
     "output_type": "execute_result"
    }
   ],
   "source": [
    "points.storage()"
   ]
  },
  {
   "cell_type": "code",
   "execution_count": 89,
   "id": "2113ac8e",
   "metadata": {},
   "outputs": [],
   "source": [
    "points_storage = points.storage()"
   ]
  },
  {
   "cell_type": "code",
   "execution_count": 90,
   "id": "494e4d82",
   "metadata": {},
   "outputs": [
    {
     "data": {
      "text/plain": [
       "4.0"
      ]
     },
     "execution_count": 90,
     "metadata": {},
     "output_type": "execute_result"
    }
   ],
   "source": [
    "points_storage[0]"
   ]
  },
  {
   "cell_type": "code",
   "execution_count": 91,
   "id": "5c47fa62",
   "metadata": {},
   "outputs": [
    {
     "data": {
      "text/plain": [
       "1.0"
      ]
     },
     "execution_count": 91,
     "metadata": {},
     "output_type": "execute_result"
    }
   ],
   "source": [
    "points.storage()[1]"
   ]
  },
  {
   "cell_type": "code",
   "execution_count": 92,
   "id": "d5851629",
   "metadata": {},
   "outputs": [],
   "source": [
    "points = torch.tensor([[4.0, 1.0], [5.0, 3.0], [2.0, 1.0]])\n",
    "points_storage = points.storage()\n",
    "points_storage[0] = 2.0"
   ]
  },
  {
   "cell_type": "code",
   "execution_count": 93,
   "id": "f08c3bc8",
   "metadata": {},
   "outputs": [
    {
     "data": {
      "text/plain": [
       "tensor([[2., 1.],\n",
       "        [5., 3.],\n",
       "        [2., 1.]])"
      ]
     },
     "execution_count": 93,
     "metadata": {},
     "output_type": "execute_result"
    }
   ],
   "source": [
    "points"
   ]
  },
  {
   "cell_type": "markdown",
   "id": "8357b7ec",
   "metadata": {},
   "source": [
    "### Модификация хранимых значений: операции с заменой на месте"
   ]
  },
  {
   "cell_type": "code",
   "execution_count": 94,
   "id": "6b286aba",
   "metadata": {},
   "outputs": [
    {
     "data": {
      "text/plain": [
       "tensor([[0., 0.],\n",
       "        [0., 0.],\n",
       "        [0., 0.]])"
      ]
     },
     "execution_count": 94,
     "metadata": {},
     "output_type": "execute_result"
    }
   ],
   "source": [
    "a = torch.ones(3, 2)\n",
    "a.zero_()"
   ]
  },
  {
   "cell_type": "markdown",
   "id": "5e9daf9f",
   "metadata": {},
   "source": [
    "### Представления хранилища другого тензора"
   ]
  },
  {
   "cell_type": "code",
   "execution_count": 95,
   "id": "8c13e92a",
   "metadata": {},
   "outputs": [],
   "source": [
    "points = torch.tensor([[4.0, 1.0], [5.0, 3.0], [2.0, 1.0]])"
   ]
  },
  {
   "cell_type": "code",
   "execution_count": 96,
   "id": "e7876585",
   "metadata": {},
   "outputs": [],
   "source": [
    "second_point = points[1]"
   ]
  },
  {
   "cell_type": "code",
   "execution_count": 97,
   "id": "03b2f75f",
   "metadata": {},
   "outputs": [
    {
     "data": {
      "text/plain": [
       "tensor([5., 3.])"
      ]
     },
     "execution_count": 97,
     "metadata": {},
     "output_type": "execute_result"
    }
   ],
   "source": [
    "second_point"
   ]
  },
  {
   "cell_type": "code",
   "execution_count": 98,
   "id": "9ef07279",
   "metadata": {},
   "outputs": [
    {
     "data": {
      "text/plain": [
       "2"
      ]
     },
     "execution_count": 98,
     "metadata": {},
     "output_type": "execute_result"
    }
   ],
   "source": [
    "second_point.storage_offset()"
   ]
  },
  {
   "cell_type": "code",
   "execution_count": 99,
   "id": "30d308c8",
   "metadata": {},
   "outputs": [
    {
     "data": {
      "text/plain": [
       "torch.Size([2])"
      ]
     },
     "execution_count": 99,
     "metadata": {},
     "output_type": "execute_result"
    }
   ],
   "source": [
    "second_point.size()"
   ]
  },
  {
   "cell_type": "code",
   "execution_count": 100,
   "id": "eb200892",
   "metadata": {},
   "outputs": [
    {
     "data": {
      "text/plain": [
       "torch.Size([2])"
      ]
     },
     "execution_count": 100,
     "metadata": {},
     "output_type": "execute_result"
    }
   ],
   "source": [
    "second_point.shape"
   ]
  },
  {
   "cell_type": "code",
   "execution_count": 101,
   "id": "27117aa9",
   "metadata": {},
   "outputs": [
    {
     "data": {
      "text/plain": [
       "(2, 1)"
      ]
     },
     "execution_count": 101,
     "metadata": {},
     "output_type": "execute_result"
    }
   ],
   "source": [
    "points.stride()"
   ]
  },
  {
   "cell_type": "code",
   "execution_count": 102,
   "id": "3b5e3caf",
   "metadata": {},
   "outputs": [
    {
     "data": {
      "text/plain": [
       "tensor([[4., 1.],\n",
       "        [5., 3.],\n",
       "        [2., 1.]])"
      ]
     },
     "execution_count": 102,
     "metadata": {},
     "output_type": "execute_result"
    }
   ],
   "source": [
    "points"
   ]
  },
  {
   "cell_type": "code",
   "execution_count": 103,
   "id": "1e8aeff7",
   "metadata": {},
   "outputs": [],
   "source": [
    "second_point = points[1]"
   ]
  },
  {
   "cell_type": "code",
   "execution_count": 104,
   "id": "38d60284",
   "metadata": {},
   "outputs": [
    {
     "data": {
      "text/plain": [
       "torch.Size([2])"
      ]
     },
     "execution_count": 104,
     "metadata": {},
     "output_type": "execute_result"
    }
   ],
   "source": [
    "second_point.size()"
   ]
  },
  {
   "cell_type": "code",
   "execution_count": 105,
   "id": "2ba14e86",
   "metadata": {},
   "outputs": [
    {
     "data": {
      "text/plain": [
       "2"
      ]
     },
     "execution_count": 105,
     "metadata": {},
     "output_type": "execute_result"
    }
   ],
   "source": [
    "second_point.storage_offset()"
   ]
  },
  {
   "cell_type": "code",
   "execution_count": 106,
   "id": "3c6fc861",
   "metadata": {},
   "outputs": [
    {
     "data": {
      "text/plain": [
       "(1,)"
      ]
     },
     "execution_count": 106,
     "metadata": {},
     "output_type": "execute_result"
    }
   ],
   "source": [
    "second_point.stride()"
   ]
  },
  {
   "cell_type": "code",
   "execution_count": 107,
   "id": "a6a264d8",
   "metadata": {},
   "outputs": [],
   "source": [
    "points = torch.tensor([[4.0, 1.0], [5.0, 3.0], [2.0, 1.0]])\n",
    "second_point = points[1]\n",
    "second_point[0] = 10.0"
   ]
  },
  {
   "cell_type": "code",
   "execution_count": 108,
   "id": "bf624c15",
   "metadata": {},
   "outputs": [
    {
     "data": {
      "text/plain": [
       "tensor([[ 4.,  1.],\n",
       "        [10.,  3.],\n",
       "        [ 2.,  1.]])"
      ]
     },
     "execution_count": 108,
     "metadata": {},
     "output_type": "execute_result"
    }
   ],
   "source": [
    "points"
   ]
  },
  {
   "cell_type": "code",
   "execution_count": 109,
   "id": "f1e28781",
   "metadata": {},
   "outputs": [],
   "source": [
    "points = torch.tensor([[4.0, 1.0], [5.0, 3.0], [2.0, 1.0]])\n",
    "second_point = points[1].clone()\n",
    "second_point[0] = 10.0"
   ]
  },
  {
   "cell_type": "code",
   "execution_count": 110,
   "id": "09105a2c",
   "metadata": {},
   "outputs": [
    {
     "data": {
      "text/plain": [
       "tensor([[4., 1.],\n",
       "        [5., 3.],\n",
       "        [2., 1.]])"
      ]
     },
     "execution_count": 110,
     "metadata": {},
     "output_type": "execute_result"
    }
   ],
   "source": [
    "points"
   ]
  },
  {
   "cell_type": "markdown",
   "id": "0ef9a28e",
   "metadata": {},
   "source": [
    "### Транспонирование без копирования"
   ]
  },
  {
   "cell_type": "code",
   "execution_count": 111,
   "id": "92af5bec",
   "metadata": {},
   "outputs": [],
   "source": [
    "points = torch.tensor([[4.0, 1.0], [5.0, 3.0], [2.0, 1.0]])"
   ]
  },
  {
   "cell_type": "code",
   "execution_count": 112,
   "id": "12868f63",
   "metadata": {},
   "outputs": [
    {
     "data": {
      "text/plain": [
       "tensor([[4., 1.],\n",
       "        [5., 3.],\n",
       "        [2., 1.]])"
      ]
     },
     "execution_count": 112,
     "metadata": {},
     "output_type": "execute_result"
    }
   ],
   "source": [
    "points"
   ]
  },
  {
   "cell_type": "code",
   "execution_count": 113,
   "id": "d80f876d",
   "metadata": {},
   "outputs": [],
   "source": [
    "points_t = points.t()"
   ]
  },
  {
   "cell_type": "code",
   "execution_count": 114,
   "id": "e3ac9f45",
   "metadata": {},
   "outputs": [
    {
     "data": {
      "text/plain": [
       "tensor([[4., 5., 2.],\n",
       "        [1., 3., 1.]])"
      ]
     },
     "execution_count": 114,
     "metadata": {},
     "output_type": "execute_result"
    }
   ],
   "source": [
    "points_t"
   ]
  },
  {
   "cell_type": "code",
   "execution_count": 115,
   "id": "209faf2a",
   "metadata": {},
   "outputs": [
    {
     "data": {
      "text/plain": [
       "False"
      ]
     },
     "execution_count": 115,
     "metadata": {},
     "output_type": "execute_result"
    }
   ],
   "source": [
    "id(points.storage()) == id(points_t.storage())"
   ]
  },
  {
   "cell_type": "code",
   "execution_count": 116,
   "id": "4d09d9f2",
   "metadata": {},
   "outputs": [
    {
     "data": {
      "text/plain": [
       "(2, 1)"
      ]
     },
     "execution_count": 116,
     "metadata": {},
     "output_type": "execute_result"
    }
   ],
   "source": [
    "points.stride()"
   ]
  },
  {
   "cell_type": "code",
   "execution_count": 117,
   "id": "afea39fc",
   "metadata": {},
   "outputs": [
    {
     "data": {
      "text/plain": [
       "(1, 2)"
      ]
     },
     "execution_count": 117,
     "metadata": {},
     "output_type": "execute_result"
    }
   ],
   "source": [
    "points_t.stride()"
   ]
  },
  {
   "cell_type": "markdown",
   "id": "80a90bba",
   "metadata": {},
   "source": [
    "### Транспонирование при более высокой размерности"
   ]
  },
  {
   "cell_type": "code",
   "execution_count": 129,
   "id": "33315bbe",
   "metadata": {},
   "outputs": [],
   "source": [
    "some_t = torch.ones(3, 4, 5)"
   ]
  },
  {
   "cell_type": "code",
   "execution_count": 130,
   "id": "31ef75fb",
   "metadata": {},
   "outputs": [
    {
     "data": {
      "text/plain": [
       "tensor([[[1., 1., 1., 1., 1.],\n",
       "         [1., 1., 1., 1., 1.],\n",
       "         [1., 1., 1., 1., 1.],\n",
       "         [1., 1., 1., 1., 1.]],\n",
       "\n",
       "        [[1., 1., 1., 1., 1.],\n",
       "         [1., 1., 1., 1., 1.],\n",
       "         [1., 1., 1., 1., 1.],\n",
       "         [1., 1., 1., 1., 1.]],\n",
       "\n",
       "        [[1., 1., 1., 1., 1.],\n",
       "         [1., 1., 1., 1., 1.],\n",
       "         [1., 1., 1., 1., 1.],\n",
       "         [1., 1., 1., 1., 1.]]])"
      ]
     },
     "execution_count": 130,
     "metadata": {},
     "output_type": "execute_result"
    }
   ],
   "source": [
    "some_t"
   ]
  },
  {
   "cell_type": "code",
   "execution_count": 131,
   "id": "57fe6e87",
   "metadata": {},
   "outputs": [
    {
     "data": {
      "text/plain": [
       "torch.Size([3, 4, 5])"
      ]
     },
     "execution_count": 131,
     "metadata": {},
     "output_type": "execute_result"
    }
   ],
   "source": [
    "some_t.shape"
   ]
  },
  {
   "cell_type": "code",
   "execution_count": 141,
   "id": "6b49c2f1",
   "metadata": {},
   "outputs": [],
   "source": [
    "transpose_t = some_t.transpose(0, 2)"
   ]
  },
  {
   "cell_type": "code",
   "execution_count": 142,
   "id": "fe0e65e7",
   "metadata": {},
   "outputs": [
    {
     "data": {
      "text/plain": [
       "tensor([[[1., 1., 1.],\n",
       "         [1., 1., 1.],\n",
       "         [1., 1., 1.],\n",
       "         [1., 1., 1.]],\n",
       "\n",
       "        [[1., 1., 1.],\n",
       "         [1., 1., 1.],\n",
       "         [1., 1., 1.],\n",
       "         [1., 1., 1.]],\n",
       "\n",
       "        [[1., 1., 1.],\n",
       "         [1., 1., 1.],\n",
       "         [1., 1., 1.],\n",
       "         [1., 1., 1.]],\n",
       "\n",
       "        [[1., 1., 1.],\n",
       "         [1., 1., 1.],\n",
       "         [1., 1., 1.],\n",
       "         [1., 1., 1.]],\n",
       "\n",
       "        [[1., 1., 1.],\n",
       "         [1., 1., 1.],\n",
       "         [1., 1., 1.],\n",
       "         [1., 1., 1.]]])"
      ]
     },
     "execution_count": 142,
     "metadata": {},
     "output_type": "execute_result"
    }
   ],
   "source": [
    "transpose_t"
   ]
  },
  {
   "cell_type": "code",
   "execution_count": 146,
   "id": "b2e1a951",
   "metadata": {},
   "outputs": [
    {
     "data": {
      "text/plain": [
       "torch.Size([5, 4, 3])"
      ]
     },
     "execution_count": 146,
     "metadata": {},
     "output_type": "execute_result"
    }
   ],
   "source": [
    "transpose_t.shape"
   ]
  },
  {
   "cell_type": "code",
   "execution_count": 147,
   "id": "27685761",
   "metadata": {},
   "outputs": [
    {
     "data": {
      "text/plain": [
       "(20, 5, 1)"
      ]
     },
     "execution_count": 147,
     "metadata": {},
     "output_type": "execute_result"
    }
   ],
   "source": [
    "some_t.stride()"
   ]
  },
  {
   "cell_type": "code",
   "execution_count": 148,
   "id": "b591a3c5",
   "metadata": {},
   "outputs": [
    {
     "data": {
      "text/plain": [
       "(1, 5, 20)"
      ]
     },
     "execution_count": 148,
     "metadata": {},
     "output_type": "execute_result"
    }
   ],
   "source": [
    "transpose_t.stride()"
   ]
  },
  {
   "cell_type": "markdown",
   "id": "343691ae",
   "metadata": {},
   "source": [
    "### Непрерывные тензоры"
   ]
  },
  {
   "cell_type": "code",
   "execution_count": 149,
   "id": "6aba5250",
   "metadata": {},
   "outputs": [
    {
     "data": {
      "text/plain": [
       "True"
      ]
     },
     "execution_count": 149,
     "metadata": {},
     "output_type": "execute_result"
    }
   ],
   "source": [
    "points.is_contiguous()"
   ]
  },
  {
   "cell_type": "code",
   "execution_count": 150,
   "id": "2f210834",
   "metadata": {},
   "outputs": [
    {
     "data": {
      "text/plain": [
       "False"
      ]
     },
     "execution_count": 150,
     "metadata": {},
     "output_type": "execute_result"
    }
   ],
   "source": [
    "points_t.is_contiguous()"
   ]
  },
  {
   "cell_type": "code",
   "execution_count": 151,
   "id": "c9f3d9d0",
   "metadata": {},
   "outputs": [
    {
     "data": {
      "text/plain": [
       "tensor([[4., 5., 2.],\n",
       "        [1., 3., 1.]])"
      ]
     },
     "execution_count": 151,
     "metadata": {},
     "output_type": "execute_result"
    }
   ],
   "source": [
    "points = torch.tensor([[4.0, 1.0], [5.0, 3.0], [2.0, 1.0]])\n",
    "points_t = points.t()\n",
    "points_t"
   ]
  },
  {
   "cell_type": "code",
   "execution_count": 157,
   "id": "723af2a4",
   "metadata": {},
   "outputs": [
    {
     "data": {
      "text/plain": [
       " 4.0\n",
       " 1.0\n",
       " 5.0\n",
       " 3.0\n",
       " 2.0\n",
       " 1.0\n",
       "[torch.storage.TypedStorage(dtype=torch.float32, device=cpu) of size 6]"
      ]
     },
     "execution_count": 157,
     "metadata": {},
     "output_type": "execute_result"
    }
   ],
   "source": [
    "points.storage()"
   ]
  },
  {
   "cell_type": "code",
   "execution_count": 152,
   "id": "5f1ab998",
   "metadata": {},
   "outputs": [
    {
     "data": {
      "text/plain": [
       " 4.0\n",
       " 1.0\n",
       " 5.0\n",
       " 3.0\n",
       " 2.0\n",
       " 1.0\n",
       "[torch.storage.TypedStorage(dtype=torch.float32, device=cpu) of size 6]"
      ]
     },
     "execution_count": 152,
     "metadata": {},
     "output_type": "execute_result"
    }
   ],
   "source": [
    "points_t.storage()"
   ]
  },
  {
   "cell_type": "code",
   "execution_count": 153,
   "id": "6eb80df7",
   "metadata": {},
   "outputs": [
    {
     "data": {
      "text/plain": [
       "(1, 2)"
      ]
     },
     "execution_count": 153,
     "metadata": {},
     "output_type": "execute_result"
    }
   ],
   "source": [
    "points_t.stride()"
   ]
  },
  {
   "cell_type": "code",
   "execution_count": 154,
   "id": "fb39e07c",
   "metadata": {},
   "outputs": [
    {
     "data": {
      "text/plain": [
       "tensor([[4., 5., 2.],\n",
       "        [1., 3., 1.]])"
      ]
     },
     "execution_count": 154,
     "metadata": {},
     "output_type": "execute_result"
    }
   ],
   "source": [
    "points_t_cont = points_t.contiguous()\n",
    "points_t_cont"
   ]
  },
  {
   "cell_type": "code",
   "execution_count": 155,
   "id": "64a6372a",
   "metadata": {},
   "outputs": [
    {
     "data": {
      "text/plain": [
       "(3, 1)"
      ]
     },
     "execution_count": 155,
     "metadata": {},
     "output_type": "execute_result"
    }
   ],
   "source": [
    "points_t_cont.stride()"
   ]
  },
  {
   "cell_type": "code",
   "execution_count": 156,
   "id": "645a310b",
   "metadata": {},
   "outputs": [
    {
     "data": {
      "text/plain": [
       " 4.0\n",
       " 5.0\n",
       " 2.0\n",
       " 1.0\n",
       " 3.0\n",
       " 1.0\n",
       "[torch.storage.TypedStorage(dtype=torch.float32, device=cpu) of size 6]"
      ]
     },
     "execution_count": 156,
     "metadata": {},
     "output_type": "execute_result"
    }
   ],
   "source": [
    "points_t_cont.storage()"
   ]
  },
  {
   "cell_type": "markdown",
   "id": "51908535",
   "metadata": {},
   "source": [
    "### Совместимость с NumPy"
   ]
  },
  {
   "cell_type": "code",
   "execution_count": 159,
   "id": "8d3fcdf4",
   "metadata": {},
   "outputs": [
    {
     "data": {
      "text/plain": [
       "tensor([[1., 1., 1., 1.],\n",
       "        [1., 1., 1., 1.],\n",
       "        [1., 1., 1., 1.]])"
      ]
     },
     "execution_count": 159,
     "metadata": {},
     "output_type": "execute_result"
    }
   ],
   "source": [
    "points = torch.ones(3, 4)\n",
    "points "
   ]
  },
  {
   "cell_type": "code",
   "execution_count": 160,
   "id": "64a76ad3",
   "metadata": {},
   "outputs": [
    {
     "data": {
      "text/plain": [
       "array([[1., 1., 1., 1.],\n",
       "       [1., 1., 1., 1.],\n",
       "       [1., 1., 1., 1.]], dtype=float32)"
      ]
     },
     "execution_count": 160,
     "metadata": {},
     "output_type": "execute_result"
    }
   ],
   "source": [
    "points_np = points.numpy()\n",
    "points_np"
   ]
  },
  {
   "cell_type": "code",
   "execution_count": 161,
   "id": "52fa76c7",
   "metadata": {},
   "outputs": [
    {
     "data": {
      "text/plain": [
       "tensor([[1., 1., 1., 1.],\n",
       "        [1., 1., 1., 1.],\n",
       "        [1., 1., 1., 1.]])"
      ]
     },
     "execution_count": 161,
     "metadata": {},
     "output_type": "execute_result"
    }
   ],
   "source": [
    "points = torch.from_numpy(points_np)\n",
    "points"
   ]
  },
  {
   "cell_type": "markdown",
   "id": "4d519b1f",
   "metadata": {},
   "source": [
    "### Сериализация тензоров"
   ]
  },
  {
   "cell_type": "code",
   "execution_count": 162,
   "id": "6f587fc8",
   "metadata": {},
   "outputs": [],
   "source": [
    "torch.save(points, '/Users/alexfil/Desktop/PyTorch/data/ourpoints.t')"
   ]
  },
  {
   "cell_type": "code",
   "execution_count": 163,
   "id": "20e429da",
   "metadata": {},
   "outputs": [],
   "source": [
    "with open('/Users/alexfil/Desktop/PyTorch/data/ourpoints.t', 'wb') as f:\n",
    "    torch.save(points, f)"
   ]
  },
  {
   "cell_type": "code",
   "execution_count": 164,
   "id": "c4241fad",
   "metadata": {},
   "outputs": [],
   "source": [
    "points = torch.load('/Users/alexfil/Desktop/PyTorch/data/ourpoints.t')"
   ]
  },
  {
   "cell_type": "code",
   "execution_count": 165,
   "id": "7de802c0",
   "metadata": {},
   "outputs": [
    {
     "data": {
      "text/plain": [
       "tensor([[1., 1., 1., 1.],\n",
       "        [1., 1., 1., 1.],\n",
       "        [1., 1., 1., 1.]])"
      ]
     },
     "execution_count": 165,
     "metadata": {},
     "output_type": "execute_result"
    }
   ],
   "source": [
    "points"
   ]
  },
  {
   "cell_type": "code",
   "execution_count": 166,
   "id": "22ca6543",
   "metadata": {},
   "outputs": [],
   "source": [
    "with open('/Users/alexfil/Desktop/PyTorch/data/ourpoints.t', 'rb') as f:\n",
    "    points = torch.load(f)"
   ]
  },
  {
   "cell_type": "code",
   "execution_count": 167,
   "id": "1565ec40",
   "metadata": {},
   "outputs": [
    {
     "data": {
      "text/plain": [
       "tensor([[1., 1., 1., 1.],\n",
       "        [1., 1., 1., 1.],\n",
       "        [1., 1., 1., 1.]])"
      ]
     },
     "execution_count": 167,
     "metadata": {},
     "output_type": "execute_result"
    }
   ],
   "source": [
    "points"
   ]
  },
  {
   "cell_type": "markdown",
   "id": "04fbd7a3",
   "metadata": {},
   "source": [
    "### Сериализация в HDF5"
   ]
  },
  {
   "cell_type": "code",
   "execution_count": 168,
   "id": "bd47e1c0",
   "metadata": {},
   "outputs": [],
   "source": [
    "import h5py"
   ]
  },
  {
   "cell_type": "code",
   "execution_count": 169,
   "id": "ecf4acab",
   "metadata": {},
   "outputs": [],
   "source": [
    "f = h5py.File('/Users/alexfil/Desktop/PyTorch/data/ourpoints.hdf5', 'w')\n",
    "dset = f.create_dataset('coords', data=points.numpy())\n",
    "f.close()"
   ]
  },
  {
   "cell_type": "code",
   "execution_count": 170,
   "id": "60afed58",
   "metadata": {},
   "outputs": [],
   "source": [
    "f = h5py.File('/Users/alexfil/Desktop/PyTorch/data/ourpoints.hdf5', 'r')\n",
    "dset = f['coords']\n",
    "last_points = dset[-2:]"
   ]
  },
  {
   "cell_type": "code",
   "execution_count": 171,
   "id": "0058af37",
   "metadata": {},
   "outputs": [
    {
     "data": {
      "text/plain": [
       "array([[1., 1., 1., 1.],\n",
       "       [1., 1., 1., 1.]], dtype=float32)"
      ]
     },
     "execution_count": 171,
     "metadata": {},
     "output_type": "execute_result"
    }
   ],
   "source": [
    "last_points"
   ]
  },
  {
   "cell_type": "code",
   "execution_count": 172,
   "id": "fc993263",
   "metadata": {},
   "outputs": [
    {
     "data": {
      "text/plain": [
       "tensor([[1., 1., 1., 1.],\n",
       "        [1., 1., 1., 1.]])"
      ]
     },
     "execution_count": 172,
     "metadata": {},
     "output_type": "execute_result"
    }
   ],
   "source": [
    "last_points = torch.from_numpy(dset[-2:])\n",
    "last_points"
   ]
  },
  {
   "cell_type": "code",
   "execution_count": 173,
   "id": "9306f814",
   "metadata": {},
   "outputs": [],
   "source": [
    "f.close()"
   ]
  },
  {
   "cell_type": "markdown",
   "id": "a8dfd15a",
   "metadata": {},
   "source": [
    "### Упражнения"
   ]
  },
  {
   "cell_type": "markdown",
   "id": "b60ac5de",
   "metadata": {},
   "source": [
    "Создайте тензор a из list(range(9)). Попробуйте догадаться, какими будут его размер, сдвиг и шаг, а потом проверьте свои догадки."
   ]
  },
  {
   "cell_type": "code",
   "execution_count": 212,
   "id": "dd58621a",
   "metadata": {},
   "outputs": [],
   "source": [
    "a = torch.tensor(list(range(9)))"
   ]
  },
  {
   "cell_type": "code",
   "execution_count": 213,
   "id": "eee9f6c3",
   "metadata": {},
   "outputs": [
    {
     "data": {
      "text/plain": [
       "tensor([0, 1, 2, 3, 4, 5, 6, 7, 8])"
      ]
     },
     "execution_count": 213,
     "metadata": {},
     "output_type": "execute_result"
    }
   ],
   "source": [
    "a"
   ]
  },
  {
   "cell_type": "code",
   "execution_count": 214,
   "id": "fbf6f4a6",
   "metadata": {},
   "outputs": [
    {
     "data": {
      "text/plain": [
       "(1,)"
      ]
     },
     "execution_count": 214,
     "metadata": {},
     "output_type": "execute_result"
    }
   ],
   "source": [
    "a.stride() #шаг"
   ]
  },
  {
   "cell_type": "code",
   "execution_count": 215,
   "id": "c50792ec",
   "metadata": {},
   "outputs": [
    {
     "data": {
      "text/plain": [
       "0"
      ]
     },
     "execution_count": 215,
     "metadata": {},
     "output_type": "execute_result"
    }
   ],
   "source": [
    "a.storage_offset() #сдвиг"
   ]
  },
  {
   "cell_type": "markdown",
   "id": "a6006173",
   "metadata": {},
   "source": [
    "Создайте новый тензор с помощью команды b = a.view(3, 3) Что делает функция view? Убедитесь, что у тензоров a и b одно хранилище"
   ]
  },
  {
   "cell_type": "code",
   "execution_count": 216,
   "id": "e3cf90f7",
   "metadata": {},
   "outputs": [],
   "source": [
    "b = a.view(3, 3)"
   ]
  },
  {
   "cell_type": "code",
   "execution_count": 217,
   "id": "63cc40cc",
   "metadata": {},
   "outputs": [
    {
     "data": {
      "text/plain": [
       "tensor([[0, 1, 2],\n",
       "        [3, 4, 5],\n",
       "        [6, 7, 8]])"
      ]
     },
     "execution_count": 217,
     "metadata": {},
     "output_type": "execute_result"
    }
   ],
   "source": [
    "b"
   ]
  },
  {
   "cell_type": "code",
   "execution_count": 218,
   "id": "a9365744",
   "metadata": {},
   "outputs": [
    {
     "data": {
      "text/plain": [
       "False"
      ]
     },
     "execution_count": 218,
     "metadata": {},
     "output_type": "execute_result"
    }
   ],
   "source": [
    "id(a.storage()) == id(b.storage())"
   ]
  },
  {
   "cell_type": "markdown",
   "id": "39a122fa",
   "metadata": {},
   "source": [
    "Создайте тензор c = b[1:,1:] Попробуйте догадаться, какими будут его размер, сдвиг и шаг, а потом проверьте свои догадки"
   ]
  },
  {
   "cell_type": "code",
   "execution_count": 219,
   "id": "fae89c95",
   "metadata": {},
   "outputs": [],
   "source": [
    "c = b[1:, 1:]"
   ]
  },
  {
   "cell_type": "code",
   "execution_count": 220,
   "id": "b04bdad1",
   "metadata": {},
   "outputs": [
    {
     "data": {
      "text/plain": [
       "tensor([[4, 5],\n",
       "        [7, 8]])"
      ]
     },
     "execution_count": 220,
     "metadata": {},
     "output_type": "execute_result"
    }
   ],
   "source": [
    "c"
   ]
  },
  {
   "cell_type": "code",
   "execution_count": 221,
   "id": "513a5b81",
   "metadata": {},
   "outputs": [
    {
     "data": {
      "text/plain": [
       " 0\n",
       " 1\n",
       " 2\n",
       " 3\n",
       " 4\n",
       " 5\n",
       " 6\n",
       " 7\n",
       " 8\n",
       "[torch.storage.TypedStorage(dtype=torch.int64, device=cpu) of size 9]"
      ]
     },
     "execution_count": 221,
     "metadata": {},
     "output_type": "execute_result"
    }
   ],
   "source": [
    "c.storage()"
   ]
  },
  {
   "cell_type": "code",
   "execution_count": 222,
   "id": "ad74d809",
   "metadata": {},
   "outputs": [
    {
     "data": {
      "text/plain": [
       "(3, 1)"
      ]
     },
     "execution_count": 222,
     "metadata": {},
     "output_type": "execute_result"
    }
   ],
   "source": [
    "c.stride() #шаг"
   ]
  },
  {
   "cell_type": "code",
   "execution_count": 223,
   "id": "118c9363",
   "metadata": {},
   "outputs": [
    {
     "data": {
      "text/plain": [
       "4"
      ]
     },
     "execution_count": 223,
     "metadata": {},
     "output_type": "execute_result"
    }
   ],
   "source": [
    "c.storage_offset() #сдвиг"
   ]
  },
  {
   "cell_type": "markdown",
   "id": "29cdb7a8",
   "metadata": {},
   "source": [
    "Выберите какую-либо математическую операцию, например косинус или корень квадратный.\n",
    "Примените эту функцию поэлементно к тензору a"
   ]
  },
  {
   "cell_type": "code",
   "execution_count": 224,
   "id": "a5251ff3",
   "metadata": {},
   "outputs": [],
   "source": [
    "a = torch.cos(a.float())"
   ]
  },
  {
   "cell_type": "code",
   "execution_count": 225,
   "id": "4130a76a",
   "metadata": {},
   "outputs": [
    {
     "data": {
      "text/plain": [
       "tensor([ 1.0000,  0.5403, -0.4161, -0.9900, -0.6536,  0.2837,  0.9602,  0.7539,\n",
       "        -0.1455])"
      ]
     },
     "execution_count": 225,
     "metadata": {},
     "output_type": "execute_result"
    }
   ],
   "source": [
    "a"
   ]
  },
  {
   "cell_type": "code",
   "execution_count": 226,
   "id": "c4bc6043",
   "metadata": {},
   "outputs": [],
   "source": [
    "a = torch.cos_(a.float())"
   ]
  },
  {
   "cell_type": "code",
   "execution_count": 227,
   "id": "f7c79374",
   "metadata": {},
   "outputs": [
    {
     "data": {
      "text/plain": [
       "tensor([0.5403, 0.8576, 0.9147, 0.5487, 0.7939, 0.9600, 0.5734, 0.7290, 0.9894])"
      ]
     },
     "execution_count": 227,
     "metadata": {},
     "output_type": "execute_result"
    }
   ],
   "source": [
    "a"
   ]
  },
  {
   "cell_type": "code",
   "execution_count": 228,
   "id": "700fabd0",
   "metadata": {},
   "outputs": [
    {
     "data": {
      "text/plain": [
       " 0.5403022766113281\n",
       " 0.857553243637085\n",
       " 0.9146533012390137\n",
       " 0.5486961007118225\n",
       " 0.7938734292984009\n",
       " 0.9600369334220886\n",
       " 0.5733804702758789\n",
       " 0.7290233373641968\n",
       " 0.9894335269927979\n",
       "[torch.storage.TypedStorage(dtype=torch.float32, device=cpu) of size 9]"
      ]
     },
     "execution_count": 228,
     "metadata": {},
     "output_type": "execute_result"
    }
   ],
   "source": [
    "a.storage()"
   ]
  },
  {
   "cell_type": "code",
   "execution_count": 231,
   "id": "7e1fa9cf",
   "metadata": {},
   "outputs": [
    {
     "data": {
      "text/plain": [
       "tensor([0.6543, 0.7935, 0.8196, 0.6576, 0.7641, 0.8400, 0.6674, 0.7345, 0.8530])"
      ]
     },
     "execution_count": 231,
     "metadata": {},
     "output_type": "execute_result"
    }
   ],
   "source": [
    "a.cos_()"
   ]
  },
  {
   "cell_type": "code",
   "execution_count": null,
   "id": "9b00c053",
   "metadata": {},
   "outputs": [],
   "source": []
  }
 ],
 "metadata": {
  "kernelspec": {
   "display_name": "Python 3 (ipykernel)",
   "language": "python",
   "name": "python3"
  },
  "language_info": {
   "codemirror_mode": {
    "name": "ipython",
    "version": 3
   },
   "file_extension": ".py",
   "mimetype": "text/x-python",
   "name": "python",
   "nbconvert_exporter": "python",
   "pygments_lexer": "ipython3",
   "version": "3.11.5"
  },
  "toc": {
   "base_numbering": 1,
   "nav_menu": {},
   "number_sections": true,
   "sideBar": true,
   "skip_h1_title": true,
   "title_cell": "Работа с тензорами",
   "title_sidebar": "Contents",
   "toc_cell": true,
   "toc_position": {
    "height": "calc(100% - 180px)",
    "left": "10px",
    "top": "150px",
    "width": "267.59375px"
   },
   "toc_section_display": true,
   "toc_window_display": true
  },
  "varInspector": {
   "cols": {
    "lenName": 16,
    "lenType": 16,
    "lenVar": 40
   },
   "kernels_config": {
    "python": {
     "delete_cmd_postfix": "",
     "delete_cmd_prefix": "del ",
     "library": "var_list.py",
     "varRefreshCmd": "print(var_dic_list())"
    },
    "r": {
     "delete_cmd_postfix": ") ",
     "delete_cmd_prefix": "rm(",
     "library": "var_list.r",
     "varRefreshCmd": "cat(var_dic_list()) "
    }
   },
   "types_to_exclude": [
    "module",
    "function",
    "builtin_function_or_method",
    "instance",
    "_Feature"
   ],
   "window_display": false
  }
 },
 "nbformat": 4,
 "nbformat_minor": 5
}
