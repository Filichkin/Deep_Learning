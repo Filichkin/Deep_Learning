{
 "cells": [
  {
   "cell_type": "markdown",
   "id": "12860f72",
   "metadata": {
    "toc": true
   },
   "source": [
    "<h1>Tasks for text preparation<span class=\"tocSkip\"></span></h1>\n",
    "<div class=\"toc\"><ul class=\"toc-item\"></ul></div>"
   ]
  },
  {
   "cell_type": "code",
   "execution_count": 12,
   "id": "df6bdcaa",
   "metadata": {},
   "outputs": [],
   "source": [
    "from math import log, sqrt\n",
    "import sympy.parsing.sympy_parser\n",
    "import sympy\n",
    "import sys\n",
    "import numpy as np"
   ]
  },
  {
   "cell_type": "markdown",
   "id": "07932e2e",
   "metadata": {},
   "source": [
    "Пусть в некотором языке есть N=3 слова - А, Б и В. Их ранги - 1, 2 и 3 (нумерация рангов начинается с 1). \n",
    "\n",
    "Найдите вероятности встретить каждое из этих слов в тексте при условии, что относительные частоты слов распределены по Ципфу с s = 2."
   ]
  },
  {
   "cell_type": "code",
   "execution_count": 1,
   "id": "e3239670",
   "metadata": {},
   "outputs": [
    {
     "name": "stdout",
     "output_type": "stream",
     "text": [
      "0.7347\n",
      "0.1837\n",
      "0.0816\n"
     ]
    }
   ],
   "source": [
    "def word_probability(rank, s, n):\n",
    "    sum = 0\n",
    "    for i in range(1, n+1):\n",
    "        sum = sum + i**(-s)\n",
    "    q = 1 / (rank**s * sum)\n",
    "    return q\n",
    "\n",
    "\n",
    "print(round(word_probability(1, 2, 3), 4))\n",
    "print(round(word_probability(2, 2, 3), 4))\n",
    "print(round(word_probability(3, 2, 3), 4))"
   ]
  },
  {
   "cell_type": "markdown",
   "id": "9de9ae1d",
   "metadata": {},
   "source": [
    "Мы предлагаем вам проанализировать полученную формулу на следующих предсказаниях модели:\n",
    "\n",
    "\n",
    "[0.99,0.01] - первый объект классифицируется уверенно правильно, а второй уверенно неправильно\n",
    "\n",
    "[0.5,0.5] - модель не может принять решения, абсолютно неуверенное предсказание\n",
    "\n",
    "[0.99,0.45] - первый объект классифицируется уверенно правильно, а второй неуверенно неправильно\n",
    "\n",
    "[0.65,0.65] - оба объекта классифицируются правильно, но классификатор не очень уверен в принятом решении\n",
    "\n",
    "Фраза \"Модели выгоднее предсказывать А, чем Б\" означает, что суммарное значение функции потерь будет ниже, если модель предскажет набор ответов А, по сравнению с ситуацией, в которой она для тех же объектов предскажет набор ответов Б.\n",
    " "
   ]
  },
  {
   "cell_type": "code",
   "execution_count": 4,
   "id": "5d9b0f0a",
   "metadata": {},
   "outputs": [
    {
     "name": "stdout",
     "output_type": "stream",
     "text": [
      "BCE_099_001: 4.615220521841592\n",
      "BCE_05_05: 1.3862943611198906\n",
      "BCE_099_045: 0.8085580320712731\n",
      "BCE_065_065: 0.8615658321849085\n"
     ]
    }
   ],
   "source": [
    "def BCE(y1, y2):\n",
    "    return -log(y1) - log(y2)\n",
    "\n",
    "\n",
    "a = [0.99, 0.01]\n",
    "b = [0.5, 0.5]\n",
    "c = [0.99, 0.45]\n",
    "d = [0.65, 0.65]\n",
    "\n",
    "print(f'BCE_099_001: {BCE(a[0], a[1])}')\n",
    "print(f'BCE_05_05: {BCE(b[0], b[1])}')\n",
    "print(f'BCE_099_045: {BCE(c[0], c[1])}')\n",
    "print(f'BCE_065_065: {BCE(d[0], d[1])}')"
   ]
  },
  {
   "cell_type": "markdown",
   "id": "b94ffe6a",
   "metadata": {},
   "source": [
    "Найдите в общем виде производную функции потерь по w BCE и запишите в ответ её формулу. \n",
    "Для обозначений используйте латинские буквы y, x, w, b в нижнем регистре."
   ]
  },
  {
   "cell_type": "code",
   "execution_count": 7,
   "id": "295d2481",
   "metadata": {},
   "outputs": [
    {
     "name": "stdout",
     "output_type": "stream",
     "text": [
      "(-y*exp(b + w*x) - y + exp(b + w*x))/(exp(b + w*x) + 1)\n"
     ]
    }
   ],
   "source": [
    "x, y, w, b = sympy.symbols('x y w b')\n",
    "res = sympy.diff(-y * sympy.log(1 / (1 + sympy.exp(-w * x - b)))\n",
    "                 - (1  - y) * sympy.log(1 - 1 / (1 + sympy.exp(-w * x - b))), b)\n",
    "\n",
    "\n",
    "print(str(sympy.simplify(res)))"
   ]
  },
  {
   "cell_type": "code",
   "execution_count": 8,
   "id": "3cc8ffa1",
   "metadata": {},
   "outputs": [
    {
     "name": "stdout",
     "output_type": "stream",
     "text": [
      "7.97628706341122\n",
      "-x*y*exp(-b - w*x)/(exp(-b - w*x) + 1) + x*(1 - y)*exp(-b - w*x)/((1 - 1/(exp(-b - w*x) + 1))*(exp(-b - w*x) + 1)**2)+2*c*w\n",
      "x*(-y*exp(b + w*x) - y + exp(b + w*x))/(exp(b + w*x) + 1)+2*c*w\n",
      "(2*c*w*exp(b + w*x) + 2*c*w - x*y*exp(b + w*x) - x*y + x*exp(b + w*x))/(exp(b + w*x) + 1)\n"
     ]
    }
   ],
   "source": [
    "x, y, w, b, c = sympy.symbols('x y w b c')\n",
    "diff1 = sympy.diff('-y*log(1/(1+exp(-w*x-b)))-(1-y)*log(1-1/(1+exp(-w*x-b)))', w)\n",
    "diff2 = sympy.diff('c*(w**2+b**2)', w)\n",
    "simpl1 = sympy.simplify(diff1)\n",
    "simpl2 = sympy.simplify(diff2)\n",
    "sample_expr = sympy.parsing.sympy_parser.parse_expr(str(simpl1) + '+' + str(simpl2))\n",
    "sample_value = sample_expr.evalf(subs=dict(x=0.5, y=1, w=4, b=1, c=1))\n",
    "\n",
    "\n",
    "print(sample_value)\n",
    "print(str(diff1) + '+' + str(diff2))\n",
    "print(str(simpl1) + '+' + str(simpl2))\n",
    "simple3 = sympy.simplify(diff1+diff2)\n",
    "print(simple3)"
   ]
  },
  {
   "cell_type": "markdown",
   "id": "0c5bd0a3",
   "metadata": {},
   "source": [
    "Напишите функцию для вычисления точечной взаимной информации двух случайных событий.\n",
    "\n",
    "На вход функция получает два массива из 0 и 1 одинаковой длины - реализации случайных событий. 1 - событие произошло, 0 - не произошло.\n",
    "\n",
    "В результате функция должна вернуть вещественное число - точечную взаимную информацию событий.\n",
    "\n",
    "При расчёте следует использовать натуральный логарифм (numpy.log)."
   ]
  },
  {
   "cell_type": "code",
   "execution_count": 10,
   "id": "7403f748",
   "metadata": {},
   "outputs": [
    {
     "name": "stdout",
     "output_type": "stream",
     "text": [
      "0.693147\n"
     ]
    }
   ],
   "source": [
    "def parse_array(s):\n",
    "    return np.array([int(s.strip()) for s in s.strip().split(' ')])\n",
    "\n",
    "def read_array():\n",
    "    return parse_array(sys.stdin.readline())\n",
    "\n",
    "def calculate_pmi(a, b):\n",
    "    P_a = np.count_nonzero(a == 1) / a.shape[0]\n",
    "    P_b = np.count_nonzero(b == 1) / b.shape[0]\n",
    "    \n",
    "    c = [i for  i, j in zip(a,b) if i == j == 1]       \n",
    "    P_a_b = len(c) / a.shape[0]\n",
    "\n",
    "    # print(c)\n",
    "    # print(type(c))\n",
    "    \n",
    "    return np.log(P_a_b / (P_a * P_b))\n",
    "\n",
    "\n",
    "a = np.array([1, 0, 0, 1, 1, 0])\n",
    "b = np.array([1, 0, 0, 0, 1, 0])\n",
    "pmi_value = calculate_pmi(a, b)\n",
    "\n",
    "\n",
    "print('{:.6f}'.format(pmi_value))"
   ]
  },
  {
   "cell_type": "markdown",
   "id": "2615d670",
   "metadata": {},
   "source": [
    "Найдите количество слов, которые встречаются менее, чем в 10 из 10000 документов, если предполагать, что вероятность встретить слово в документе распределена по Ципфу с параметром s=2, количество слов в словаре N=1000. Ранги нумеруются с 1."
   ]
  },
  {
   "cell_type": "code",
   "execution_count": 13,
   "id": "7b2d136e",
   "metadata": {},
   "outputs": [
    {
     "name": "stdout",
     "output_type": "stream",
     "text": [
      "976\n"
     ]
    }
   ],
   "source": [
    "z = sum([1/x**2 for x in range(1,1000)])\n",
    "k = sqrt(1000/z)\n",
    "\n",
    "\n",
    "print(str(1000-int(k)))"
   ]
  },
  {
   "cell_type": "code",
   "execution_count": null,
   "id": "e16c9bfe",
   "metadata": {},
   "outputs": [],
   "source": []
  }
 ],
 "metadata": {
  "kernelspec": {
   "display_name": "Python 3 (ipykernel)",
   "language": "python",
   "name": "python3"
  },
  "language_info": {
   "codemirror_mode": {
    "name": "ipython",
    "version": 3
   },
   "file_extension": ".py",
   "mimetype": "text/x-python",
   "name": "python",
   "nbconvert_exporter": "python",
   "pygments_lexer": "ipython3",
   "version": "3.11.5"
  },
  "toc": {
   "base_numbering": 1,
   "nav_menu": {},
   "number_sections": true,
   "sideBar": true,
   "skip_h1_title": true,
   "title_cell": "Tasks for text preparation",
   "title_sidebar": "Contents",
   "toc_cell": true,
   "toc_position": {
    "height": "calc(100% - 180px)",
    "left": "10px",
    "top": "150px",
    "width": "288px"
   },
   "toc_section_display": true,
   "toc_window_display": false
  },
  "varInspector": {
   "cols": {
    "lenName": 16,
    "lenType": 16,
    "lenVar": 40
   },
   "kernels_config": {
    "python": {
     "delete_cmd_postfix": "",
     "delete_cmd_prefix": "del ",
     "library": "var_list.py",
     "varRefreshCmd": "print(var_dic_list())"
    },
    "r": {
     "delete_cmd_postfix": ") ",
     "delete_cmd_prefix": "rm(",
     "library": "var_list.r",
     "varRefreshCmd": "cat(var_dic_list()) "
    }
   },
   "types_to_exclude": [
    "module",
    "function",
    "builtin_function_or_method",
    "instance",
    "_Feature"
   ],
   "window_display": false
  }
 },
 "nbformat": 4,
 "nbformat_minor": 5
}
