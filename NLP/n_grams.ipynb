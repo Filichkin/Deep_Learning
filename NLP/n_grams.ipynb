{
 "cells": [
  {
   "cell_type": "markdown",
   "id": "26f84a7b",
   "metadata": {
    "toc": true
   },
   "source": [
    "<h1>N-grams in Python<span class=\"tocSkip\"></span></h1>\n",
    "<div class=\"toc\"><ul class=\"toc-item\"></ul></div>"
   ]
  },
  {
   "cell_type": "code",
   "execution_count": 31,
   "id": "c6dba3ec",
   "metadata": {},
   "outputs": [],
   "source": [
    "from nltk import ngrams\n",
    "from nltk.util import everygrams\n",
    "from nltk.util import ngrams, bigrams"
   ]
  },
  {
   "cell_type": "code",
   "execution_count": 12,
   "id": "5f531716",
   "metadata": {},
   "outputs": [
    {
     "name": "stdout",
     "output_type": "stream",
     "text": [
      "('this', 'is', 'a', 'foo', 'bar', 'sentences')\n",
      "('is', 'a', 'foo', 'bar', 'sentences', 'and')\n",
      "('a', 'foo', 'bar', 'sentences', 'and', 'I')\n",
      "('foo', 'bar', 'sentences', 'and', 'I', 'want')\n",
      "('bar', 'sentences', 'and', 'I', 'want', 'to')\n",
      "('sentences', 'and', 'I', 'want', 'to', 'ngramize')\n",
      "('and', 'I', 'want', 'to', 'ngramize', 'it')\n"
     ]
    }
   ],
   "source": [
    "sentence = 'this is a foo bar sentences and I want to ngramize it'\n",
    "\n",
    "n_grams = ngrams(sentence.split(), 6)\n",
    "\n",
    "for grams in n_grams:\n",
    "    print(grams)"
   ]
  },
  {
   "cell_type": "code",
   "execution_count": 28,
   "id": "81402c14",
   "metadata": {},
   "outputs": [
    {
     "name": "stdout",
     "output_type": "stream",
     "text": [
      "('я', 'з')\n",
      "('з', 'ы')\n",
      "('ы', 'к')\n",
      "('я', 'з', 'ы')\n",
      "('з', 'ы', 'к')\n"
     ]
    }
   ],
   "source": [
    "sentence = 'язык'\n",
    "\n",
    "n_grams2 = ngrams(list(sentence), 2)\n",
    "n_grams3 = ngrams(list(sentence), 3)\n",
    "\n",
    "for grams in n_grams2:\n",
    "    print(grams)\n",
    "\n",
    "for grams in n_grams3:\n",
    "    print(grams)"
   ]
  },
  {
   "cell_type": "code",
   "execution_count": 30,
   "id": "51ffacab",
   "metadata": {},
   "outputs": [
    {
     "name": "stdout",
     "output_type": "stream",
     "text": [
      "[('я', 'з'), ('з', 'ы'), ('ы', 'к')]\n",
      "[('я', 'з', 'ы'), ('з', 'ы', 'к')]\n"
     ]
    }
   ],
   "source": [
    "ste = list(bigrams(list(sentence)))\n",
    "pik = list(ngrams(list(sentence), 3))  \n",
    "print(ste)\n",
    "print(pik)"
   ]
  },
  {
   "cell_type": "code",
   "execution_count": null,
   "id": "828df566",
   "metadata": {},
   "outputs": [],
   "source": []
  }
 ],
 "metadata": {
  "kernelspec": {
   "display_name": "Python 3 (ipykernel)",
   "language": "python",
   "name": "python3"
  },
  "language_info": {
   "codemirror_mode": {
    "name": "ipython",
    "version": 3
   },
   "file_extension": ".py",
   "mimetype": "text/x-python",
   "name": "python",
   "nbconvert_exporter": "python",
   "pygments_lexer": "ipython3",
   "version": "3.11.5"
  },
  "toc": {
   "base_numbering": 1,
   "nav_menu": {},
   "number_sections": true,
   "sideBar": true,
   "skip_h1_title": true,
   "title_cell": "N-grams in Python",
   "title_sidebar": "Contents",
   "toc_cell": true,
   "toc_position": {
    "height": "calc(100% - 180px)",
    "left": "10px",
    "top": "150px",
    "width": "288px"
   },
   "toc_section_display": true,
   "toc_window_display": true
  },
  "varInspector": {
   "cols": {
    "lenName": 16,
    "lenType": 16,
    "lenVar": 40
   },
   "kernels_config": {
    "python": {
     "delete_cmd_postfix": "",
     "delete_cmd_prefix": "del ",
     "library": "var_list.py",
     "varRefreshCmd": "print(var_dic_list())"
    },
    "r": {
     "delete_cmd_postfix": ") ",
     "delete_cmd_prefix": "rm(",
     "library": "var_list.r",
     "varRefreshCmd": "cat(var_dic_list()) "
    }
   },
   "types_to_exclude": [
    "module",
    "function",
    "builtin_function_or_method",
    "instance",
    "_Feature"
   ],
   "window_display": false
  }
 },
 "nbformat": 4,
 "nbformat_minor": 5
}
