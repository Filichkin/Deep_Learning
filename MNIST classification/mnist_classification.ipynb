{
 "cells": [
  {
   "cell_type": "markdown",
   "id": "0a197134",
   "metadata": {
    "toc": true
   },
   "source": [
    "<h1>MNIST dataset classification<span class=\"tocSkip\"></span></h1>\n",
    "<div class=\"toc\"><ul class=\"toc-item\"><li><span><a href=\"#Data-preparation\" data-toc-modified-id=\"Data-preparation-1\"><span class=\"toc-item-num\">1&nbsp;&nbsp;</span>Data preparation</a></span><ul class=\"toc-item\"><li><span><a href=\"#Classification\" data-toc-modified-id=\"Classification-1.1\"><span class=\"toc-item-num\">1.1&nbsp;&nbsp;</span>Classification</a></span></li></ul></li><li><span><a href=\"#Data-transformation\" data-toc-modified-id=\"Data-transformation-2\"><span class=\"toc-item-num\">2&nbsp;&nbsp;</span>Data transformation</a></span></li><li><span><a href=\"#Dataset-creation\" data-toc-modified-id=\"Dataset-creation-3\"><span class=\"toc-item-num\">3&nbsp;&nbsp;</span>Dataset creation</a></span></li><li><span><a href=\"#Split-for-train,-val-and-test-data\" data-toc-modified-id=\"Split-for-train,-val-and-test-data-4\"><span class=\"toc-item-num\">4&nbsp;&nbsp;</span>Split for train, val and test data</a></span></li><li><span><a href=\"#Dataloader-creation\" data-toc-modified-id=\"Dataloader-creation-5\"><span class=\"toc-item-num\">5&nbsp;&nbsp;</span>Dataloader creation</a></span></li><li><span><a href=\"#Model-creation\" data-toc-modified-id=\"Model-creation-6\"><span class=\"toc-item-num\">6&nbsp;&nbsp;</span>Model creation</a></span><ul class=\"toc-item\"><li><span><a href=\"#Model-train\" data-toc-modified-id=\"Model-train-6.1\"><span class=\"toc-item-num\">6.1&nbsp;&nbsp;</span>Model train</a></span></li></ul></li></ul></div>"
   ]
  },
  {
   "cell_type": "code",
   "execution_count": 1,
   "id": "c5996cea",
   "metadata": {},
   "outputs": [],
   "source": [
    "import torch\n",
    "import torch.nn as nn\n",
    "\n",
    "from torch.utils.data import Dataset, DataLoader, random_split\n",
    "\n",
    "import torchvision\n",
    "from torchvision.transforms import v2\n",
    "\n",
    "import os\n",
    "import matplotlib.pyplot as plt\n",
    "import numpy as np\n",
    "\n",
    "import json\n",
    "from tqdm import tqdm\n",
    "from PIL import Image\n",
    "\n",
    "import struct\n",
    "import sys\n",
    "from array import array\n",
    "from os import path\n",
    "\n",
    "from matplotlib.ticker import AutoMinorLocator, MultipleLocator"
   ]
  },
  {
   "cell_type": "code",
   "execution_count": 2,
   "id": "21bf474d",
   "metadata": {},
   "outputs": [
    {
     "data": {
      "text/plain": [
       "'mps'"
      ]
     },
     "execution_count": 2,
     "metadata": {},
     "output_type": "execute_result"
    }
   ],
   "source": [
    "device = 'mps' if torch.backends.mps.is_available() else 'cpu'\n",
    "device"
   ]
  },
  {
   "cell_type": "markdown",
   "id": "e7bb9483",
   "metadata": {},
   "source": [
    "## Data preparation"
   ]
  },
  {
   "cell_type": "markdown",
   "id": "0f4c7f24",
   "metadata": {},
   "source": [
    "### Classification"
   ]
  },
  {
   "cell_type": "code",
   "execution_count": 3,
   "id": "b6bba6a3",
   "metadata": {},
   "outputs": [],
   "source": [
    "def read(dataset):\n",
    "    if dataset == 'training':\n",
    "        path_img = '/Users/alexeyfilichkin/Desktop/PyTorch/MNIST/mnist/MNIST/raw/train-images-idx3-ubyte'\n",
    "        path_lbl = '/Users/alexeyfilichkin/Desktop/PyTorch/MNIST/mnist/MNIST/raw/train-labels-idx1-ubyte'\n",
    "    \n",
    "    elif dataset == 'testing':\n",
    "        path_img = '/Users/alexeyfilichkin/Desktop/PyTorch/MNIST/mnist/MNIST/raw/t10k-images-idx3-ubyte'\n",
    "        path_lbl = '/Users/alexeyfilichkin/Desktop/PyTorch/MNIST/mnist/MNIST/raw/t10k-labels-idx1-ubyte'\n",
    "    \n",
    "    else:\n",
    "        raise ValueError('dataset must be training or testing')\n",
    "    \n",
    "    with open(path_lbl, 'rb') as f_lable:\n",
    "        _, size = struct.unpack('>II', f_lable.read(8))\n",
    "        lbl = array('b', f_lable.read())\n",
    "        \n",
    "    with open(path_img, 'rb') as f_img:\n",
    "        _, size, rows, cols = struct.unpack('>IIII', f_img.read(16))\n",
    "        img = array('B', f_img.read())\n",
    "    \n",
    "    return lbl, img, size, rows,cols\n",
    "\n",
    "def write_dataset(labels, data, size, rows,cols, output_dir):\n",
    "    \n",
    "    classes = {i: f'class_{i}' for i in range(10)}\n",
    "    \n",
    "    output_dirs = [\n",
    "        path.join(output_dir, classes[i])\n",
    "        for i in range(10)\n",
    "    ]\n",
    "    \n",
    "    for d in output_dirs:\n",
    "        if not path.exists(d):\n",
    "            os.makedirs(d)\n",
    "    \n",
    "    for i, label in enumerate(labels):\n",
    "        output_filename = path.join(output_dirs[label], str(i) + '.jpg')\n",
    "#        print('writing' + output_filename)\n",
    "        \n",
    "        with open(output_filename, 'wb') as h:\n",
    "            data_i = [\n",
    "                data[(i*rows*cols + j*cols) : (i*rows*cols + (j+1)*cols)]\n",
    "                for j in range(rows)\n",
    "            ]\n",
    "            data_array = np.asarray(data_i)\n",
    "            \n",
    "            im = Image.fromarray(data_array)\n",
    "            im.save(output_filename)        "
   ]
  },
  {
   "cell_type": "code",
   "execution_count": 4,
   "id": "2cc4ee0d",
   "metadata": {},
   "outputs": [],
   "source": [
    "train_dataset = torchvision.datasets.MNIST(\n",
    "    root='/Users/alexeyfilichkin/Desktop/PyTorch/MNIST/mnist', train=True, download=True)\n",
    "test_dataset = torchvision.datasets.MNIST(\n",
    "    root='/Users/alexeyfilichkin/Desktop/PyTorch/MNIST/mnist', train=False, download=True)"
   ]
  },
  {
   "cell_type": "code",
   "execution_count": 5,
   "id": "d2c2add0",
   "metadata": {},
   "outputs": [],
   "source": [
    "output_path = '/Users/alexeyfilichkin/Desktop/PyTorch/MNIST/mnist'"
   ]
  },
  {
   "cell_type": "code",
   "execution_count": 6,
   "id": "2ff1be8f",
   "metadata": {},
   "outputs": [
    {
     "name": "stderr",
     "output_type": "stream",
     "text": [
      "100%|█████████████████████████████████████████████| 2/2 [00:13<00:00,  6.64s/it]\n"
     ]
    }
   ],
   "source": [
    "for dataset in tqdm(['training', 'testing']):\n",
    "    write_dataset(*read(dataset), path.join(output_path, dataset))"
   ]
  },
  {
   "cell_type": "markdown",
   "id": "2954409a",
   "metadata": {},
   "source": [
    "## Data transformation"
   ]
  },
  {
   "cell_type": "code",
   "execution_count": 7,
   "id": "f803b171",
   "metadata": {},
   "outputs": [],
   "source": [
    "transform = v2.Compose([\n",
    "    v2.ToImage(),\n",
    "    v2.ToDtype(torch.float32, scale=True),\n",
    "    v2.Normalize(mean=(0.5,), std=(0.5,))\n",
    "])"
   ]
  },
  {
   "cell_type": "markdown",
   "id": "9520d7a0",
   "metadata": {},
   "source": [
    "## Dataset creation"
   ]
  },
  {
   "cell_type": "code",
   "execution_count": 8,
   "id": "3b278aa0",
   "metadata": {},
   "outputs": [],
   "source": [
    "class MNISTDataset(Dataset):\n",
    "    def __init__(self, path, transform=None):\n",
    "        self.path = path\n",
    "        self.transform = transform\n",
    "        \n",
    "        self.len_dataset = 0\n",
    "        self.data_list = []\n",
    "        \n",
    "        for path_dir, dir_list, file_list in os.walk(path):\n",
    "            if path_dir == path:\n",
    "                self.classes = sorted(dir_list)\n",
    "                self.class_to_idx = {\n",
    "                    cls_name: i for i, cls_name in enumerate(self.classes)\n",
    "                    }\n",
    "                continue\n",
    "        \n",
    "            cls = path_dir.split('/')[-1]\n",
    "        \n",
    "            for name_file in file_list:\n",
    "                file_path = os.path.join(path_dir, name_file)\n",
    "                self.data_list.append((file_path, self.class_to_idx[cls]))\n",
    "        \n",
    "            self.len_dataset += len(file_list)\n",
    "    \n",
    "    def __len__(self):\n",
    "        return self.len_dataset\n",
    "    \n",
    "    def __getitem__(self, index):\n",
    "        file_path, target = self.data_list[index]\n",
    "        sample = Image.open(file_path)\n",
    "        \n",
    "        if self.transform is not None:\n",
    "            sample = self.transform(sample)\n",
    "        \n",
    "        return sample, target    "
   ]
  },
  {
   "cell_type": "code",
   "execution_count": 9,
   "id": "c88b680e",
   "metadata": {},
   "outputs": [],
   "source": [
    "train_data = MNISTDataset('/Users/alexeyfilichkin/Desktop/PyTorch/MNIST/mnist/training',\n",
    "                         transform=transform)\n",
    "test_data = MNISTDataset('/Users/alexeyfilichkin/Desktop/PyTorch/MNIST/mnist/testing',\n",
    "                        transform=transform)"
   ]
  },
  {
   "cell_type": "code",
   "execution_count": 10,
   "id": "eb846451",
   "metadata": {},
   "outputs": [
    {
     "name": "stdout",
     "output_type": "stream",
     "text": [
      "60000\n",
      "10000\n"
     ]
    }
   ],
   "source": [
    "print(len(train_data))\n",
    "print(len(test_data))"
   ]
  },
  {
   "cell_type": "code",
   "execution_count": 11,
   "id": "6af3fd18",
   "metadata": {},
   "outputs": [
    {
     "data": {
      "text/plain": [
       "['class_0',\n",
       " 'class_1',\n",
       " 'class_2',\n",
       " 'class_3',\n",
       " 'class_4',\n",
       " 'class_5',\n",
       " 'class_6',\n",
       " 'class_7',\n",
       " 'class_8',\n",
       " 'class_9']"
      ]
     },
     "execution_count": 11,
     "metadata": {},
     "output_type": "execute_result"
    }
   ],
   "source": [
    "train_data.classes"
   ]
  },
  {
   "cell_type": "code",
   "execution_count": 12,
   "id": "622c0df8",
   "metadata": {},
   "outputs": [
    {
     "data": {
      "text/plain": [
       "{'class_0': 0,\n",
       " 'class_1': 1,\n",
       " 'class_2': 2,\n",
       " 'class_3': 3,\n",
       " 'class_4': 4,\n",
       " 'class_5': 5,\n",
       " 'class_6': 6,\n",
       " 'class_7': 7,\n",
       " 'class_8': 8,\n",
       " 'class_9': 9}"
      ]
     },
     "execution_count": 12,
     "metadata": {},
     "output_type": "execute_result"
    }
   ],
   "source": [
    "train_data.class_to_idx"
   ]
  },
  {
   "cell_type": "code",
   "execution_count": 13,
   "id": "a6e9bc0f",
   "metadata": {},
   "outputs": [
    {
     "name": "stdout",
     "output_type": "stream",
     "text": [
      "class_0 => [1, 0, 0, 0, 0, 0, 0, 0, 0, 0]\n",
      "class_1 => [0, 1, 0, 0, 0, 0, 0, 0, 0, 0]\n",
      "class_2 => [0, 0, 1, 0, 0, 0, 0, 0, 0, 0]\n",
      "class_3 => [0, 0, 0, 1, 0, 0, 0, 0, 0, 0]\n",
      "class_4 => [0, 0, 0, 0, 1, 0, 0, 0, 0, 0]\n",
      "class_5 => [0, 0, 0, 0, 0, 1, 0, 0, 0, 0]\n",
      "class_6 => [0, 0, 0, 0, 0, 0, 1, 0, 0, 0]\n",
      "class_7 => [0, 0, 0, 0, 0, 0, 0, 1, 0, 0]\n",
      "class_8 => [0, 0, 0, 0, 0, 0, 0, 0, 1, 0]\n",
      "class_9 => [0, 0, 0, 0, 0, 0, 0, 0, 0, 1]\n"
     ]
    }
   ],
   "source": [
    "for cls, one_hot_position in train_data.class_to_idx.items():\n",
    "    one_hot_vector = [(i == one_hot_position)*1 for i in range(10)]\n",
    "    print(f'{cls} => {one_hot_vector}')"
   ]
  },
  {
   "cell_type": "code",
   "execution_count": 14,
   "id": "ad22aca0",
   "metadata": {},
   "outputs": [
    {
     "name": "stdout",
     "output_type": "stream",
     "text": [
      "class class_4\n"
     ]
    },
    {
     "data": {
      "image/png": "[encoded data removed]",
      "text/plain": [
       "<Figure size 640x480 with 1 Axes>"
      ]
     },
     "metadata": {},
     "output_type": "display_data"
    }
   ],
   "source": [
    "img, one_hot_position = train_data[5555]\n",
    "cls = train_data.classes[one_hot_position]\n",
    "print(f'class {cls}')\n",
    "plt.imshow(img.permute(1, 2, 0), cmap='gray');"
   ]
  },
  {
   "cell_type": "code",
   "execution_count": 15,
   "id": "32f4ce3e",
   "metadata": {},
   "outputs": [
    {
     "name": "stdout",
     "output_type": "stream",
     "text": [
      "Img class: 4\n",
      "Img type: <class 'torchvision.tv_tensors._image.Image'>\n",
      "Data shape: torch.Size([1, 28, 28])\n",
      "Data type: torch.float32\n",
      "Img min: -1.0, Img max: 1.0\n"
     ]
    }
   ],
   "source": [
    "img, cl = test_data[10]\n",
    "\n",
    "print(f'Img class: {cl}')\n",
    "print(f'Img type: {type(img)}')\n",
    "print(f'Data shape: {img.shape}')\n",
    "print(f'Data type: {img.dtype}')\n",
    "print(f'Img min: {img.min()}, Img max: {img.max()}')"
   ]
  },
  {
   "cell_type": "markdown",
   "id": "47c4b3f2",
   "metadata": {},
   "source": [
    "## Split for train, val and test data"
   ]
  },
  {
   "cell_type": "code",
   "execution_count": 16,
   "id": "2884d4e6",
   "metadata": {},
   "outputs": [],
   "source": [
    "train_data, val_data = random_split(train_data, [0.8, 0.2])"
   ]
  },
  {
   "cell_type": "code",
   "execution_count": 17,
   "id": "45a9f0bf",
   "metadata": {},
   "outputs": [
    {
     "name": "stdout",
     "output_type": "stream",
     "text": [
      "Train data 48000\n",
      "Validation data 12000\n",
      "Test data 10000\n"
     ]
    }
   ],
   "source": [
    "print(f'Train data {len(train_data)}')\n",
    "print(f'Validation data {len(val_data)}')\n",
    "print(f'Test data {len(test_data)}')"
   ]
  },
  {
   "cell_type": "markdown",
   "id": "21a606be",
   "metadata": {},
   "source": [
    "## Dataloader creation"
   ]
  },
  {
   "cell_type": "code",
   "execution_count": 18,
   "id": "1d767a51",
   "metadata": {},
   "outputs": [],
   "source": [
    "train_loader = DataLoader(train_data, batch_size=16, shuffle=True)\n",
    "val_loader = DataLoader(val_data, batch_size=16, shuffle=False)\n",
    "test_loader = DataLoader(test_data, batch_size=16, shuffle=False)"
   ]
  },
  {
   "cell_type": "code",
   "execution_count": 19,
   "id": "cd9c83d7",
   "metadata": {},
   "outputs": [
    {
     "name": "stdout",
     "output_type": "stream",
     "text": [
      "Image:\n",
      "Img type: <class 'torch.Tensor'>\n",
      "Data shape: torch.Size([16, 1, 28, 28])\n",
      "Data type: torch.float32\n",
      "Class:\n",
      "Class type: <class 'torch.Tensor'>\n",
      "Class shape: torch.Size([16])\n",
      "Class data type: torch.int64\n"
     ]
    }
   ],
   "source": [
    "imgs, cl = next(iter(train_loader))\n",
    "\n",
    "print('Image:')\n",
    "print(f'Img type: {type(imgs)}')\n",
    "print(f'Data shape: {imgs.shape}')\n",
    "print(f'Data type: {imgs.dtype}')\n",
    "\n",
    "print('Class:')\n",
    "print(f'Class type: {type(cl)}')\n",
    "print(f'Class shape: {cl.shape}')\n",
    "print(f'Class data type: {cl.dtype}')"
   ]
  },
  {
   "cell_type": "markdown",
   "id": "f964d010",
   "metadata": {},
   "source": [
    "## Model creation"
   ]
  },
  {
   "cell_type": "code",
   "execution_count": 46,
   "id": "754d597a",
   "metadata": {},
   "outputs": [],
   "source": [
    "class MyModel(nn.Module):\n",
    "    def __init__(self, inp, out):\n",
    "        super().__init__()\n",
    "        \n",
    "        self.conv = nn.Sequential(\n",
    "            nn.Conv2d(inp, 32, (3, 3), bias=False),\n",
    "            nn.BatchNorm2d(32),\n",
    "            nn.ReLU(),\n",
    "            nn.Conv2d(32, 64, (3, 3), bias=False),\n",
    "            nn.ReLU()\n",
    "        )\n",
    "        \n",
    "        self.flatten = nn.Flatten()\n",
    "        \n",
    "        self.fc = nn.Sequential(\n",
    "            nn.Linear(64*24*24, 128),\n",
    "            nn.ReLU(),\n",
    "            nn.Dropout(0.5),\n",
    "            nn.Linear(128, out)\n",
    "        )\n",
    "    \n",
    "    def forward(self, x):\n",
    "        x = self.conv(x)\n",
    "        x = self.flatten(x)\n",
    "        output = self.fc(x)\n",
    "        return output"
   ]
  },
  {
   "cell_type": "code",
   "execution_count": 47,
   "id": "7f939ea7",
   "metadata": {},
   "outputs": [],
   "source": [
    "model = MyModel(1, 10).to(device)"
   ]
  },
  {
   "cell_type": "code",
   "execution_count": 48,
   "id": "47d5be63",
   "metadata": {},
   "outputs": [],
   "source": [
    "inp = torch.rand([16, 1, 28, 28], dtype=torch.float32).to(device)"
   ]
  },
  {
   "cell_type": "code",
   "execution_count": 49,
   "id": "377e86d7",
   "metadata": {},
   "outputs": [],
   "source": [
    "out = model(inp)"
   ]
  },
  {
   "cell_type": "code",
   "execution_count": 50,
   "id": "83146cea",
   "metadata": {},
   "outputs": [
    {
     "data": {
      "text/plain": [
       "torch.Size([16, 10])"
      ]
     },
     "execution_count": 50,
     "metadata": {},
     "output_type": "execute_result"
    }
   ],
   "source": [
    "out.shape"
   ]
  },
  {
   "cell_type": "markdown",
   "id": "213d018c",
   "metadata": {},
   "source": [
    "### Model train"
   ]
  },
  {
   "cell_type": "code",
   "execution_count": 51,
   "id": "e36166eb",
   "metadata": {},
   "outputs": [],
   "source": [
    "loss_model = nn.CrossEntropyLoss()\n",
    "opt = torch.optim.Adam(model.parameters(), lr=0.001)"
   ]
  },
  {
   "cell_type": "code",
   "execution_count": 52,
   "id": "ed511736",
   "metadata": {},
   "outputs": [],
   "source": [
    "EPOCHS = 20\n",
    "train_loss = []\n",
    "train_acc = []\n",
    "val_loss = []\n",
    "val_acc = []"
   ]
  },
  {
   "cell_type": "code",
   "execution_count": 53,
   "id": "27ec1787",
   "metadata": {},
   "outputs": [
    {
     "name": "stderr",
     "output_type": "stream",
     "text": [
      "                                                                                \r"
     ]
    },
    {
     "name": "stdout",
     "output_type": "stream",
     "text": [
      "Epoch [1 / 20], train_loss=0.2057,train_acc=0.9385, val_loss=0.0727,val_acc=0.9769\n"
     ]
    },
    {
     "name": "stderr",
     "output_type": "stream",
     "text": [
      "                                                                                \r"
     ]
    },
    {
     "name": "stdout",
     "output_type": "stream",
     "text": [
      "Epoch [5 / 20], train_loss=0.0410,train_acc=0.9875, val_loss=0.0564,val_acc=0.9870\n"
     ]
    },
    {
     "name": "stderr",
     "output_type": "stream",
     "text": [
      "                                                                                \r"
     ]
    },
    {
     "name": "stdout",
     "output_type": "stream",
     "text": [
      "Epoch [10 / 20], train_loss=0.0183,train_acc=0.9944, val_loss=0.0623,val_acc=0.9871\n"
     ]
    },
    {
     "name": "stderr",
     "output_type": "stream",
     "text": [
      "                                                                                \r"
     ]
    },
    {
     "name": "stdout",
     "output_type": "stream",
     "text": [
      "Epoch [15 / 20], train_loss=0.0128,train_acc=0.9960, val_loss=0.0889,val_acc=0.9872\n"
     ]
    },
    {
     "name": "stderr",
     "output_type": "stream",
     "text": [
      "                                                                                \r"
     ]
    },
    {
     "name": "stdout",
     "output_type": "stream",
     "text": [
      "Epoch [20 / 20], train_loss=0.0113,train_acc=0.9964, val_loss=0.0860,val_acc=0.9884\n"
     ]
    }
   ],
   "source": [
    "for epoch in range(1, EPOCHS+1):\n",
    "    \n",
    "    model.train()\n",
    "    running_train_loss = []\n",
    "    true_answer = 0\n",
    "    \n",
    "    train_loop = tqdm(train_loader, leave=False)\n",
    "    for x, targets in train_loop:\n",
    "        x = x.to(device)\n",
    "#        x = x.reshape(-1, 28*28).to(device)\n",
    "        \n",
    "        targets = targets.reshape(-1).to(torch.int32)\n",
    "        targets = torch.eye(10)[targets].to(device)\n",
    "        \n",
    "        pred = model(x)\n",
    "        loss = loss_model(pred, targets)\n",
    "        \n",
    "        opt.zero_grad()\n",
    "        loss.backward()\n",
    "        \n",
    "        opt.step()\n",
    "        \n",
    "        running_train_loss.append(loss.item())\n",
    "        mean_train_loss = sum(running_train_loss) / len(running_train_loss)\n",
    "        \n",
    "        true_answer += (pred.argmax(dim=1) == targets.argmax(dim=1)).sum().item()\n",
    "        train_loop.set_description(f'Epoch [{epoch} / {EPOCHS}], train_loss={mean_train_loss:.4f}')\n",
    "    \n",
    "    running_train_acc = true_answer / len(train_data)\n",
    "    \n",
    "    train_loss.append(mean_train_loss)\n",
    "    train_acc.append(running_train_acc)\n",
    "    \n",
    "    model.eval()\n",
    "    with torch.no_grad():\n",
    "        running_val_loss = []\n",
    "        true_answer = 0\n",
    "        \n",
    "        for x, targets in val_loader:\n",
    "            x = x.to(device)\n",
    "#            x = x.reshape(-1, 28*28).to(device)\n",
    "            \n",
    "            targets = targets.reshape(-1).to(torch.int32)\n",
    "            targets = torch.eye(10)[targets].to(device)\n",
    "            \n",
    "            pred = model(x)\n",
    "            loss = loss_model(pred, targets)\n",
    "            \n",
    "            running_val_loss.append(loss.item())\n",
    "            mean_val_loss = sum(running_val_loss) / len(running_val_loss)\n",
    "            \n",
    "            true_answer += (pred.argmax(dim=1) == targets.argmax(dim=1)).sum().item()\n",
    "            \n",
    "        running_val_acc = true_answer / len(val_data)\n",
    "        \n",
    "        val_loss.append(mean_val_loss)\n",
    "        val_acc.append(running_val_acc)\n",
    "        \n",
    "        if epoch == 1 or epoch % 5 == 0:\n",
    "            print(f'Epoch [{epoch} / {EPOCHS}], train_loss={mean_train_loss:.4f},'\n",
    "                  f'train_acc={running_train_acc:.4f}, val_loss={mean_val_loss:.4f},'\n",
    "                  f'val_acc={running_val_acc:.4f}')  "
   ]
  },
  {
   "cell_type": "code",
   "execution_count": 54,
   "id": "dfb7dc47",
   "metadata": {},
   "outputs": [
    {
     "data": {
      "image/png": "[encoded data removed]",
      "text/plain": [
       "<Figure size 640x480 with 1 Axes>"
      ]
     },
     "metadata": {},
     "output_type": "display_data"
    }
   ],
   "source": [
    "plt.plot(train_loss)\n",
    "plt.plot(val_loss)\n",
    "plt.legend(['loss_train', 'loss_val'])\n",
    "plt.show()"
   ]
  },
  {
   "cell_type": "code",
   "execution_count": 55,
   "id": "926ec106",
   "metadata": {},
   "outputs": [
    {
     "data": {
      "image/png": "[encoded data removed]",
      "text/plain": [
       "<Figure size 640x480 with 1 Axes>"
      ]
     },
     "metadata": {},
     "output_type": "display_data"
    }
   ],
   "source": [
    "plt.plot(train_acc)\n",
    "plt.plot(val_acc)\n",
    "plt.legend(['acc_train', 'acc_val'])\n",
    "plt.show()"
   ]
  },
  {
   "cell_type": "code",
   "execution_count": null,
   "id": "66c8487f",
   "metadata": {},
   "outputs": [],
   "source": []
  }
 ],
 "metadata": {
  "kernelspec": {
   "display_name": "Python 3 (ipykernel)",
   "language": "python",
   "name": "python3"
  },
  "language_info": {
   "codemirror_mode": {
    "name": "ipython",
    "version": 3
   },
   "file_extension": ".py",
   "mimetype": "text/x-python",
   "name": "python",
   "nbconvert_exporter": "python",
   "pygments_lexer": "ipython3",
   "version": "3.12.2"
  },
  "toc": {
   "base_numbering": 1,
   "nav_menu": {},
   "number_sections": true,
   "sideBar": true,
   "skip_h1_title": true,
   "title_cell": "MNIST dataset classification",
   "title_sidebar": "Contents",
   "toc_cell": true,
   "toc_position": {
    "height": "calc(100% - 180px)",
    "left": "10px",
    "top": "150px",
    "width": "288px"
   },
   "toc_section_display": true,
   "toc_window_display": false
  },
  "varInspector": {
   "cols": {
    "lenName": 16,
    "lenType": 16,
    "lenVar": 40
   },
   "kernels_config": {
    "python": {
     "delete_cmd_postfix": "",
     "delete_cmd_prefix": "del ",
     "library": "var_list.py",
     "varRefreshCmd": "print(var_dic_list())"
    },
    "r": {
     "delete_cmd_postfix": ") ",
     "delete_cmd_prefix": "rm(",
     "library": "var_list.r",
     "varRefreshCmd": "cat(var_dic_list()) "
    }
   },
   "types_to_exclude": [
    "module",
    "function",
    "builtin_function_or_method",
    "instance",
    "_Feature"
   ],
   "window_display": false
  }
 },
 "nbformat": 4,
 "nbformat_minor": 5
}
