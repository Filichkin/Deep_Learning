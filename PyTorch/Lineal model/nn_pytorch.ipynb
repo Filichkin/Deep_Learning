{
 "cells": [
  {
   "cell_type": "markdown",
   "id": "229e94a9",
   "metadata": {
    "toc": true
   },
   "source": [
    "<h1>NN module PyTorch<span class=\"tocSkip\"></span></h1>\n",
    "<div class=\"toc\"><ul class=\"toc-item\"><li><span><a href=\"#Линейная-модель\" data-toc-modified-id=\"Линейная-модель-1\"><span class=\"toc-item-num\">1&nbsp;&nbsp;</span>Линейная модель</a></span></li><li><span><a href=\"#Группировка-входных-данных-в-батчи\" data-toc-modified-id=\"Группировка-входных-данных-в-батчи-2\"><span class=\"toc-item-num\">2&nbsp;&nbsp;</span>Группировка входных данных в батчи</a></span></li><li><span><a href=\"#Оптимизация-по-батчам\" data-toc-modified-id=\"Оптимизация-по-батчам-3\"><span class=\"toc-item-num\">3&nbsp;&nbsp;</span>Оптимизация по батчам</a></span></li><li><span><a href=\"#Замена-линейной-модели\" data-toc-modified-id=\"Замена-линейной-модели-4\"><span class=\"toc-item-num\">4&nbsp;&nbsp;</span>Замена линейной модели</a></span></li><li><span><a href=\"#Информация-о-параметрах\" data-toc-modified-id=\"Информация-о-параметрах-5\"><span class=\"toc-item-num\">5&nbsp;&nbsp;</span>Информация о параметрах</a></span></li><li><span><a href=\"#Сравнение-с-линейной-моделью\" data-toc-modified-id=\"Сравнение-с-линейной-моделью-6\"><span class=\"toc-item-num\">6&nbsp;&nbsp;</span>Сравнение с линейной моделью</a></span></li><li><span><a href=\"#Упражнения\" data-toc-modified-id=\"Упражнения-7\"><span class=\"toc-item-num\">7&nbsp;&nbsp;</span>Упражнения</a></span></li></ul></div>"
   ]
  },
  {
   "cell_type": "code",
   "execution_count": 1,
   "id": "1f249b6b",
   "metadata": {},
   "outputs": [],
   "source": [
    "import torch\n",
    "import torch.nn as nn\n",
    "import torch.optim as optim\n",
    "\n",
    "from collections import OrderedDict\n",
    "from matplotlib import pyplot as plt\n",
    "\n",
    "torch.set_printoptions(edgeitems=2, linewidth=75)"
   ]
  },
  {
   "cell_type": "code",
   "execution_count": 2,
   "id": "f09b7f64",
   "metadata": {},
   "outputs": [],
   "source": [
    "t_c = [0.5, 14.0, 15.0, 28.0, 11.0, 8.0, 3.0, 4.0, 6.0, 13.0, 21.0]\n",
    "t_u = [35.7, 55.9, 58.2, 81.9, 56.3, 48.9, 33.9, 21.8, 48.4, 60.4, 68.4]\n",
    "t_c = torch.tensor(t_c).unsqueeze(1) \n",
    "t_u = torch.tensor(t_u).unsqueeze(1)\n",
    "n_samples = t_u.shape[0]\n",
    "n_val = int(0.2 * n_samples)\n",
    "shuffled_indices = torch.randperm(n_samples)\n",
    "train_indices = shuffled_indices[:-n_val]\n",
    "val_indices = shuffled_indices[-n_val:]\n",
    "\n",
    "t_u_train = t_u[train_indices]\n",
    "t_c_train = t_c[train_indices]\n",
    "\n",
    "t_u_val = t_u[val_indices]\n",
    "t_c_val = t_c[val_indices]\n",
    "\n",
    "t_un_train = 0.1 * t_u_train\n",
    "t_un_val = 0.1 * t_u_val"
   ]
  },
  {
   "cell_type": "markdown",
   "id": "fe5e3a9f",
   "metadata": {},
   "source": [
    "### Линейная модель"
   ]
  },
  {
   "cell_type": "code",
   "execution_count": 3,
   "id": "b11142c5",
   "metadata": {},
   "outputs": [],
   "source": [
    "linear_model = nn.Linear(1, 1)"
   ]
  },
  {
   "cell_type": "code",
   "execution_count": 4,
   "id": "761494c0",
   "metadata": {},
   "outputs": [
    {
     "data": {
      "text/plain": [
       "tensor([[0.5916],\n",
       "        [0.5355]], grad_fn=<AddmmBackward0>)"
      ]
     },
     "execution_count": 4,
     "metadata": {},
     "output_type": "execute_result"
    }
   ],
   "source": [
    "linear_model(t_un_val)"
   ]
  },
  {
   "cell_type": "code",
   "execution_count": 5,
   "id": "528b2a86",
   "metadata": {},
   "outputs": [
    {
     "data": {
      "text/plain": [
       "(Parameter containing:\n",
       " tensor([[0.0415]], requires_grad=True),\n",
       " Parameter containing:\n",
       " tensor([0.2516], requires_grad=True))"
      ]
     },
     "execution_count": 5,
     "metadata": {},
     "output_type": "execute_result"
    }
   ],
   "source": [
    "linear_model.weight, linear_model.bias"
   ]
  },
  {
   "cell_type": "code",
   "execution_count": 6,
   "id": "1043a5e5",
   "metadata": {},
   "outputs": [
    {
     "data": {
      "text/plain": [
       "tensor([0.2931], grad_fn=<ViewBackward0>)"
      ]
     },
     "execution_count": 6,
     "metadata": {},
     "output_type": "execute_result"
    }
   ],
   "source": [
    "x = torch.ones(1)\n",
    "linear_model(x)"
   ]
  },
  {
   "cell_type": "markdown",
   "id": "530fb91a",
   "metadata": {},
   "source": [
    "### Группировка входных данных в батчи"
   ]
  },
  {
   "cell_type": "code",
   "execution_count": 7,
   "id": "425cc717",
   "metadata": {},
   "outputs": [
    {
     "data": {
      "text/plain": [
       "tensor([[0.2931],\n",
       "        [0.2931],\n",
       "        [0.2931],\n",
       "        [0.2931],\n",
       "        [0.2931],\n",
       "        [0.2931],\n",
       "        [0.2931],\n",
       "        [0.2931],\n",
       "        [0.2931],\n",
       "        [0.2931]], grad_fn=<AddmmBackward0>)"
      ]
     },
     "execution_count": 7,
     "metadata": {},
     "output_type": "execute_result"
    }
   ],
   "source": [
    "x = torch.ones(10, 1)\n",
    "linear_model(x)"
   ]
  },
  {
   "cell_type": "markdown",
   "id": "3b6d2112",
   "metadata": {},
   "source": [
    "### Оптимизация по батчам"
   ]
  },
  {
   "cell_type": "code",
   "execution_count": 8,
   "id": "0aa00c76",
   "metadata": {},
   "outputs": [],
   "source": [
    "optimizer = optim.SGD(\n",
    "    linear_model.parameters(),\n",
    "    lr=1e-4\n",
    ")"
   ]
  },
  {
   "cell_type": "code",
   "execution_count": 9,
   "id": "4947d69a",
   "metadata": {},
   "outputs": [
    {
     "data": {
      "text/plain": [
       "<generator object Module.parameters at 0x12d7e4c80>"
      ]
     },
     "execution_count": 9,
     "metadata": {},
     "output_type": "execute_result"
    }
   ],
   "source": [
    "linear_model.parameters()"
   ]
  },
  {
   "cell_type": "code",
   "execution_count": 10,
   "id": "e9b4083c",
   "metadata": {},
   "outputs": [
    {
     "data": {
      "text/plain": [
       "[Parameter containing:\n",
       " tensor([[0.0415]], requires_grad=True),\n",
       " Parameter containing:\n",
       " tensor([0.2516], requires_grad=True)]"
      ]
     },
     "execution_count": 10,
     "metadata": {},
     "output_type": "execute_result"
    }
   ],
   "source": [
    "list(linear_model.parameters())"
   ]
  },
  {
   "cell_type": "code",
   "execution_count": 11,
   "id": "f528f3ef",
   "metadata": {},
   "outputs": [],
   "source": [
    "def training_loop(n_epochs, optimizer, model, loss_fn, t_u_train, t_u_val,\n",
    "              t_c_train, t_c_val):\n",
    "    for epoch in range(1, n_epochs + 1):\n",
    "        t_p_train = model(t_u_train)\n",
    "        loss_train = loss_fn(t_p_train, t_c_train)\n",
    "        \n",
    "        t_p_val = model(t_u_val)\n",
    "        loss_val = loss_fn(t_p_val, t_c_val)\n",
    "        \n",
    "        optimizer.zero_grad()\n",
    "        loss_train.backward()\n",
    "        optimizer.step()\n",
    "        if epoch == 1 or epoch % 500 == 0:\n",
    "            print(f'Epoch {epoch}, Training loss {loss_train.item():.4f},'\n",
    "                  f'Validation loss {loss_val.item():.4f}')"
   ]
  },
  {
   "cell_type": "code",
   "execution_count": 12,
   "id": "9fe31ea0",
   "metadata": {},
   "outputs": [],
   "source": [
    "def loss_fn(t_p, t_c):\n",
    "    squared_diffs = (t_p - t_c)**2\n",
    "    return squared_diffs.mean()"
   ]
  },
  {
   "cell_type": "code",
   "execution_count": 13,
   "id": "d0302a9b",
   "metadata": {},
   "outputs": [
    {
     "name": "stdout",
     "output_type": "stream",
     "text": [
      "Epoch 1, Training loss 85.3100,Validation loss 585.0079\n",
      "Epoch 500, Training loss 11.4322,Validation loss 145.6837\n",
      "Epoch 1000, Training loss 10.7974,Validation loss 120.4607\n",
      "Epoch 1500, Training loss 10.7382,Validation loss 117.8203\n",
      "Epoch 2000, Training loss 10.6842,Validation loss 117.0610\n",
      "Epoch 2500, Training loss 10.6310,Validation loss 116.4712\n",
      "Epoch 3000, Training loss 10.5784,Validation loss 115.9008\n",
      "\n",
      "Parameter containing:\n",
      "tensor([[1.8213]], requires_grad=True)\n",
      "Parameter containing:\n",
      "tensor([0.2898], requires_grad=True)\n"
     ]
    }
   ],
   "source": [
    "training_loop(\n",
    "    n_epochs = 3000, \n",
    "    optimizer = optimizer,\n",
    "    model = linear_model,\n",
    "    loss_fn = nn.MSELoss(),\n",
    "    t_u_train = t_un_train,\n",
    "    t_u_val = t_un_val, \n",
    "    t_c_train = t_c_train,\n",
    "    t_c_val = t_c_val)\n",
    "\n",
    "print()\n",
    "print(linear_model.weight)\n",
    "print(linear_model.bias)"
   ]
  },
  {
   "cell_type": "markdown",
   "id": "c8d05b18",
   "metadata": {},
   "source": [
    "### Замена линейной модели"
   ]
  },
  {
   "cell_type": "code",
   "execution_count": 14,
   "id": "52d0c523",
   "metadata": {},
   "outputs": [],
   "source": [
    "seq_model = nn.Sequential(\n",
    "    nn.Linear(1, 13),\n",
    "    nn.Tanh(),\n",
    "    nn.Linear(13, 1)\n",
    ")"
   ]
  },
  {
   "cell_type": "code",
   "execution_count": 15,
   "id": "e9fa5350",
   "metadata": {},
   "outputs": [
    {
     "data": {
      "text/plain": [
       "Sequential(\n",
       "  (0): Linear(in_features=1, out_features=13, bias=True)\n",
       "  (1): Tanh()\n",
       "  (2): Linear(in_features=13, out_features=1, bias=True)\n",
       ")"
      ]
     },
     "execution_count": 15,
     "metadata": {},
     "output_type": "execute_result"
    }
   ],
   "source": [
    "seq_model"
   ]
  },
  {
   "cell_type": "markdown",
   "id": "667f04b0",
   "metadata": {},
   "source": [
    "### Информация о параметрах"
   ]
  },
  {
   "cell_type": "code",
   "execution_count": 16,
   "id": "287d132d",
   "metadata": {},
   "outputs": [
    {
     "data": {
      "text/plain": [
       "[torch.Size([13, 1]), torch.Size([13]), torch.Size([1, 13]), torch.Size([1])]"
      ]
     },
     "execution_count": 16,
     "metadata": {},
     "output_type": "execute_result"
    }
   ],
   "source": [
    "[param.shape for param in seq_model.parameters()]"
   ]
  },
  {
   "cell_type": "code",
   "execution_count": 17,
   "id": "87895229",
   "metadata": {},
   "outputs": [
    {
     "name": "stdout",
     "output_type": "stream",
     "text": [
      "0.weight torch.Size([13, 1])\n",
      "0.bias torch.Size([13])\n",
      "2.weight torch.Size([1, 13])\n",
      "2.bias torch.Size([1])\n"
     ]
    }
   ],
   "source": [
    "for name, param in seq_model.named_parameters():\n",
    "    print(name, param.shape)"
   ]
  },
  {
   "cell_type": "code",
   "execution_count": 18,
   "id": "7e249d75",
   "metadata": {},
   "outputs": [],
   "source": [
    "seq_model = nn.Sequential(OrderedDict([\n",
    "    ('hidden_linear', nn.Linear(1, 8)),\n",
    "    ('hidden_activation', nn.Tanh()),\n",
    "    ('output_linear', nn.Linear(8, 1))\n",
    "]))"
   ]
  },
  {
   "cell_type": "code",
   "execution_count": 19,
   "id": "86ef5143",
   "metadata": {},
   "outputs": [
    {
     "data": {
      "text/plain": [
       "Sequential(\n",
       "  (hidden_linear): Linear(in_features=1, out_features=8, bias=True)\n",
       "  (hidden_activation): Tanh()\n",
       "  (output_linear): Linear(in_features=8, out_features=1, bias=True)\n",
       ")"
      ]
     },
     "execution_count": 19,
     "metadata": {},
     "output_type": "execute_result"
    }
   ],
   "source": [
    "seq_model"
   ]
  },
  {
   "cell_type": "code",
   "execution_count": 20,
   "id": "4e0f00d7",
   "metadata": {},
   "outputs": [
    {
     "name": "stdout",
     "output_type": "stream",
     "text": [
      "hidden_linear.weight torch.Size([8, 1])\n",
      "hidden_linear.bias torch.Size([8])\n",
      "output_linear.weight torch.Size([1, 8])\n",
      "output_linear.bias torch.Size([1])\n"
     ]
    }
   ],
   "source": [
    "for name, param in seq_model.named_parameters():\n",
    "    print(name, param.shape)"
   ]
  },
  {
   "cell_type": "code",
   "execution_count": 21,
   "id": "607830ef",
   "metadata": {},
   "outputs": [
    {
     "data": {
      "text/plain": [
       "Parameter containing:\n",
       "tensor([-0.1727], requires_grad=True)"
      ]
     },
     "execution_count": 21,
     "metadata": {},
     "output_type": "execute_result"
    }
   ],
   "source": [
    "seq_model.output_linear.bias"
   ]
  },
  {
   "cell_type": "code",
   "execution_count": 22,
   "id": "6bd0f374",
   "metadata": {},
   "outputs": [],
   "source": [
    "optimizer = optim.SGD(seq_model.parameters(), lr=1e-3)"
   ]
  },
  {
   "cell_type": "code",
   "execution_count": 23,
   "id": "cf51102f",
   "metadata": {},
   "outputs": [
    {
     "name": "stdout",
     "output_type": "stream",
     "text": [
      "Epoch 1, Training loss 100.1883,Validation loss 636.9100\n",
      "Epoch 500, Training loss 11.0387,Validation loss 183.7402\n",
      "Epoch 1000, Training loss 7.5406,Validation loss 128.3131\n",
      "Epoch 1500, Training loss 6.3494,Validation loss 102.6777\n",
      "Epoch 2000, Training loss 5.5554,Validation loss 87.3707\n",
      "Epoch 2500, Training loss 4.9105,Validation loss 76.5922\n",
      "Epoch 3000, Training loss 4.3814,Validation loss 68.6407\n",
      "Epoch 3500, Training loss 3.9541,Validation loss 62.8994\n",
      "Epoch 4000, Training loss 3.6127,Validation loss 59.1122\n",
      "Epoch 4500, Training loss 3.3396,Validation loss 57.1956\n",
      "Epoch 5000, Training loss 3.1183,Validation loss 57.1420\n"
     ]
    }
   ],
   "source": [
    "training_loop(\n",
    "    n_epochs = 5000,\n",
    "    optimizer = optimizer,\n",
    "    model = seq_model,\n",
    "    loss_fn = nn.MSELoss(),\n",
    "    t_u_train = t_un_train,\n",
    "    t_u_val = t_un_val,\n",
    "    t_c_train = t_c_train,\n",
    "    t_c_val = t_c_val)"
   ]
  },
  {
   "cell_type": "code",
   "execution_count": 24,
   "id": "1d38a36c",
   "metadata": {},
   "outputs": [
    {
     "name": "stdout",
     "output_type": "stream",
     "text": [
      "output tensor([[18.2899],\n",
      "        [16.5277]], grad_fn=<AddmmBackward0>)\n",
      "answer tensor([[28.],\n",
      "        [21.]])\n",
      "hidden tensor([[ 0.0430],\n",
      "        [-0.0477],\n",
      "        [-0.0415],\n",
      "        [-0.0580],\n",
      "        [-0.0556],\n",
      "        [-0.0552],\n",
      "        [ 0.0598],\n",
      "        [-0.0533]])\n"
     ]
    }
   ],
   "source": [
    "print('output', seq_model(t_un_val))\n",
    "print('answer', t_c_val)\n",
    "print('hidden', seq_model.hidden_linear.weight.grad)"
   ]
  },
  {
   "cell_type": "markdown",
   "id": "4a9980e7",
   "metadata": {},
   "source": [
    "### Сравнение с линейной моделью"
   ]
  },
  {
   "cell_type": "code",
   "execution_count": 25,
   "id": "78a8f976",
   "metadata": {},
   "outputs": [],
   "source": [
    "t_range = torch.arange(20., 90.).unsqueeze(1)"
   ]
  },
  {
   "cell_type": "code",
   "execution_count": 26,
   "id": "e2137184",
   "metadata": {},
   "outputs": [
    {
     "data": {
      "text/plain": [
       "torch.Size([70, 1])"
      ]
     },
     "execution_count": 26,
     "metadata": {},
     "output_type": "execute_result"
    }
   ],
   "source": [
    "t_range.shape"
   ]
  },
  {
   "cell_type": "code",
   "execution_count": 27,
   "id": "11b9ca11",
   "metadata": {},
   "outputs": [
    {
     "data": {
      "text/plain": [
       "[<matplotlib.lines.Line2D at 0x12fda8290>]"
      ]
     },
     "execution_count": 27,
     "metadata": {},
     "output_type": "execute_result"
    },
    {
     "data": {
      "image/png": "[encoded data removed]",
      "text/plain": [
       "<Figure size 3840x2880 with 1 Axes>"
      ]
     },
     "metadata": {},
     "output_type": "display_data"
    }
   ],
   "source": [
    "fig = plt.figure(dpi=600)\n",
    "plt.xlabel('Fahrenheit')\n",
    "plt.ylabel('Celsius')\n",
    "plt.plot(t_u.numpy(), t_c.numpy(), 'o')\n",
    "plt.plot(t_range.numpy(), seq_model(0.1 * t_range).detach().numpy(), 'c-')\n",
    "plt.plot(t_u.numpy(), seq_model(0.1 * t_u).detach().numpy(), 'kx')"
   ]
  },
  {
   "cell_type": "markdown",
   "id": "fb5ebd8e",
   "metadata": {},
   "source": [
    "### Упражнения"
   ]
  },
  {
   "cell_type": "code",
   "execution_count": 28,
   "id": "0d5f4063",
   "metadata": {},
   "outputs": [],
   "source": [
    "t_c = [0.5, 14.0, 15.0, 28.0, 11.0, 8.0, 3.0, 4.0, 6.0, 13.0, 21.0]\n",
    "t_u = [35.7, 55.9, 58.2, 81.9, 56.3, 48.9, 33.9, 21.8, 48.4, 60.4, 68.4]\n",
    "t_c = torch.tensor(t_c).unsqueeze(1) \n",
    "t_u = torch.tensor(t_u).unsqueeze(1)\n",
    "n_samples = t_u.shape[0]\n",
    "n_val = int(0.2 * n_samples)\n",
    "shuffled_indices = torch.randperm(n_samples)\n",
    "train_indices = shuffled_indices[:-n_val]\n",
    "val_indices = shuffled_indices[-n_val:]\n",
    "\n",
    "x_train = t_u[train_indices]\n",
    "y_train = t_c[train_indices]\n",
    "\n",
    "x_val = t_u[val_indices]\n",
    "y_val = t_c[val_indices]\n",
    "\n",
    "x_train = 0.1 * x_train\n",
    "x_val = 0.1 * x_val"
   ]
  },
  {
   "cell_type": "code",
   "execution_count": 29,
   "id": "9c62f549",
   "metadata": {
    "scrolled": true
   },
   "outputs": [
    {
     "data": {
      "text/plain": [
       "tensor([[2.1800],\n",
       "        [3.3900],\n",
       "        [4.8400],\n",
       "        [4.8900],\n",
       "        [6.0400],\n",
       "        [5.8200],\n",
       "        [5.6300],\n",
       "        [5.5900],\n",
       "        [3.5700]])"
      ]
     },
     "execution_count": 29,
     "metadata": {},
     "output_type": "execute_result"
    }
   ],
   "source": [
    "x_train"
   ]
  },
  {
   "cell_type": "code",
   "execution_count": 30,
   "id": "629d4a62",
   "metadata": {},
   "outputs": [
    {
     "data": {
      "text/plain": [
       "tensor([[6.8400],\n",
       "        [8.1900]])"
      ]
     },
     "execution_count": 30,
     "metadata": {},
     "output_type": "execute_result"
    }
   ],
   "source": [
    "x_val"
   ]
  },
  {
   "cell_type": "code",
   "execution_count": 35,
   "id": "83530293",
   "metadata": {},
   "outputs": [],
   "source": [
    "def training_loop(n_epochs, optimizer, model, loss_fn, x_train, x_val,\n",
    "              y_train, y_val):\n",
    "    for epoch in range(1, n_epochs + 1):\n",
    "        p_train = model(x_train)\n",
    "        loss_train = loss_fn(p_train, y_train)\n",
    "        \n",
    "        p_val = model(x_val)\n",
    "        loss_val = loss_fn(p_val, y_val)\n",
    "        \n",
    "        optimizer.zero_grad()\n",
    "        loss_train.backward()\n",
    "        optimizer.step()\n",
    "        if epoch == 1 or epoch % 500 == 0:\n",
    "            print(f'Epoch {epoch}, Training loss {loss_train.item():.4f},'\n",
    "                  f'Validation loss {loss_val.item():.4f}')"
   ]
  },
  {
   "cell_type": "code",
   "execution_count": 36,
   "id": "aa49155b",
   "metadata": {},
   "outputs": [],
   "source": [
    "seq_model = nn.Sequential(OrderedDict([\n",
    "    ('hidden_linear', nn.Linear(1, 8)),\n",
    "    ('hidden_activation', nn.Tanh()),\n",
    "    ('output_linear', nn.Linear(8, 1)),\n",
    "    ('relu2', nn.ReLU()),\n",
    "    ('output_linear', nn.Linear(8, 1))\n",
    "]))"
   ]
  },
  {
   "cell_type": "code",
   "execution_count": 37,
   "id": "89be5c17",
   "metadata": {},
   "outputs": [
    {
     "data": {
      "text/plain": [
       "Sequential(\n",
       "  (hidden_linear): Linear(in_features=1, out_features=8, bias=True)\n",
       "  (hidden_activation): Tanh()\n",
       "  (output_linear): Linear(in_features=8, out_features=1, bias=True)\n",
       "  (relu2): ReLU()\n",
       ")"
      ]
     },
     "execution_count": 37,
     "metadata": {},
     "output_type": "execute_result"
    }
   ],
   "source": [
    "seq_model"
   ]
  },
  {
   "cell_type": "code",
   "execution_count": 38,
   "id": "f5e720db",
   "metadata": {},
   "outputs": [],
   "source": [
    "optimizer = optim.SGD(seq_model.parameters(), lr=1e-3)"
   ]
  },
  {
   "cell_type": "code",
   "execution_count": 39,
   "id": "ba3dca9a",
   "metadata": {},
   "outputs": [
    {
     "name": "stdout",
     "output_type": "stream",
     "text": [
      "Epoch 1, Training loss 81.8449,Validation loss 578.3057\n",
      "Epoch 500, Training loss 17.4974,Validation loss 236.8540\n",
      "Epoch 1000, Training loss 9.1718,Validation loss 159.6654\n",
      "Epoch 1500, Training loss 6.3905,Validation loss 116.1411\n",
      "Epoch 2000, Training loss 5.3263,Validation loss 93.5304\n",
      "Epoch 2500, Training loss 4.6502,Validation loss 80.2506\n",
      "Epoch 3000, Training loss 4.1426,Validation loss 71.7704\n",
      "Epoch 3500, Training loss 3.7479,Validation loss 66.1334\n",
      "Epoch 4000, Training loss 3.4432,Validation loss 62.6173\n",
      "Epoch 4500, Training loss 3.2050,Validation loss 61.0089\n",
      "Epoch 5000, Training loss 3.0132,Validation loss 61.1742\n"
     ]
    }
   ],
   "source": [
    "training_loop(\n",
    "    n_epochs = 5000,\n",
    "    optimizer = optimizer,\n",
    "    model = seq_model,\n",
    "    loss_fn = nn.MSELoss(),\n",
    "    x_train = x_train,\n",
    "    x_val = x_val,\n",
    "    y_train = y_train,\n",
    "    y_val = y_val\n",
    ")"
   ]
  },
  {
   "cell_type": "code",
   "execution_count": 85,
   "id": "3a0d2959",
   "metadata": {},
   "outputs": [],
   "source": [
    "wine_path = '/Users/alexfil/Desktop/PyTorch/data/winequality-white.csv'"
   ]
  },
  {
   "cell_type": "code",
   "execution_count": null,
   "id": "952719b6",
   "metadata": {},
   "outputs": [],
   "source": [
    "wineq_numpy = np.loadtxt(wine_path, dtype=np.float32, delimiter=\";\", skiprows=1)"
   ]
  },
  {
   "cell_type": "code",
   "execution_count": 86,
   "id": "dbde464a",
   "metadata": {},
   "outputs": [],
   "source": [
    "wineq = torch.from_numpy(wineq_numpy)"
   ]
  },
  {
   "cell_type": "code",
   "execution_count": 87,
   "id": "8c62ab89",
   "metadata": {},
   "outputs": [
    {
     "data": {
      "text/plain": [
       "(tensor([[ 7.0000,  0.2700,  ...,  0.4500,  8.8000],\n",
       "         [ 6.3000,  0.3000,  ...,  0.4900,  9.5000],\n",
       "         ...,\n",
       "         [ 6.5000,  0.2400,  ...,  0.4600,  9.4000],\n",
       "         [ 5.5000,  0.2900,  ...,  0.3800, 12.8000]]),\n",
       " torch.Size([4898, 11]))"
      ]
     },
     "execution_count": 87,
     "metadata": {},
     "output_type": "execute_result"
    }
   ],
   "source": [
    "data = wineq[:, :-1]\n",
    "data[:-1], data.shape"
   ]
  },
  {
   "cell_type": "code",
   "execution_count": 88,
   "id": "9e9a7be7",
   "metadata": {},
   "outputs": [
    {
     "data": {
      "text/plain": [
       "(tensor([[6.],\n",
       "         [6.],\n",
       "         ...,\n",
       "         [7.],\n",
       "         [6.]]),\n",
       " torch.Size([4898, 1]))"
      ]
     },
     "execution_count": 88,
     "metadata": {},
     "output_type": "execute_result"
    }
   ],
   "source": [
    "target = wineq[:, -1].unsqueeze(1)\n",
    "target,  target.shape"
   ]
  },
  {
   "cell_type": "code",
   "execution_count": 89,
   "id": "86ca05a9",
   "metadata": {},
   "outputs": [],
   "source": [
    "n_samples = data.shape[0]\n",
    "n_val = int(0.2 * n_samples)"
   ]
  },
  {
   "cell_type": "code",
   "execution_count": 90,
   "id": "799140cb",
   "metadata": {},
   "outputs": [
    {
     "data": {
      "text/plain": [
       "(4898, 979)"
      ]
     },
     "execution_count": 90,
     "metadata": {},
     "output_type": "execute_result"
    }
   ],
   "source": [
    "n_samples, n_val"
   ]
  },
  {
   "cell_type": "code",
   "execution_count": 91,
   "id": "7e997fa3",
   "metadata": {},
   "outputs": [],
   "source": [
    "data_mean = torch.mean(data, dim=0)"
   ]
  },
  {
   "cell_type": "code",
   "execution_count": 92,
   "id": "cd48c18c",
   "metadata": {},
   "outputs": [
    {
     "data": {
      "text/plain": [
       "tensor([7.1211e-01, 1.0160e-02, 1.4646e-02, 2.5726e+01, 4.7733e-04,\n",
       "        2.8924e+02, 1.8061e+03, 8.9455e-06, 2.2801e-02, 1.3025e-02,\n",
       "        1.5144e+00])"
      ]
     },
     "execution_count": 92,
     "metadata": {},
     "output_type": "execute_result"
    }
   ],
   "source": [
    "data_var = torch.var(data, dim=0)\n",
    "data_var"
   ]
  },
  {
   "cell_type": "code",
   "execution_count": 93,
   "id": "7c36f0f2",
   "metadata": {},
   "outputs": [
    {
     "data": {
      "text/plain": [
       "(tensor([[ 1.7208e-01, -8.1761e-02,  ..., -3.4915e-01, -1.3930e+00],\n",
       "         [-6.5743e-01,  2.1587e-01,  ...,  1.3422e-03, -8.2419e-01],\n",
       "         ...,\n",
       "         [-1.6054e+00,  1.1666e-01,  ..., -9.6251e-01,  1.8574e+00],\n",
       "         [-1.0129e+00, -6.7703e-01,  ..., -1.4882e+00,  1.0448e+00]]),\n",
       " torch.Size([4898, 11]))"
      ]
     },
     "execution_count": 93,
     "metadata": {},
     "output_type": "execute_result"
    }
   ],
   "source": [
    "data_normalized = (data - data_mean) / torch.sqrt(data_var)\n",
    "data_normalized, data_normalized.shape"
   ]
  },
  {
   "cell_type": "code",
   "execution_count": 94,
   "id": "8d006e20",
   "metadata": {},
   "outputs": [],
   "source": [
    "shuffled_indices = torch.randperm(n_samples)\n",
    "train_indices = shuffled_indices[:-n_val]\n",
    "val_indices = shuffled_indices[-n_val:]"
   ]
  },
  {
   "cell_type": "code",
   "execution_count": 95,
   "id": "4bd9a1af",
   "metadata": {},
   "outputs": [],
   "source": [
    "target_train = target[train_indices]\n",
    "data_train = data_normalized[train_indices]\n",
    "\n",
    "target_val = target[val_indices]\n",
    "data_val = data_normalized[val_indices]"
   ]
  },
  {
   "cell_type": "code",
   "execution_count": 96,
   "id": "915777ab",
   "metadata": {},
   "outputs": [
    {
     "data": {
      "text/plain": [
       "(torch.Size([3919, 1]), torch.Size([3919, 11]))"
      ]
     },
     "execution_count": 96,
     "metadata": {},
     "output_type": "execute_result"
    }
   ],
   "source": [
    "target_train.shape, data_train.shape"
   ]
  },
  {
   "cell_type": "code",
   "execution_count": 97,
   "id": "2d827b98",
   "metadata": {},
   "outputs": [
    {
     "data": {
      "text/plain": [
       "(torch.Size([979, 1]), torch.Size([979, 11]))"
      ]
     },
     "execution_count": 97,
     "metadata": {},
     "output_type": "execute_result"
    }
   ],
   "source": [
    "target_val.shape, data_val.shape"
   ]
  },
  {
   "cell_type": "code",
   "execution_count": 100,
   "id": "ae155398",
   "metadata": {},
   "outputs": [],
   "source": [
    "seq_model_wine = nn.Sequential(\n",
    "    nn.Linear(11,100),\n",
    "    nn.ReLU(),\n",
    "    nn.Linear(100,50),\n",
    "    nn.ReLU(),\n",
    "    nn.Linear(50,25),\n",
    "    nn.ReLU(),\n",
    "    nn.Linear(25,1)\n",
    ")\n",
    "optimizer = optim.SGD(seq_model_wine.parameters(), lr=1e-3)"
   ]
  },
  {
   "cell_type": "code",
   "execution_count": 101,
   "id": "31511c5a",
   "metadata": {},
   "outputs": [
    {
     "name": "stdout",
     "output_type": "stream",
     "text": [
      "Epoch 1, Training loss 36.3378,Validation loss 35.9244\n",
      "Epoch 500, Training loss 0.9188,Validation loss 0.8986\n",
      "Epoch 1000, Training loss 0.7077,Validation loss 0.6971\n",
      "Epoch 1500, Training loss 0.6121,Validation loss 0.6094\n",
      "Epoch 2000, Training loss 0.5628,Validation loss 0.5669\n",
      "Epoch 2500, Training loss 0.5369,Validation loss 0.5465\n",
      "Epoch 3000, Training loss 0.5218,Validation loss 0.5356\n",
      "Epoch 3500, Training loss 0.5117,Validation loss 0.5287\n",
      "Epoch 4000, Training loss 0.5044,Validation loss 0.5239\n",
      "Epoch 4500, Training loss 0.4987,Validation loss 0.5203\n",
      "Epoch 5000, Training loss 0.4940,Validation loss 0.5175\n"
     ]
    }
   ],
   "source": [
    "training_loop(\n",
    "    n_epochs = 5000,\n",
    "    optimizer = optimizer,\n",
    "    model = seq_model_wine,\n",
    "    loss_fn = nn.MSELoss(),\n",
    "    x_train = data_train,\n",
    "    x_val = data_val,\n",
    "    y_train = target_train,\n",
    "    y_val = target_val\n",
    ")"
   ]
  },
  {
   "cell_type": "code",
   "execution_count": 60,
   "id": "32b96f02",
   "metadata": {},
   "outputs": [],
   "source": [
    "pred = seq_model_wine(data_val)"
   ]
  },
  {
   "cell_type": "code",
   "execution_count": 62,
   "id": "fbe66f34",
   "metadata": {},
   "outputs": [
    {
     "data": {
      "text/plain": [
       "tensor([[6.3025],\n",
       "        [5.5913],\n",
       "        [5.4439],\n",
       "        [5.6378],\n",
       "        [6.2888]], grad_fn=<SliceBackward0>)"
      ]
     },
     "execution_count": 62,
     "metadata": {},
     "output_type": "execute_result"
    }
   ],
   "source": [
    "pred[:5]"
   ]
  },
  {
   "cell_type": "code",
   "execution_count": null,
   "id": "3bf0dba3",
   "metadata": {},
   "outputs": [],
   "source": []
  }
 ],
 "metadata": {
  "kernelspec": {
   "display_name": "Python 3 (ipykernel)",
   "language": "python",
   "name": "python3"
  },
  "language_info": {
   "codemirror_mode": {
    "name": "ipython",
    "version": 3
   },
   "file_extension": ".py",
   "mimetype": "text/x-python",
   "name": "python",
   "nbconvert_exporter": "python",
   "pygments_lexer": "ipython3",
   "version": "3.11.5"
  },
  "toc": {
   "base_numbering": 1,
   "nav_menu": {},
   "number_sections": true,
   "sideBar": true,
   "skip_h1_title": true,
   "title_cell": "Модуль NN PyTorch",
   "title_sidebar": "Contents",
   "toc_cell": true,
   "toc_position": {
    "height": "calc(100% - 180px)",
    "left": "10px",
    "top": "150px",
    "width": "267.59375px"
   },
   "toc_section_display": true,
   "toc_window_display": false
  },
  "varInspector": {
   "cols": {
    "lenName": 16,
    "lenType": 16,
    "lenVar": 40
   },
   "kernels_config": {
    "python": {
     "delete_cmd_postfix": "",
     "delete_cmd_prefix": "del ",
     "library": "var_list.py",
     "varRefreshCmd": "print(var_dic_list())"
    },
    "r": {
     "delete_cmd_postfix": ") ",
     "delete_cmd_prefix": "rm(",
     "library": "var_list.r",
     "varRefreshCmd": "cat(var_dic_list()) "
    }
   },
   "types_to_exclude": [
    "module",
    "function",
    "builtin_function_or_method",
    "instance",
    "_Feature"
   ],
   "window_display": false
  }
 },
 "nbformat": 4,
 "nbformat_minor": 5
}
