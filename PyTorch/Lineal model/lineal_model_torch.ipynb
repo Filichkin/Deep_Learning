{
 "cells": [
  {
   "cell_type": "markdown",
   "id": "bcc0b751",
   "metadata": {
    "toc": true
   },
   "source": [
    "<h1>Lineal model<span class=\"tocSkip\"></span></h1>\n",
    "<div class=\"toc\"><ul class=\"toc-item\"><li><span><a href=\"#Цикл-обучения\" data-toc-modified-id=\"Цикл-обучения-1\"><span class=\"toc-item-num\">1&nbsp;&nbsp;</span>Цикл обучения</a></span></li><li><span><a href=\"#Нормализация-входных-параметров\" data-toc-modified-id=\"Нормализация-входных-параметров-2\"><span class=\"toc-item-num\">2&nbsp;&nbsp;</span>Нормализация входных параметров</a></span></li><li><span><a href=\"#Использование-autograd\" data-toc-modified-id=\"Использование-autograd-3\"><span class=\"toc-item-num\">3&nbsp;&nbsp;</span>Использование autograd</a></span></li><li><span><a href=\"#Оптимизатор-на-основе-градиентного-спуска\" data-toc-modified-id=\"Оптимизатор-на-основе-градиентного-спуска-4\"><span class=\"toc-item-num\">4&nbsp;&nbsp;</span>Оптимизатор на основе градиентного спуска</a></span></li><li><span><a href=\"#Разбиение-набора-данных\" data-toc-modified-id=\"Разбиение-набора-данных-5\"><span class=\"toc-item-num\">5&nbsp;&nbsp;</span>Разбиение набора данных</a></span></li><li><span><a href=\"#Упражнение\" data-toc-modified-id=\"Упражнение-6\"><span class=\"toc-item-num\">6&nbsp;&nbsp;</span>Упражнение</a></span></li></ul></div>"
   ]
  },
  {
   "cell_type": "code",
   "execution_count": 12,
   "id": "6d1d0a1d",
   "metadata": {},
   "outputs": [],
   "source": [
    "import torch\n",
    "from matplotlib import pyplot as plt"
   ]
  },
  {
   "cell_type": "code",
   "execution_count": 54,
   "id": "ea9dfbe8",
   "metadata": {},
   "outputs": [],
   "source": [
    "t_c = [0.5, 14.0, 15.0, 28.0, 11.0, 8.0, 3.0, 4.0, 6.0, 13.0, 21.0]\n",
    "t_u = [35.7, 55.9, 58.2, 81.9, 56.3, 48.9, 33.9, 21.8, 48.4, 60.4, 68.4]"
   ]
  },
  {
   "cell_type": "code",
   "execution_count": 55,
   "id": "17b2a0d3",
   "metadata": {},
   "outputs": [],
   "source": [
    "t_c = torch.tensor(t_c) # температура в градусах по цельсию\n",
    "t_u = torch.tensor(t_u) # температура в неизвестных величинах"
   ]
  },
  {
   "cell_type": "code",
   "execution_count": 13,
   "id": "431d6fa0",
   "metadata": {},
   "outputs": [],
   "source": [
    "def model(t_u, w, b):\n",
    "    return w * t_u + b"
   ]
  },
  {
   "cell_type": "code",
   "execution_count": 15,
   "id": "50c742b9",
   "metadata": {},
   "outputs": [],
   "source": [
    "def loss_fn(t_p, t_c):\n",
    "    squared_diffs = (t_p - t_c)**2\n",
    "    return squared_diffs.mean()"
   ]
  },
  {
   "cell_type": "code",
   "execution_count": 16,
   "id": "7fb27e86",
   "metadata": {},
   "outputs": [],
   "source": [
    "w = torch.ones(())\n",
    "b = torch.zeros(())"
   ]
  },
  {
   "cell_type": "code",
   "execution_count": 17,
   "id": "756da67d",
   "metadata": {},
   "outputs": [
    {
     "data": {
      "text/plain": [
       "tensor([35.7000, 55.9000, 58.2000, 81.9000, 56.3000, 48.9000, 33.9000, 21.8000,\n",
       "        48.4000, 60.4000, 68.4000])"
      ]
     },
     "execution_count": 17,
     "metadata": {},
     "output_type": "execute_result"
    }
   ],
   "source": [
    "t_p = model(t_u, w, b)\n",
    "t_p"
   ]
  },
  {
   "cell_type": "code",
   "execution_count": 19,
   "id": "1ace3f32",
   "metadata": {},
   "outputs": [
    {
     "data": {
      "text/plain": [
       "tensor(1732.1757)"
      ]
     },
     "execution_count": 19,
     "metadata": {},
     "output_type": "execute_result"
    }
   ],
   "source": [
    "loss = loss_fn(t_p, t_c)\n",
    "loss"
   ]
  },
  {
   "cell_type": "code",
   "execution_count": 24,
   "id": "29095381",
   "metadata": {},
   "outputs": [],
   "source": [
    "x = torch.ones(())\n",
    "y = torch.ones(3, 1)\n",
    "z = torch.ones(1, 3)\n",
    "a = torch.ones(2, 1, 1)"
   ]
  },
  {
   "cell_type": "code",
   "execution_count": 25,
   "id": "50b9a5cc",
   "metadata": {},
   "outputs": [
    {
     "data": {
      "text/plain": [
       "tensor([[[1.]],\n",
       "\n",
       "        [[1.]]])"
      ]
     },
     "execution_count": 25,
     "metadata": {},
     "output_type": "execute_result"
    }
   ],
   "source": [
    "a"
   ]
  },
  {
   "cell_type": "code",
   "execution_count": 27,
   "id": "f86f21f4",
   "metadata": {},
   "outputs": [
    {
     "name": "stdout",
     "output_type": "stream",
     "text": [
      "shapes: x: torch.Size([]), y: torch.Size([3, 1])\n"
     ]
    }
   ],
   "source": [
    "print(f'shapes: x: {x.shape}, y: {y.shape}')"
   ]
  },
  {
   "cell_type": "code",
   "execution_count": 28,
   "id": "becc1e1b",
   "metadata": {},
   "outputs": [
    {
     "name": "stdout",
     "output_type": "stream",
     "text": [
      "z: torch.Size([1, 3]), a: torch.Size([2, 1, 1])\n"
     ]
    }
   ],
   "source": [
    "print(f'z: {z.shape}, a: {a.shape}')"
   ]
  },
  {
   "cell_type": "code",
   "execution_count": 29,
   "id": "e62d2a91",
   "metadata": {},
   "outputs": [
    {
     "name": "stdout",
     "output_type": "stream",
     "text": [
      "x * y: torch.Size([3, 1])\n"
     ]
    }
   ],
   "source": [
    "print('x * y:', (x * y).shape)"
   ]
  },
  {
   "cell_type": "code",
   "execution_count": 30,
   "id": "ee92f3e7",
   "metadata": {},
   "outputs": [
    {
     "name": "stdout",
     "output_type": "stream",
     "text": [
      "y * z: torch.Size([3, 3])\n"
     ]
    }
   ],
   "source": [
    "print('y * z:', (y * z).shape)"
   ]
  },
  {
   "cell_type": "code",
   "execution_count": 31,
   "id": "a127caaa",
   "metadata": {},
   "outputs": [
    {
     "name": "stdout",
     "output_type": "stream",
     "text": [
      "y * z * a: torch.Size([2, 3, 3])\n"
     ]
    }
   ],
   "source": [
    "print('y * z * a:', (y * z * a).shape)"
   ]
  },
  {
   "cell_type": "code",
   "execution_count": 32,
   "id": "0170e819",
   "metadata": {},
   "outputs": [
    {
     "data": {
      "text/plain": [
       "tensor([[[1., 1., 1.],\n",
       "         [1., 1., 1.],\n",
       "         [1., 1., 1.]],\n",
       "\n",
       "        [[1., 1., 1.],\n",
       "         [1., 1., 1.],\n",
       "         [1., 1., 1.]]])"
      ]
     },
     "execution_count": 32,
     "metadata": {},
     "output_type": "execute_result"
    }
   ],
   "source": [
    "y * z * a"
   ]
  },
  {
   "cell_type": "code",
   "execution_count": 33,
   "id": "cbf3d0dc",
   "metadata": {},
   "outputs": [],
   "source": [
    "delta = 0.1\n",
    "loss_rate_of_change_w = \\\n",
    "    (loss_fn(model(t_u, w + delta, b), t_c) -\n",
    "     loss_fn(model(t_u, w - delta, b), t_c)) / (2.0 * delta)"
   ]
  },
  {
   "cell_type": "code",
   "execution_count": 34,
   "id": "de2c3fee",
   "metadata": {},
   "outputs": [
    {
     "data": {
      "text/plain": [
       "tensor(4485.5889)"
      ]
     },
     "execution_count": 34,
     "metadata": {},
     "output_type": "execute_result"
    }
   ],
   "source": [
    "loss_rate_of_change_w"
   ]
  },
  {
   "cell_type": "code",
   "execution_count": 36,
   "id": "4464597d",
   "metadata": {},
   "outputs": [],
   "source": [
    "learning_rate = 1e-2"
   ]
  },
  {
   "cell_type": "code",
   "execution_count": 37,
   "id": "27f57938",
   "metadata": {},
   "outputs": [
    {
     "data": {
      "text/plain": [
       "tensor(44.8559)"
      ]
     },
     "execution_count": 37,
     "metadata": {},
     "output_type": "execute_result"
    }
   ],
   "source": [
    "learning_rate * loss_rate_of_change_w"
   ]
  },
  {
   "cell_type": "code",
   "execution_count": 38,
   "id": "528ff0e4",
   "metadata": {},
   "outputs": [],
   "source": [
    "learning_rate = 1e-2\n",
    "w = w - learning_rate * loss_rate_of_change_w"
   ]
  },
  {
   "cell_type": "code",
   "execution_count": 39,
   "id": "3b0d4845",
   "metadata": {},
   "outputs": [
    {
     "data": {
      "text/plain": [
       "tensor(-43.8559)"
      ]
     },
     "execution_count": 39,
     "metadata": {},
     "output_type": "execute_result"
    }
   ],
   "source": [
    "w"
   ]
  },
  {
   "cell_type": "code",
   "execution_count": 40,
   "id": "175e466b",
   "metadata": {},
   "outputs": [],
   "source": [
    "loss_rate_of_change_b = \\\n",
    "    (loss_fn(model(t_u, w, b + delta), t_c) -\n",
    "     loss_fn(model(t_u, w, b - delta), t_c)) / (2.0 * delta)"
   ]
  },
  {
   "cell_type": "code",
   "execution_count": 41,
   "id": "53cd95ea",
   "metadata": {},
   "outputs": [
    {
     "data": {
      "text/plain": [
       "tensor(-4570.)"
      ]
     },
     "execution_count": 41,
     "metadata": {},
     "output_type": "execute_result"
    }
   ],
   "source": [
    "loss_rate_of_change_b"
   ]
  },
  {
   "cell_type": "code",
   "execution_count": 42,
   "id": "e182d906",
   "metadata": {},
   "outputs": [],
   "source": [
    "b = b - learning_rate * loss_rate_of_change_b"
   ]
  },
  {
   "cell_type": "code",
   "execution_count": 43,
   "id": "ed4175af",
   "metadata": {},
   "outputs": [
    {
     "data": {
      "text/plain": [
       "tensor(45.7000)"
      ]
     },
     "execution_count": 43,
     "metadata": {},
     "output_type": "execute_result"
    }
   ],
   "source": [
    "b"
   ]
  },
  {
   "cell_type": "code",
   "execution_count": 44,
   "id": "a643d144",
   "metadata": {},
   "outputs": [
    {
     "data": {
      "text/plain": [
       "11"
      ]
     },
     "execution_count": 44,
     "metadata": {},
     "output_type": "execute_result"
    }
   ],
   "source": [
    "t_p.size(0)"
   ]
  },
  {
   "cell_type": "code",
   "execution_count": 46,
   "id": "4bd5829b",
   "metadata": {},
   "outputs": [],
   "source": [
    "# производная функции потерь\n",
    "def dloss_fn(t_p, t_c):\n",
    "    dsq_diffs = 2 * (t_p - t_c) / t_p.size(0)\n",
    "    return dsq_diffs"
   ]
  },
  {
   "cell_type": "code",
   "execution_count": 47,
   "id": "317beea7",
   "metadata": {},
   "outputs": [],
   "source": [
    "def dmodel_dw(t_u, w, b):\n",
    "    return t_u"
   ]
  },
  {
   "cell_type": "code",
   "execution_count": 48,
   "id": "561cb5cd",
   "metadata": {},
   "outputs": [],
   "source": [
    "def dmodel_db(t_u, w, b):\n",
    "    return 1.0"
   ]
  },
  {
   "cell_type": "code",
   "execution_count": 50,
   "id": "860b4e3c",
   "metadata": {},
   "outputs": [],
   "source": [
    "# обратный проход\n",
    "def grad_fn(t_u, t_c, t_p, w, b):\n",
    "    dloss_dtp = dloss_fn(t_p, t_c)\n",
    "    dloss_dw = dloss_dtp * dmodel_dw(t_u, w, b)\n",
    "    dloss_db = dloss_dtp * dmodel_db(t_u, w, b)\n",
    "    return torch.stack([dloss_dw.sum(), dloss_db.sum()])"
   ]
  },
  {
   "cell_type": "markdown",
   "id": "09a30b65",
   "metadata": {},
   "source": [
    "### Цикл обучения"
   ]
  },
  {
   "cell_type": "code",
   "execution_count": 66,
   "id": "63c66182",
   "metadata": {},
   "outputs": [],
   "source": [
    "def training_loop(n_epochs, learning_rate, params, t_u, t_c):\n",
    "    for epoch in range(1, n_epochs + 1):\n",
    "        w, b = params\n",
    "        t_p = model(t_u, w, b) # прямой проход \n",
    "        loss = loss_fn(t_p, t_c) \n",
    "        grad = grad_fn(t_u, t_c, t_p, w, b) # обратный проход\n",
    "        params = params - learning_rate * grad\n",
    "        print('Epoch %d, Loss %f' % (epoch, float(loss)))\n",
    "        print('Params:', params)\n",
    "        print('Grad:  ', grad)\n",
    "    return params"
   ]
  },
  {
   "cell_type": "code",
   "execution_count": 67,
   "id": "f801c65b",
   "metadata": {},
   "outputs": [
    {
     "name": "stdout",
     "output_type": "stream",
     "text": [
      "Epoch 1, Loss 1732.175659\n",
      "Params: tensor([-43.8559,  -0.8115])\n",
      "Grad:   tensor([4485.5874,   81.1455])\n",
      "Epoch 2, Loss 5721265.000000\n",
      "Params: tensor([2550.3701,   44.8640])\n",
      "Grad:   tensor([-259422.6094,   -4567.5464])\n",
      "Epoch 3, Loss 19136387072.000000\n",
      "Params: tensor([-147484.6094,   -2597.9922])\n",
      "Grad:   tensor([15003499.0000,   264285.6250])\n",
      "Epoch 4, Loss 64007297826816.000000\n",
      "Params: tensor([8529670.0000,  150248.2188])\n",
      "Grad:   tensor([-8.6772e+08, -1.5285e+07])\n",
      "Epoch 5, Loss 214091389422534656.000000\n",
      "Params: tensor([-4.9331e+08, -8.6895e+06])\n",
      "Grad:   tensor([5.0184e+10, 8.8397e+08])\n",
      "Epoch 6, Loss 716091973631534432256.000000\n",
      "Params: tensor([2.8530e+10, 5.0255e+08])\n",
      "Grad:   tensor([-2.9023e+12, -5.1124e+10])\n",
      "Epoch 7, Loss 2395181887799361993179136.000000\n",
      "Params: tensor([-1.6500e+12, -2.9065e+10])\n",
      "Grad:   tensor([1.6785e+14, 2.9567e+12])\n",
      "Epoch 8, Loss 8011396158788023201191428096.000000\n",
      "Params: tensor([9.5427e+13, 1.6809e+12])\n",
      "Grad:   tensor([-9.7077e+15, -1.7100e+14])\n",
      "Epoch 9, Loss 26796486358145929869341684137984.000000\n",
      "Params: tensor([-5.5189e+15, -9.7215e+13])\n",
      "Grad:   tensor([5.6144e+17, 9.8896e+15])\n",
      "Epoch 10, Loss 89628780127202502812883237258395648.000000\n",
      "Params: tensor([3.1918e+17, 5.6224e+15])\n",
      "Grad:   tensor([-3.2470e+19, -5.7196e+17])\n"
     ]
    },
    {
     "data": {
      "text/plain": [
       "tensor([3.1918e+17, 5.6224e+15])"
      ]
     },
     "execution_count": 67,
     "metadata": {},
     "output_type": "execute_result"
    }
   ],
   "source": [
    "training_loop(n_epochs = 10,\n",
    "              learning_rate = 1e-2,\n",
    "              params = torch.tensor([1.0, 0.0]),\n",
    "              t_u = t_u,\n",
    "              t_c = t_c)"
   ]
  },
  {
   "cell_type": "code",
   "execution_count": 68,
   "id": "d5b9206a",
   "metadata": {},
   "outputs": [
    {
     "name": "stdout",
     "output_type": "stream",
     "text": [
      "Epoch 1, Loss 1732.175659\n",
      "Params: tensor([ 0.5514, -0.0081])\n",
      "Grad:   tensor([4485.5874,   81.1455])\n",
      "Epoch 2, Loss 311.548065\n",
      "Params: tensor([ 0.3668, -0.0116])\n",
      "Grad:   tensor([1846.5056,   34.6586])\n",
      "Epoch 3, Loss 70.804909\n",
      "Params: tensor([ 0.2908, -0.0131])\n",
      "Grad:   tensor([760.1066,  15.5218])\n",
      "Epoch 4, Loss 30.007658\n",
      "Params: tensor([ 0.2595, -0.0139])\n",
      "Grad:   tensor([312.8818,   7.6440])\n",
      "Epoch 5, Loss 23.093687\n",
      "Params: tensor([ 0.2466, -0.0143])\n",
      "Grad:   tensor([128.7781,   4.4010])\n",
      "Epoch 6, Loss 21.921654\n",
      "Params: tensor([ 0.2413, -0.0146])\n",
      "Grad:   tensor([52.9904,  3.0660])\n",
      "Epoch 7, Loss 21.722664\n",
      "Params: tensor([ 0.2391, -0.0149])\n",
      "Grad:   tensor([21.7918,  2.5164])\n",
      "Epoch 8, Loss 21.688560\n",
      "Params: tensor([ 0.2382, -0.0151])\n",
      "Grad:   tensor([8.9488, 2.2901])\n",
      "Epoch 9, Loss 21.682405\n",
      "Params: tensor([ 0.2379, -0.0153])\n",
      "Grad:   tensor([3.6617, 2.1970])\n",
      "Epoch 10, Loss 21.680990\n",
      "Params: tensor([ 0.2377, -0.0156])\n",
      "Grad:   tensor([1.4853, 2.1586])\n"
     ]
    },
    {
     "data": {
      "text/plain": [
       "tensor([ 0.2377, -0.0156])"
      ]
     },
     "execution_count": 68,
     "metadata": {},
     "output_type": "execute_result"
    }
   ],
   "source": [
    "training_loop(n_epochs = 10,\n",
    "              learning_rate = 1e-4,\n",
    "              params = torch.tensor([1.0, 0.0]),\n",
    "              t_u = t_u,\n",
    "              t_c = t_c)"
   ]
  },
  {
   "cell_type": "markdown",
   "id": "92f7c3e0",
   "metadata": {},
   "source": [
    "### Нормализация входных параметров"
   ]
  },
  {
   "cell_type": "code",
   "execution_count": 69,
   "id": "1e1f44d4",
   "metadata": {},
   "outputs": [],
   "source": [
    "t_un = t_u * 0.1"
   ]
  },
  {
   "cell_type": "code",
   "execution_count": 70,
   "id": "56028c28",
   "metadata": {},
   "outputs": [
    {
     "name": "stdout",
     "output_type": "stream",
     "text": [
      "Epoch 1, Loss 77.193428\n",
      "Params: tensor([1.8078, 0.1209])\n",
      "Grad:   tensor([-80.7850, -12.0945])\n",
      "Epoch 2, Loss 30.687700\n",
      "Params: tensor([2.1280, 0.1558])\n",
      "Grad:   tensor([-32.0175,  -3.4833])\n",
      "Epoch 3, Loss 23.446587\n",
      "Params: tensor([2.2563, 0.1567])\n",
      "Grad:   tensor([-12.8252,  -0.0967])\n",
      "Epoch 4, Loss 22.286634\n",
      "Params: tensor([2.3090, 0.1444])\n",
      "Grad:   tensor([-5.2719,  1.2340])\n",
      "Epoch 5, Loss 22.068619\n",
      "Params: tensor([2.3320, 0.1269])\n",
      "Grad:   tensor([-2.2990,  1.7555])\n",
      "Epoch 6, Loss 21.996622\n",
      "Params: tensor([2.3433, 0.1073])\n",
      "Grad:   tensor([-1.1287,  1.9585])\n",
      "Epoch 7, Loss 21.947363\n",
      "Params: tensor([2.3500, 0.0869])\n",
      "Grad:   tensor([-0.6678,  2.0363])\n",
      "Epoch 8, Loss 21.901756\n",
      "Params: tensor([2.3548, 0.0663])\n",
      "Grad:   tensor([-0.4860,  2.0648])\n",
      "Epoch 9, Loss 21.856840\n",
      "Params: tensor([2.3590, 0.0455])\n",
      "Grad:   tensor([-0.4141,  2.0738])\n",
      "Epoch 10, Loss 21.812168\n",
      "Params: tensor([2.3628, 0.0248])\n",
      "Grad:   tensor([-0.3854,  2.0752])\n"
     ]
    },
    {
     "data": {
      "text/plain": [
       "tensor([2.3628, 0.0248])"
      ]
     },
     "execution_count": 70,
     "metadata": {},
     "output_type": "execute_result"
    }
   ],
   "source": [
    "training_loop(n_epochs = 10,\n",
    "              learning_rate = 1e-2,\n",
    "              params = torch.tensor([1.0, 0.0]),\n",
    "              t_u = t_un,\n",
    "              t_c = t_c)"
   ]
  },
  {
   "cell_type": "code",
   "execution_count": 88,
   "id": "e99d7993",
   "metadata": {},
   "outputs": [
    {
     "data": {
      "text/plain": [
       "tensor([  4.5202, -12.1869])"
      ]
     },
     "execution_count": 88,
     "metadata": {},
     "output_type": "execute_result"
    }
   ],
   "source": [
    "params"
   ]
  },
  {
   "cell_type": "code",
   "execution_count": 90,
   "id": "4d12f2a6",
   "metadata": {},
   "outputs": [
    {
     "data": {
      "text/plain": [
       "[<matplotlib.lines.Line2D at 0x12bcc3350>]"
      ]
     },
     "execution_count": 90,
     "metadata": {},
     "output_type": "execute_result"
    },
    {
     "data": {
      "image/png": "[encoded data removed]",
      "text/plain": [
       "<Figure size 2560x1920 with 1 Axes>"
      ]
     },
     "metadata": {},
     "output_type": "display_data"
    }
   ],
   "source": [
    "t_p = model(t_un, *params)\n",
    "fig = plt.figure(dpi=400)\n",
    "plt.xlabel(\"Temperature (°Fahrenheit)\")\n",
    "plt.ylabel(\"Temperature (°Celsius)\")\n",
    "plt.plot(t_u.numpy(), t_p.detach().numpy())\n",
    "plt.plot(t_u.numpy(), t_c.numpy(), 'o')"
   ]
  },
  {
   "cell_type": "markdown",
   "id": "480a2385",
   "metadata": {},
   "source": [
    "### Использование autograd"
   ]
  },
  {
   "cell_type": "code",
   "execution_count": 92,
   "id": "1039c71d",
   "metadata": {
    "collapsed": true
   },
   "outputs": [],
   "source": [
    "params = torch.tensor([1.0, 0], requires_grad=True)"
   ]
  },
  {
   "cell_type": "code",
   "execution_count": 93,
   "id": "19fb8d11",
   "metadata": {},
   "outputs": [
    {
     "data": {
      "text/plain": [
       "True"
      ]
     },
     "execution_count": 93,
     "metadata": {},
     "output_type": "execute_result"
    }
   ],
   "source": [
    "params.grad is None"
   ]
  },
  {
   "cell_type": "code",
   "execution_count": 94,
   "id": "b1ef3827",
   "metadata": {},
   "outputs": [],
   "source": [
    "loss = loss_fn(model(t_u, *params), t_c)"
   ]
  },
  {
   "cell_type": "code",
   "execution_count": 95,
   "id": "3318e637",
   "metadata": {},
   "outputs": [],
   "source": [
    "loss.backward()"
   ]
  },
  {
   "cell_type": "code",
   "execution_count": 96,
   "id": "5b63cbbe",
   "metadata": {},
   "outputs": [
    {
     "data": {
      "text/plain": [
       "tensor([4485.5879,   81.1455])"
      ]
     },
     "execution_count": 96,
     "metadata": {},
     "output_type": "execute_result"
    }
   ],
   "source": [
    "params.grad"
   ]
  },
  {
   "cell_type": "code",
   "execution_count": 99,
   "id": "572ff97a",
   "metadata": {},
   "outputs": [],
   "source": [
    "def training_loop(n_epochs, learning_rate, params, t_u, t_c):\n",
    "    for epoch in range(1, n_epochs + 1):\n",
    "        if params.grad is not None:\n",
    "            params.grad.zero_()\n",
    "        t_p = model(t_u, *params)\n",
    "        loss = loss_fn(t_p, t_c)\n",
    "        loss.backward()\n",
    "        with torch.no_grad():\n",
    "            params -= learning_rate * params.grad\n",
    "        if epoch % 500 == 0:\n",
    "            print('Epoch %d, Loss %f' % (epoch, float(loss)))\n",
    "    return params"
   ]
  },
  {
   "cell_type": "code",
   "execution_count": 100,
   "id": "8c427a2c",
   "metadata": {},
   "outputs": [
    {
     "name": "stdout",
     "output_type": "stream",
     "text": [
      "Epoch 500, Loss 11.178135\n",
      "Epoch 1000, Loss 9.153041\n",
      "Epoch 1500, Loss 8.783166\n",
      "Epoch 2000, Loss 8.715611\n",
      "Epoch 2500, Loss 8.703269\n",
      "Epoch 3000, Loss 8.701015\n",
      "Epoch 3500, Loss 8.700603\n",
      "Epoch 4000, Loss 8.700530\n",
      "Epoch 4500, Loss 8.700515\n",
      "Epoch 5000, Loss 8.700512\n"
     ]
    },
    {
     "data": {
      "text/plain": [
       "tensor([  4.5202, -12.1869], requires_grad=True)"
      ]
     },
     "execution_count": 100,
     "metadata": {},
     "output_type": "execute_result"
    }
   ],
   "source": [
    "training_loop(\n",
    "    n_epochs = 5000,\n",
    "    learning_rate = 1e-2,\n",
    "    params = torch.tensor([1.0, 0.0], requires_grad=True),\n",
    "    t_u = t_un,\n",
    "    t_c = t_c)"
   ]
  },
  {
   "cell_type": "code",
   "execution_count": 101,
   "id": "3b644818",
   "metadata": {},
   "outputs": [],
   "source": [
    "import torch.optim as optim"
   ]
  },
  {
   "cell_type": "code",
   "execution_count": 102,
   "id": "4a4a9c4a",
   "metadata": {},
   "outputs": [
    {
     "data": {
      "text/plain": [
       "['ASGD',\n",
       " 'Adadelta',\n",
       " 'Adagrad',\n",
       " 'Adam',\n",
       " 'AdamW',\n",
       " 'Adamax',\n",
       " 'LBFGS',\n",
       " 'NAdam',\n",
       " 'Optimizer',\n",
       " 'RAdam',\n",
       " 'RMSprop',\n",
       " 'Rprop',\n",
       " 'SGD',\n",
       " 'SparseAdam',\n",
       " '__builtins__',\n",
       " '__cached__',\n",
       " '__doc__',\n",
       " '__file__',\n",
       " '__loader__',\n",
       " '__name__',\n",
       " '__package__',\n",
       " '__path__',\n",
       " '__spec__',\n",
       " '_functional',\n",
       " '_multi_tensor',\n",
       " 'lr_scheduler',\n",
       " 'swa_utils']"
      ]
     },
     "execution_count": 102,
     "metadata": {},
     "output_type": "execute_result"
    }
   ],
   "source": [
    "dir(optim)"
   ]
  },
  {
   "cell_type": "markdown",
   "id": "3787eb40",
   "metadata": {},
   "source": [
    "### Оптимизатор на основе градиентного спуска"
   ]
  },
  {
   "cell_type": "code",
   "execution_count": 103,
   "id": "cdff5e21",
   "metadata": {},
   "outputs": [],
   "source": [
    "params = torch.tensor([1.0, 0.0], requires_grad=True)\n",
    "learning_rate = 1e-5\n",
    "optimizer = optim.SGD([params], lr=learning_rate)"
   ]
  },
  {
   "cell_type": "code",
   "execution_count": 104,
   "id": "10338715",
   "metadata": {},
   "outputs": [],
   "source": [
    "t_p = model(t_u, *params)\n",
    "loss = loss_fn(t_p, t_c)\n",
    "loss.backward()\n",
    "optimizer.step()"
   ]
  },
  {
   "cell_type": "code",
   "execution_count": 105,
   "id": "a748aac5",
   "metadata": {},
   "outputs": [
    {
     "data": {
      "text/plain": [
       "tensor([ 9.5514e-01, -8.1145e-04], requires_grad=True)"
      ]
     },
     "execution_count": 105,
     "metadata": {},
     "output_type": "execute_result"
    }
   ],
   "source": [
    "params"
   ]
  },
  {
   "cell_type": "code",
   "execution_count": 106,
   "id": "f5332c8f",
   "metadata": {},
   "outputs": [],
   "source": [
    "params = torch.tensor([1.0, 0.0], requires_grad=True)\n",
    "learning_rate = 1e-2\n",
    "optimizer = optim.SGD([params], lr=learning_rate)\n",
    "t_p = model(t_un, *params)\n",
    "loss = loss_fn(t_p, t_c)\n",
    "optimizer.zero_grad()\n",
    "loss.backward()\n",
    "optimizer.step()"
   ]
  },
  {
   "cell_type": "code",
   "execution_count": 107,
   "id": "ac60b3a8",
   "metadata": {},
   "outputs": [
    {
     "data": {
      "text/plain": [
       "tensor([1.8078, 0.1209], requires_grad=True)"
      ]
     },
     "execution_count": 107,
     "metadata": {},
     "output_type": "execute_result"
    }
   ],
   "source": [
    "params"
   ]
  },
  {
   "cell_type": "code",
   "execution_count": 108,
   "id": "e1a1bd27",
   "metadata": {},
   "outputs": [],
   "source": [
    "def training_loop(n_epochs, optimizer, params, t_u, t_c):\n",
    "    for epoch in range(1, n_epochs + 1):\n",
    "        t_p = model(t_u, *params)\n",
    "        loss = loss_fn(t_p, t_c)\n",
    "        optimizer.zero_grad()\n",
    "        loss.backward()\n",
    "        optimizer.step()\n",
    "        if epoch % 500 == 0:\n",
    "            print('Epoch %d, Loss %f' % (epoch, float(loss)))\n",
    "    return params"
   ]
  },
  {
   "cell_type": "code",
   "execution_count": 109,
   "id": "b44bcb1c",
   "metadata": {},
   "outputs": [],
   "source": [
    "params = torch.tensor([1.0, 0.0], requires_grad=True)\n",
    "learning_rate = 1e-2\n",
    "optimizer = optim.SGD([params], lr=learning_rate)"
   ]
  },
  {
   "cell_type": "code",
   "execution_count": 110,
   "id": "70d38e7a",
   "metadata": {},
   "outputs": [
    {
     "name": "stdout",
     "output_type": "stream",
     "text": [
      "Epoch 500, Loss 11.178135\n",
      "Epoch 1000, Loss 9.153041\n",
      "Epoch 1500, Loss 8.783166\n",
      "Epoch 2000, Loss 8.715611\n",
      "Epoch 2500, Loss 8.703269\n",
      "Epoch 3000, Loss 8.701015\n",
      "Epoch 3500, Loss 8.700603\n",
      "Epoch 4000, Loss 8.700530\n",
      "Epoch 4500, Loss 8.700515\n",
      "Epoch 5000, Loss 8.700512\n"
     ]
    },
    {
     "data": {
      "text/plain": [
       "tensor([  4.5202, -12.1869], requires_grad=True)"
      ]
     },
     "execution_count": 110,
     "metadata": {},
     "output_type": "execute_result"
    }
   ],
   "source": [
    "training_loop(\n",
    "    n_epochs = 5000,\n",
    "    optimizer = optimizer,\n",
    "    params = params,\n",
    "    t_u = t_un,\n",
    "    t_c = t_c)"
   ]
  },
  {
   "cell_type": "code",
   "execution_count": 111,
   "id": "75b2922d",
   "metadata": {},
   "outputs": [],
   "source": [
    "params = torch.tensor([1.0, 0.0], requires_grad=True)\n",
    "learning_rate = 1e-1\n",
    "optimizer = optim.Adam([params], lr=learning_rate)"
   ]
  },
  {
   "cell_type": "code",
   "execution_count": 112,
   "id": "92df3de3",
   "metadata": {},
   "outputs": [
    {
     "name": "stdout",
     "output_type": "stream",
     "text": [
      "Epoch 500, Loss 10.824798\n",
      "Epoch 1000, Loss 8.762753\n",
      "Epoch 1500, Loss 8.700804\n",
      "Epoch 2000, Loss 8.700513\n"
     ]
    },
    {
     "data": {
      "text/plain": [
       "tensor([  0.4520, -12.1882], requires_grad=True)"
      ]
     },
     "execution_count": 112,
     "metadata": {},
     "output_type": "execute_result"
    }
   ],
   "source": [
    "training_loop(\n",
    "    n_epochs = 2000,\n",
    "    optimizer = optimizer,\n",
    "    params = params,\n",
    "    t_u = t_u,\n",
    "    t_c = t_c)"
   ]
  },
  {
   "cell_type": "markdown",
   "id": "be885f93",
   "metadata": {},
   "source": [
    "### Разбиение набора данных"
   ]
  },
  {
   "cell_type": "code",
   "execution_count": 114,
   "id": "1210e6f2",
   "metadata": {},
   "outputs": [
    {
     "data": {
      "text/plain": [
       "11"
      ]
     },
     "execution_count": 114,
     "metadata": {},
     "output_type": "execute_result"
    }
   ],
   "source": [
    "n_samples = t_u.shape[0]\n",
    "n_samples"
   ]
  },
  {
   "cell_type": "code",
   "execution_count": 120,
   "id": "475bc81f",
   "metadata": {},
   "outputs": [
    {
     "data": {
      "text/plain": [
       "2"
      ]
     },
     "execution_count": 120,
     "metadata": {},
     "output_type": "execute_result"
    }
   ],
   "source": [
    "n_val = int(0.2 * n_samples)\n",
    "n_val"
   ]
  },
  {
   "cell_type": "code",
   "execution_count": 117,
   "id": "5b4179e9",
   "metadata": {},
   "outputs": [
    {
     "data": {
      "text/plain": [
       "tensor([ 2,  1,  7,  0,  3,  9,  4,  5, 10,  6,  8])"
      ]
     },
     "execution_count": 117,
     "metadata": {},
     "output_type": "execute_result"
    }
   ],
   "source": [
    "shuffled_indices = torch.randperm(n_samples)\n",
    "shuffled_indices"
   ]
  },
  {
   "cell_type": "code",
   "execution_count": 118,
   "id": "114d3285",
   "metadata": {},
   "outputs": [],
   "source": [
    "train_indices = shuffled_indices[:-n_val]\n",
    "val_indices = shuffled_indices[-n_val:]"
   ]
  },
  {
   "cell_type": "code",
   "execution_count": 119,
   "id": "848b3e3c",
   "metadata": {},
   "outputs": [
    {
     "data": {
      "text/plain": [
       "(tensor([ 2,  1,  7,  0,  3,  9,  4,  5, 10]), tensor([6, 8]))"
      ]
     },
     "execution_count": 119,
     "metadata": {},
     "output_type": "execute_result"
    }
   ],
   "source": [
    "train_indices, val_indices"
   ]
  },
  {
   "cell_type": "code",
   "execution_count": 121,
   "id": "bed3ef25",
   "metadata": {},
   "outputs": [],
   "source": [
    "train_t_u = t_u[train_indices]\n",
    "train_t_c = t_c[train_indices]\n",
    "val_t_u = t_u[val_indices]\n",
    "val_t_c = t_c[val_indices]"
   ]
  },
  {
   "cell_type": "code",
   "execution_count": 122,
   "id": "50a7161a",
   "metadata": {},
   "outputs": [],
   "source": [
    "train_t_un = 0.1 * train_t_u\n",
    "val_t_un = 0.1 * val_t_u"
   ]
  },
  {
   "cell_type": "code",
   "execution_count": 123,
   "id": "adde03cb",
   "metadata": {},
   "outputs": [],
   "source": [
    "def training_loop(n_epochs, optimizer, params, train_t_u, val_t_u,\n",
    "              train_t_c, val_t_c):\n",
    "    for epoch in range(1, n_epochs + 1):\n",
    "        train_t_p = model(train_t_u, *params)\n",
    "        train_loss = loss_fn(train_t_p, train_t_c)\n",
    "        \n",
    "        val_t_p = model(val_t_u, *params)\n",
    "        val_loss = loss_fn(val_t_p, val_t_c)\n",
    "        \n",
    "        optimizer.zero_grad()\n",
    "        train_loss.backward()\n",
    "        optimizer.step()\n",
    "        \n",
    "        if epoch <= 3 or epoch % 500 == 0:\n",
    "            print(f'Epoch {epoch}, Training loss {train_loss.item():.4f},'\n",
    "                  f'Validation loss {val_loss.item():.4f}')\n",
    "    return params"
   ]
  },
  {
   "cell_type": "code",
   "execution_count": 124,
   "id": "06890c64",
   "metadata": {},
   "outputs": [],
   "source": [
    "params = torch.tensor([1.0, 0.0], requires_grad=True)\n",
    "learning_rate = 1e-2\n",
    "optimizer = optim.SGD([params], lr=learning_rate)"
   ]
  },
  {
   "cell_type": "code",
   "execution_count": 125,
   "id": "365f61a4",
   "metadata": {},
   "outputs": [
    {
     "name": "stdout",
     "output_type": "stream",
     "text": [
      "Epoch 1, Training loss 94.1811,Validation loss 0.7488\n",
      "Epoch 2, Training loss 28.6573,Validation loss 14.3298\n",
      "Epoch 3, Training loss 21.0330,Validation loss 27.0762\n",
      "Epoch 500, Training loss 11.0644,Validation loss 17.1123\n",
      "Epoch 1000, Training loss 9.3242,Validation loss 11.8782\n",
      "Epoch 1500, Training loss 8.9909,Validation loss 10.1265\n",
      "Epoch 2000, Training loss 8.9271,Validation loss 9.4631\n",
      "Epoch 2500, Training loss 8.9148,Validation loss 9.1926\n",
      "Epoch 3000, Training loss 8.9125,Validation loss 9.0780\n"
     ]
    },
    {
     "data": {
      "text/plain": [
       "tensor([  4.4089, -11.1527], requires_grad=True)"
      ]
     },
     "execution_count": 125,
     "metadata": {},
     "output_type": "execute_result"
    }
   ],
   "source": [
    "training_loop(\n",
    "    n_epochs = 3000,\n",
    "    optimizer = optimizer,\n",
    "    params = params,\n",
    "    train_t_u = train_t_un,\n",
    "    val_t_u = val_t_un,\n",
    "    train_t_c = train_t_c,\n",
    "    val_t_c = val_t_c)"
   ]
  },
  {
   "cell_type": "markdown",
   "id": "aa879085",
   "metadata": {},
   "source": [
    "### Упражнение"
   ]
  },
  {
   "cell_type": "markdown",
   "id": "2fce6cb6",
   "metadata": {},
   "source": [
    "Поменяйте модель на w2 * t_u**2 + w1 * t_u + b"
   ]
  },
  {
   "cell_type": "code",
   "execution_count": 174,
   "id": "7b00a71c",
   "metadata": {},
   "outputs": [],
   "source": [
    "def model_upd(t_u, w1, w2, b):\n",
    "    return w2 * t_u**2 + w1 * t_u + b"
   ]
  },
  {
   "cell_type": "code",
   "execution_count": 175,
   "id": "fbfb3aa6",
   "metadata": {},
   "outputs": [],
   "source": [
    "def training_loop_upd(n_epochs, optimizer, params, train_t_u, val_t_u,\n",
    "              train_t_c, val_t_c):\n",
    "    for epoch in range(1, n_epochs + 1):\n",
    "        train_t_p = model_upd(train_t_u, *params)\n",
    "        train_loss = loss_fn(train_t_p, train_t_c)\n",
    "        \n",
    "        val_t_p = model_upd(val_t_u, *params)\n",
    "        val_loss = loss_fn(val_t_p, val_t_c)\n",
    "        \n",
    "        optimizer.zero_grad()\n",
    "        train_loss.backward()\n",
    "        optimizer.step()\n",
    "        \n",
    "        if epoch <= 3 or epoch % 500 == 0:\n",
    "            print(f'Epoch {epoch}, Training loss {train_loss.item():.4f},'\n",
    "                  f'Validation loss {val_loss.item():.4f}')\n",
    "    return params"
   ]
  },
  {
   "cell_type": "code",
   "execution_count": 178,
   "id": "2bbc1c11",
   "metadata": {},
   "outputs": [],
   "source": [
    "params = torch.tensor([1.0, 1.0, 0.0], requires_grad=True)\n",
    "learning_rate = 1e-4\n",
    "optimizer = optim.SGD([params], lr=learning_rate)"
   ]
  },
  {
   "cell_type": "code",
   "execution_count": 179,
   "id": "1309fada",
   "metadata": {},
   "outputs": [
    {
     "name": "stdout",
     "output_type": "stream",
     "text": [
      "Epoch 1, Training loss 742.8753,Validation loss 318.4707\n",
      "Epoch 2, Training loss 398.6072,Validation loss 198.2386\n",
      "Epoch 3, Training loss 215.5660,Validation loss 128.4664\n",
      "Epoch 500, Training loss 6.8026,Validation loss 13.2513\n",
      "Epoch 1000, Training loss 6.0941,Validation loss 11.3441\n",
      "Epoch 1500, Training loss 5.5756,Validation loss 9.8495\n",
      "Epoch 2000, Training loss 5.1961,Validation loss 8.6709\n",
      "Epoch 2500, Training loss 4.9182,Validation loss 7.7359\n",
      "Epoch 3000, Training loss 4.7146,Validation loss 6.9894\n"
     ]
    },
    {
     "data": {
      "text/plain": [
       "tensor([ 0.0236,  0.4109, -0.3119], requires_grad=True)"
      ]
     },
     "execution_count": 179,
     "metadata": {},
     "output_type": "execute_result"
    }
   ],
   "source": [
    "training_loop_upd(\n",
    "    n_epochs = 3000,\n",
    "    optimizer = optimizer,\n",
    "    params = params,\n",
    "    train_t_u = train_t_un,\n",
    "    val_t_u = val_t_un,\n",
    "    train_t_c = train_t_c,\n",
    "    val_t_c = val_t_c)"
   ]
  },
  {
   "cell_type": "code",
   "execution_count": null,
   "id": "643ab7c6",
   "metadata": {},
   "outputs": [],
   "source": []
  }
 ],
 "metadata": {
  "kernelspec": {
   "display_name": "Python 3 (ipykernel)",
   "language": "python",
   "name": "python3"
  },
  "language_info": {
   "codemirror_mode": {
    "name": "ipython",
    "version": 3
   },
   "file_extension": ".py",
   "mimetype": "text/x-python",
   "name": "python",
   "nbconvert_exporter": "python",
   "pygments_lexer": "ipython3",
   "version": "3.11.5"
  },
  "toc": {
   "base_numbering": 1,
   "nav_menu": {},
   "number_sections": true,
   "sideBar": true,
   "skip_h1_title": true,
   "title_cell": "Lineal model",
   "title_sidebar": "Contents",
   "toc_cell": true,
   "toc_position": {
    "height": "calc(100% - 180px)",
    "left": "10px",
    "top": "150px",
    "width": "267.59375px"
   },
   "toc_section_display": true,
   "toc_window_display": false
  },
  "varInspector": {
   "cols": {
    "lenName": 16,
    "lenType": 16,
    "lenVar": 40
   },
   "kernels_config": {
    "python": {
     "delete_cmd_postfix": "",
     "delete_cmd_prefix": "del ",
     "library": "var_list.py",
     "varRefreshCmd": "print(var_dic_list())"
    },
    "r": {
     "delete_cmd_postfix": ") ",
     "delete_cmd_prefix": "rm(",
     "library": "var_list.r",
     "varRefreshCmd": "cat(var_dic_list()) "
    }
   },
   "types_to_exclude": [
    "module",
    "function",
    "builtin_function_or_method",
    "instance",
    "_Feature"
   ],
   "window_display": false
  }
 },
 "nbformat": 4,
 "nbformat_minor": 5
}
