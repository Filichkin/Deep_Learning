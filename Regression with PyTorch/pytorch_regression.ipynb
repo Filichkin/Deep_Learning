{
 "cells": [
  {
   "cell_type": "markdown",
   "id": "099e0411",
   "metadata": {
    "toc": true
   },
   "source": [
    "<h1>Regression tasks with PyTorch<span class=\"tocSkip\"></span></h1>\n",
    "<div class=\"toc\"><ul class=\"toc-item\"><li><span><a href=\"#Data-preparation\" data-toc-modified-id=\"Data-preparation-1\"><span class=\"toc-item-num\">1&nbsp;&nbsp;</span>Data preparation</a></span><ul class=\"toc-item\"><li><ul class=\"toc-item\"><li><span><a href=\"#Dataset-with-clear-borders\" data-toc-modified-id=\"Dataset-with-clear-borders-1.0.1\"><span class=\"toc-item-num\">1.0.1&nbsp;&nbsp;</span>Dataset with clear borders</a></span></li><li><span><a href=\"#Dataset-with-blur-borders\" data-toc-modified-id=\"Dataset-with-blur-borders-1.0.2\"><span class=\"toc-item-num\">1.0.2&nbsp;&nbsp;</span>Dataset with blur borders</a></span></li></ul></li></ul></li><li><span><a href=\"#Data-transformation\" data-toc-modified-id=\"Data-transformation-2\"><span class=\"toc-item-num\">2&nbsp;&nbsp;</span>Data transformation</a></span></li><li><span><a href=\"#Dataset-creation\" data-toc-modified-id=\"Dataset-creation-3\"><span class=\"toc-item-num\">3&nbsp;&nbsp;</span>Dataset creation</a></span><ul class=\"toc-item\"><li><ul class=\"toc-item\"><li><span><a href=\"#Regression-with-clear-borders\" data-toc-modified-id=\"Regression-with-clear-borders-3.0.1\"><span class=\"toc-item-num\">3.0.1&nbsp;&nbsp;</span>Regression with clear borders</a></span></li><li><span><a href=\"#Model-evaluation-with-test-data\" data-toc-modified-id=\"Model-evaluation-with-test-data-3.0.2\"><span class=\"toc-item-num\">3.0.2&nbsp;&nbsp;</span>Model evaluation with test data</a></span></li><li><span><a href=\"#Regression-with-blur-border\" data-toc-modified-id=\"Regression-with-blur-border-3.0.3\"><span class=\"toc-item-num\">3.0.3&nbsp;&nbsp;</span>Regression with blur border</a></span></li><li><span><a href=\"#Model-evaluation-with-test-data-(blur-border_dataset)\" data-toc-modified-id=\"Model-evaluation-with-test-data-(blur-border_dataset)-3.0.4\"><span class=\"toc-item-num\">3.0.4&nbsp;&nbsp;</span>Model evaluation with test data (blur border_dataset)</a></span></li><li><span><a href=\"#Additional-model-(reg_model)-training-with-blur-border-(model-pre-trained,-no-frozen-pre-trained-parameters)\" data-toc-modified-id=\"Additional-model-(reg_model)-training-with-blur-border-(model-pre-trained,-no-frozen-pre-trained-parameters)-3.0.5\"><span class=\"toc-item-num\">3.0.5&nbsp;&nbsp;</span>Additional model (reg_model) training with blur border (model pre-trained, no frozen pre-trained parameters)</a></span></li><li><span><a href=\"#Additional-model-(reg_model)-training-with-blur-border-(model-pre-trained,-frozen-pre-trained-parameters)\" data-toc-modified-id=\"Additional-model-(reg_model)-training-with-blur-border-(model-pre-trained,-frozen-pre-trained-parameters)-3.0.6\"><span class=\"toc-item-num\">3.0.6&nbsp;&nbsp;</span>Additional model (reg_model) training with blur border (model pre-trained, frozen pre-trained parameters)</a></span></li><li><span><a href=\"#Finetuning\" data-toc-modified-id=\"Finetuning-3.0.7\"><span class=\"toc-item-num\">3.0.7&nbsp;&nbsp;</span>Finetuning</a></span></li></ul></li></ul></li></ul></div>"
   ]
  },
  {
   "cell_type": "code",
   "execution_count": 76,
   "id": "bce36316",
   "metadata": {},
   "outputs": [],
   "source": [
    "import torch\n",
    "import torch.nn as nn\n",
    "\n",
    "from torch.utils.data import Dataset, DataLoader, random_split\n",
    "\n",
    "import torchvision\n",
    "from torchvision.transforms import v2\n",
    "\n",
    "import os\n",
    "import matplotlib.pyplot as plt\n",
    "import numpy as np\n",
    "\n",
    "import json\n",
    "from tqdm import tqdm\n",
    "from PIL import Image\n",
    "\n",
    "import struct\n",
    "import sys\n",
    "from array import array\n",
    "from os import path\n",
    "\n",
    "from matplotlib.ticker import AutoMinorLocator, MultipleLocator"
   ]
  },
  {
   "cell_type": "code",
   "execution_count": 77,
   "id": "3f13cb68",
   "metadata": {},
   "outputs": [
    {
     "data": {
      "text/plain": [
       "'mps'"
      ]
     },
     "execution_count": 77,
     "metadata": {},
     "output_type": "execute_result"
    }
   ],
   "source": [
    "device = 'mps' if torch.backends.mps.is_available() else 'cpu'\n",
    "device"
   ]
  },
  {
   "cell_type": "markdown",
   "id": "db626a92",
   "metadata": {},
   "source": [
    "## Data preparation"
   ]
  },
  {
   "cell_type": "markdown",
   "id": "3b6bead6",
   "metadata": {},
   "source": [
    "#### Dataset with clear borders"
   ]
  },
  {
   "cell_type": "code",
   "execution_count": 78,
   "id": "945eda12",
   "metadata": {},
   "outputs": [],
   "source": [
    "if not os.path.isdir('/Users/alexeyfilichkin/Desktop/PyTorch/coordinates/clear_borders/dataset'):\n",
    "    os.mkdir('/Users/alexeyfilichkin/Desktop/PyTorch/coordinates/clear_borders/dataset')\n",
    "\n",
    "img = np.random.randint(0, 50, [10000, 64, 64], dtype=np.uint8)\n",
    "square = np.random.randint(100, 200, [10000, 15, 15], dtype=np.uint8)\n",
    "\n",
    "coords = np.empty([100000, 2])\n",
    "\n",
    "data = {}\n",
    "\n",
    "for i in range(img.shape[0]):\n",
    "    x = np.random.randint(20, 44)\n",
    "    y = np.random.randint(20, 44)\n",
    "    \n",
    "    img[i, (y - 7):(y + 8), (x - 7):(x + 8)] = square[i]\n",
    "    coords[i] = (x, y)\n",
    "    \n",
    "    name_img = f'img_{i}.jpeg'\n",
    "    path_img = os.path.join('/Users/alexeyfilichkin/Desktop/PyTorch/coordinates/clear_borders/dataset/', name_img)\n",
    "    \n",
    "    image = Image.fromarray(img[i])\n",
    "    image.save(path_img)\n",
    "    \n",
    "    data[name_img] = [y, x]\n",
    "    \n",
    "with open('/Users/alexeyfilichkin/Desktop/PyTorch/coordinates/clear_borders/dataset/coords.json', 'w')  as f:\n",
    "    json.dump(data, f, indent=2)"
   ]
  },
  {
   "cell_type": "markdown",
   "id": "c7b02094",
   "metadata": {},
   "source": [
    "#### Dataset with blur borders"
   ]
  },
  {
   "cell_type": "code",
   "execution_count": 79,
   "id": "ff0d652e",
   "metadata": {},
   "outputs": [],
   "source": [
    "if not os.path.isdir('/Users/alexeyfilichkin/Desktop/PyTorch/coordinates/blur_borders/dataset'):\n",
    "    os.mkdir('/Users/alexeyfilichkin/Desktop/PyTorch/coordinates/blur_borders/dataset')\n",
    "\n",
    "img = np.random.randint(70, 150, [10000, 64, 64], dtype=np.uint8)\n",
    "square = np.random.randint(100, 200, [10000, 15, 15], dtype=np.uint8)\n",
    "'''\n",
    "for i in range(square.shape[0]):\n",
    "    square[i] = np.pad(square[i][1:-1,1:-1],\n",
    "                       pad_width=((1, 1), (1, 1)),\n",
    "                       mode='constant',\n",
    "                       constant_values=20\n",
    "                      )\n",
    "'''\n",
    "\n",
    "coords = np.empty([100000, 2])\n",
    "\n",
    "data = {}\n",
    "\n",
    "for i in range(img.shape[0]):\n",
    "    x = np.random.randint(20, 44)\n",
    "    y = np.random.randint(20, 44)\n",
    "    \n",
    "    img[i, (y - 7):(y + 8), (x - 7):(x + 8)] = square[i]\n",
    "    coords[i] = (x, y)\n",
    "    \n",
    "    name_img = f'img_{i}.jpeg'\n",
    "    path_img = os.path.join('/Users/alexeyfilichkin/Desktop/PyTorch/coordinates/blur_borders/dataset/', name_img)\n",
    "    \n",
    "    image = Image.fromarray(img[i])\n",
    "    image.save(path_img)\n",
    "    \n",
    "    data[name_img] = [y, x]\n",
    "    \n",
    "with open('/Users/alexeyfilichkin/Desktop/PyTorch/coordinates/blur_borders/dataset/coords.json', 'w')  as f:\n",
    "    json.dump(data, f, indent=2)"
   ]
  },
  {
   "cell_type": "markdown",
   "id": "05e678fb",
   "metadata": {},
   "source": [
    "## Data transformation"
   ]
  },
  {
   "cell_type": "code",
   "execution_count": 80,
   "id": "0f60a837",
   "metadata": {},
   "outputs": [],
   "source": [
    "transform = v2.Compose([\n",
    "    v2.ToImage(),\n",
    "    v2.ToDtype(torch.float32, scale=True),\n",
    "    v2.Normalize(mean=(0.5,), std=(0.5,))\n",
    "])"
   ]
  },
  {
   "cell_type": "markdown",
   "id": "aac3b405",
   "metadata": {},
   "source": [
    "## Dataset creation"
   ]
  },
  {
   "cell_type": "code",
   "execution_count": 81,
   "id": "016a221d",
   "metadata": {},
   "outputs": [],
   "source": [
    "class DatasetReg(Dataset):\n",
    "    def __init__(self, path, transform=None):\n",
    "        self.path = path\n",
    "        self.transform = transform\n",
    "        \n",
    "        self.list_name_file = os.listdir(path)\n",
    "        if 'coords.json' in self.list_name_file:\n",
    "            self.list_name_file.remove('coords.json')\n",
    "            \n",
    "        self.len_dataset = len(self.list_name_file)\n",
    "        \n",
    "        with open(os.path.join(self.path, 'coords.json'), 'r') as f:\n",
    "            self.dict_coords = json.load(f)\n",
    "    \n",
    "    def __len__(self):\n",
    "        return self.len_dataset\n",
    "    \n",
    "    def __getitem__(self, index):\n",
    "        name_file = self.list_name_file[index]\n",
    "        path_img = os.path.join(self.path, name_file)\n",
    "\n",
    "        img = Image.open(path_img)\n",
    "        coord = torch.tensor(self.dict_coords[name_file], dtype=torch.float32)\n",
    "        \n",
    "        \n",
    "        if self.transform is not None:\n",
    "            img = self.transform(img)\n",
    "        \n",
    "        return img, coord    "
   ]
  },
  {
   "cell_type": "markdown",
   "id": "2d37bc91",
   "metadata": {},
   "source": [
    "#### Regression with clear borders"
   ]
  },
  {
   "cell_type": "code",
   "execution_count": 82,
   "id": "7efafcd2",
   "metadata": {},
   "outputs": [],
   "source": [
    "dataset_reg = DatasetReg('/Users/alexeyfilichkin/Desktop/PyTorch/coordinates/clear_borders/dataset',\n",
    "                        transform=transform)"
   ]
  },
  {
   "cell_type": "code",
   "execution_count": 83,
   "id": "0f4492d8",
   "metadata": {},
   "outputs": [],
   "source": [
    "img, coord = dataset_reg[1204]"
   ]
  },
  {
   "cell_type": "code",
   "execution_count": 84,
   "id": "52b337b0",
   "metadata": {},
   "outputs": [
    {
     "name": "stdout",
     "output_type": "stream",
     "text": [
      "Coord: tensor([34., 20.])\n"
     ]
    },
    {
     "data": {
      "image/png": "[encoded data removed]",
      "text/plain": [
       "<Figure size 640x480 with 1 Axes>"
      ]
     },
     "metadata": {},
     "output_type": "display_data"
    }
   ],
   "source": [
    "print(f'Coord: {coord}')\n",
    "      \n",
    "plt.imshow(img.numpy()[0], cmap='gray');"
   ]
  },
  {
   "cell_type": "code",
   "execution_count": 85,
   "id": "88283e49",
   "metadata": {},
   "outputs": [],
   "source": [
    "train_set, val_set, test_set = random_split(dataset_reg, [0.7, 0.1, 0.2])"
   ]
  },
  {
   "cell_type": "code",
   "execution_count": 86,
   "id": "60dc2f94",
   "metadata": {},
   "outputs": [],
   "source": [
    "train_loader_reg = DataLoader(train_set, batch_size=16, shuffle=True)\n",
    "val_loader_reg = DataLoader(val_set, batch_size=16, shuffle=False)\n",
    "test_loader_reg = DataLoader(test_set, batch_size=16, shuffle=False)"
   ]
  },
  {
   "cell_type": "code",
   "execution_count": 87,
   "id": "166408c7",
   "metadata": {},
   "outputs": [
    {
     "name": "stdout",
     "output_type": "stream",
     "text": [
      "Image:\n",
      "Img type: <class 'torch.Tensor'>\n",
      "Data shape: torch.Size([16, 1, 64, 64])\n",
      "Data type: torch.float32\n",
      "Coords:\n",
      "Coords type: <class 'torch.Tensor'>\n",
      "Coords shape: torch.Size([16, 2])\n",
      "Coords data type: torch.float32\n"
     ]
    }
   ],
   "source": [
    "imgs, cords = next(iter(train_loader_reg))\n",
    "\n",
    "print('Image:')\n",
    "print(f'Img type: {type(imgs)}')\n",
    "print(f'Data shape: {imgs.shape}')\n",
    "print(f'Data type: {imgs.dtype}')\n",
    "\n",
    "print('Coords:')\n",
    "print(f'Coords type: {type(cords)}')\n",
    "print(f'Coords shape: {cords.shape}')\n",
    "print(f'Coords data type: {cords.dtype}')"
   ]
  },
  {
   "cell_type": "code",
   "execution_count": 228,
   "id": "e4be3663",
   "metadata": {},
   "outputs": [],
   "source": [
    "class MyModelReg(nn.Module):\n",
    "    def __init__(self, inp, out):\n",
    "        super().__init__()\n",
    "        \n",
    "        self.conv = nn.Sequential(\n",
    "            nn.Conv2d(inp, 32, (3, 3), bias=True),\n",
    "#            nn.BatchNorm2d(32),\n",
    "            nn.ReLU(),\n",
    "            nn.Conv2d(32, 64, (3, 3), bias=True),\n",
    "#            nn.BatchNorm2d(64),\n",
    "            nn.ReLU()\n",
    "        )\n",
    "        \n",
    "        self.flatten = nn.Flatten()\n",
    "        \n",
    "        self.fc = nn.Sequential(\n",
    "            nn.Linear(64*60*60, 128),\n",
    "            nn.ReLU(),\n",
    "#            nn.Dropout(0.5),\n",
    "            nn.Linear(128, out)\n",
    "        )\n",
    "    \n",
    "    def forward(self, x):\n",
    "        x = self.conv(x)\n",
    "        x = self.flatten(x)\n",
    "        output = self.fc(x)\n",
    "        return output"
   ]
  },
  {
   "cell_type": "code",
   "execution_count": 89,
   "id": "c71edf20",
   "metadata": {},
   "outputs": [],
   "source": [
    "class EarlyStopping:\n",
    "    def __init__(self, mode='min', patience=10, threshold=0.0001, threshold_mode='rel'):\n",
    "        if mode not in {'min', 'max'}:\n",
    "            raise ValueError(f'Please select from min or max')\n",
    "        if threshold_mode not in {'rel', 'abs'}:\n",
    "            raise ValueError(f'Please select from rel or abs')\n",
    "        if not isinstance(patience, int):\n",
    "            raise TypeError(f'Please select int datatype')\n",
    "        if not isinstance(threshold, float):\n",
    "            raise TypeError(f'Please select float datatype')\n",
    "        if threshold >= 1.0:\n",
    "            raise ValueError(f'Please select threshold less 1.0')\n",
    "        \n",
    "        self.mode = mode\n",
    "        self.patience = patience\n",
    "        self.threshold = threshold\n",
    "        self.threshold_mode = threshold_mode\n",
    "        self.count = 0\n",
    "        self.best = None\n",
    "        \n",
    "    def __call__(self, tracked_parameter):\n",
    "        current = float(tracked_parameter)\n",
    "        if self.best == None:\n",
    "            self.best = current\n",
    "            return False\n",
    "        \n",
    "        if self.changed_better(current, self.best):\n",
    "            self.best = current\n",
    "            self.count = 0\n",
    "        else:\n",
    "            self.count += 1\n",
    "            \n",
    "        if self.count >= self.patience:\n",
    "            self.count = 0\n",
    "            return True\n",
    "        return False\n",
    "    \n",
    "    def changed_better(self, current, best):\n",
    "        if self.mode == 'min' and self.threshold_mode == 'rel':\n",
    "            return current < best - best * self.threshold\n",
    "        \n",
    "        elif self.mode == 'min' and self.threshold_mode == 'abs':\n",
    "            return current < best - self.threshold\n",
    "        \n",
    "        elif self.mode == 'max' and self.threshold_mode == 'rel':\n",
    "            return current > best + best * self.threshold\n",
    "        \n",
    "        else:\n",
    "            return current > best + self.threshold"
   ]
  },
  {
   "cell_type": "code",
   "execution_count": 92,
   "id": "bfd4b9ca",
   "metadata": {},
   "outputs": [],
   "source": [
    "model_reg = MyModelReg(1, 2).to(device)"
   ]
  },
  {
   "cell_type": "code",
   "execution_count": 93,
   "id": "e5c3c7eb",
   "metadata": {},
   "outputs": [],
   "source": [
    "inp = torch.rand([16, 1, 64, 64], dtype=torch.float32).to(device)"
   ]
  },
  {
   "cell_type": "code",
   "execution_count": 94,
   "id": "b3dd0b39",
   "metadata": {},
   "outputs": [
    {
     "data": {
      "text/plain": [
       "torch.Size([16, 2])"
      ]
     },
     "execution_count": 94,
     "metadata": {},
     "output_type": "execute_result"
    }
   ],
   "source": [
    "test = model_reg(inp)\n",
    "test.shape"
   ]
  },
  {
   "cell_type": "code",
   "execution_count": 95,
   "id": "1737b61e",
   "metadata": {},
   "outputs": [],
   "source": [
    "loss_reg = nn.MSELoss()\n",
    "opt_reg = torch.optim.Adam(model_reg.parameters(), lr=0.0001)\n",
    "\n",
    "lr_scheduler = torch.optim.lr_scheduler.ReduceLROnPlateau(opt_reg,\n",
    "#                                                        mode='min',\n",
    "#                                                        factor=0.1,\n",
    "                                                        patience=5,\n",
    "#                                                        threshold=0.0001,\n",
    "#                                                        threshold_mode='rel',\n",
    "#                                                        cooldown=0,\n",
    "#                                                        min_lr=0,\n",
    "#                                                       eps=1e-08\n",
    "                                                       )\n",
    "\n",
    "earlystopping = EarlyStopping(mode='min', patience=10)"
   ]
  },
  {
   "cell_type": "code",
   "execution_count": 96,
   "id": "cf0a00d3",
   "metadata": {},
   "outputs": [],
   "source": [
    "EPOCHS = 5\n",
    "train_loss = []\n",
    "train_acc = []\n",
    "val_loss = []\n",
    "val_acc = []\n",
    "lr_list = []\n",
    "best_loss = None\n",
    "#count = 0"
   ]
  },
  {
   "cell_type": "code",
   "execution_count": 97,
   "id": "1561b367",
   "metadata": {
    "scrolled": false
   },
   "outputs": [
    {
     "name": "stderr",
     "output_type": "stream",
     "text": [
      "                                                                                \r"
     ]
    },
    {
     "name": "stdout",
     "output_type": "stream",
     "text": [
      "Epoch [1 / 5], train_loss=15.9228,train_acc=0.5890, val_loss=0.0511,val_acc=0.9390, lr=0.0001\n"
     ]
    },
    {
     "name": "stderr",
     "output_type": "stream",
     "text": [
      "                                                                                \r"
     ]
    },
    {
     "name": "stdout",
     "output_type": "stream",
     "text": [
      "On epoch 2, model was saved with validation los function data: 0.0361\n",
      "\n"
     ]
    },
    {
     "name": "stderr",
     "output_type": "stream",
     "text": [
      "                                                                                \r"
     ]
    },
    {
     "name": "stdout",
     "output_type": "stream",
     "text": [
      "On epoch 4, model was saved with validation los function data: 0.0285\n",
      "\n"
     ]
    },
    {
     "name": "stderr",
     "output_type": "stream",
     "text": [
      "                                                                                \r"
     ]
    },
    {
     "name": "stdout",
     "output_type": "stream",
     "text": [
      "Epoch [5 / 5], train_loss=0.0312,train_acc=0.9827, val_loss=0.0306,val_acc=0.9870, lr=0.0001\n"
     ]
    }
   ],
   "source": [
    "for epoch in range(1, EPOCHS+1):\n",
    "    \n",
    "    model_reg.train()\n",
    "    running_train_loss = []\n",
    "    true_answer = 0\n",
    "    \n",
    "    train_loop = tqdm(train_loader_reg, leave=False)\n",
    "    for x, targets in train_loop:\n",
    "#       x = x.reshape(-1, 64*64).to(device)\n",
    "        x = x.to(device)\n",
    "        \n",
    "        targets = targets.to(device)\n",
    "        \n",
    "        pred = model_reg(x)\n",
    "        loss = loss_reg(pred, targets)\n",
    "        \n",
    "        opt_reg.zero_grad()\n",
    "        loss.backward()\n",
    "        \n",
    "        opt_reg.step()\n",
    "        \n",
    "        running_train_loss.append(loss.item())\n",
    "        mean_train_loss = sum(running_train_loss) / len(running_train_loss)\n",
    "        \n",
    "        true_answer += (torch.round(pred) == targets).all(dim=1).sum().item()\n",
    "        train_loop.set_description(f'Epoch [{epoch} / {EPOCHS}], train_loss={mean_train_loss:.4f}')\n",
    "    \n",
    "    running_train_acc = true_answer / len(train_set)\n",
    "    \n",
    "    train_loss.append(mean_train_loss)\n",
    "    train_acc.append(running_train_acc)\n",
    "    \n",
    "    model_reg.eval()\n",
    "    with torch.no_grad():\n",
    "        running_val_loss = []\n",
    "        true_answer = 0\n",
    "        \n",
    "        for x, targets in val_loader_reg:\n",
    "#            x = x.reshape(-1, 64*64).to(device)\n",
    "            x = x.to(device)\n",
    "            \n",
    "            targets = targets.to(device)\n",
    "            \n",
    "            pred = model_reg(x)\n",
    "            loss = loss_reg(pred, targets)\n",
    "            \n",
    "            running_val_loss.append(loss.item())\n",
    "            mean_val_loss = sum(running_val_loss) / len(running_val_loss)\n",
    "            \n",
    "            true_answer += (torch.round(pred) == targets).all(dim=1).sum().item()\n",
    "            \n",
    "        running_val_acc = true_answer / len(val_set)\n",
    "        \n",
    "        val_loss.append(mean_val_loss)\n",
    "        val_acc.append(running_val_acc)\n",
    "        \n",
    "        \n",
    "    \n",
    "    lr_scheduler.step(mean_val_loss)\n",
    "    lr = lr_scheduler._last_lr[0]\n",
    "    lr_list.append(lr)\n",
    "    \n",
    "    if epoch == 1 or epoch % 5 == 0:\n",
    "        print(f'Epoch [{epoch} / {EPOCHS}], train_loss={mean_train_loss:.4f},'\n",
    "              f'train_acc={running_train_acc:.4f}, val_loss={mean_val_loss:.4f},'\n",
    "              f'val_acc={running_val_acc:.4f}, lr={lr:.4f}'\n",
    "             )\n",
    "        \n",
    "    if best_loss == None:\n",
    "        best_loss = mean_val_loss\n",
    "        \n",
    "    if mean_val_loss < best_loss:\n",
    "        best_loss = mean_val_loss\n",
    "        \n",
    "        checkpoint = {\n",
    "            'state_model': model_reg.state_dict(),\n",
    "            'state_opt': opt_reg.state_dict(),\n",
    "            'state_lr_scheduler': lr_scheduler.state_dict(),\n",
    "            'loss': {\n",
    "                'train_loss': train_loss,\n",
    "                'val_loss': val_loss,\n",
    "                'best_loss': best_loss\n",
    "            },\n",
    "            'metric': {\n",
    "                'train_acc': train_acc,\n",
    "                'val_acc': val_acc\n",
    "            },\n",
    "            'lr': lr_list,\n",
    "            'epoch': {\n",
    "                'EPOCHS': EPOCHS,\n",
    "                'save_epoch': epoch\n",
    "            }\n",
    "        }\n",
    "        \n",
    "        torch.save(checkpoint,\n",
    "                   f'/Users/alexeyfilichkin/Desktop/PyTorch/coordinates/clear_borders/models_saved/model_state_dict_epoch_{epoch}.pt')\n",
    "        print(f'On epoch {epoch},'\n",
    "              f' model was saved with validation los function data: {mean_val_loss:.4f}', end='\\n\\n')\n",
    "    \n",
    "    if earlystopping(mean_val_loss):\n",
    "        print(f'\\33[31mTraining was stopped on {epoch+1} epoch\\033[0m')\n",
    "        break\n",
    "\n",
    "    \n",
    "    "
   ]
  },
  {
   "cell_type": "code",
   "execution_count": 98,
   "id": "6ae5f389",
   "metadata": {},
   "outputs": [
    {
     "data": {
      "image/png": "[encoded data removed]",
      "text/plain": [
       "<Figure size 640x480 with 1 Axes>"
      ]
     },
     "metadata": {},
     "output_type": "display_data"
    }
   ],
   "source": [
    "plt.plot(lr_list)\n",
    "plt.show()"
   ]
  },
  {
   "cell_type": "code",
   "execution_count": 99,
   "id": "26701e80",
   "metadata": {},
   "outputs": [
    {
     "data": {
      "image/png": "[encoded data removed]",
      "text/plain": [
       "<Figure size 640x480 with 1 Axes>"
      ]
     },
     "metadata": {},
     "output_type": "display_data"
    }
   ],
   "source": [
    "plt.plot(train_loss)\n",
    "plt.plot(val_loss)\n",
    "plt.legend(['loss_train', 'loss_val'])\n",
    "plt.show()"
   ]
  },
  {
   "cell_type": "code",
   "execution_count": 100,
   "id": "090fe745",
   "metadata": {},
   "outputs": [
    {
     "data": {
      "image/png": "[encoded data removed]",
      "text/plain": [
       "<Figure size 640x480 with 1 Axes>"
      ]
     },
     "metadata": {},
     "output_type": "display_data"
    }
   ],
   "source": [
    "plt.plot(train_acc)\n",
    "plt.plot(val_acc)\n",
    "plt.legend(['acc_train', 'acc_val'])\n",
    "plt.show()"
   ]
  },
  {
   "cell_type": "markdown",
   "id": "bd899c3d",
   "metadata": {},
   "source": [
    "#### Model evaluation with test data"
   ]
  },
  {
   "cell_type": "code",
   "execution_count": 101,
   "id": "921c7f93",
   "metadata": {},
   "outputs": [
    {
     "data": {
      "text/plain": [
       "<All keys matched successfully>"
      ]
     },
     "execution_count": 101,
     "metadata": {},
     "output_type": "execute_result"
    }
   ],
   "source": [
    "checkpoint = torch.load(\n",
    "    '/Users/alexeyfilichkin/Desktop/PyTorch/coordinates/clear_borders/models_saved/model_state_dict_epoch_4.pt',\n",
    "    map_location=device,\n",
    "    weights_only=True)\n",
    "model_reg.load_state_dict(checkpoint['state_model'])"
   ]
  },
  {
   "cell_type": "code",
   "execution_count": 102,
   "id": "3515a812",
   "metadata": {},
   "outputs": [
    {
     "name": "stdout",
     "output_type": "stream",
     "text": [
      "test_losqs=0.0292,test_acc=0.9860\n",
      "\n"
     ]
    }
   ],
   "source": [
    "model_reg.eval()\n",
    "with torch.no_grad():\n",
    "    running_test_loss = []\n",
    "    true_answer = 0\n",
    "        \n",
    "    for x, targets in test_loader_reg:\n",
    "#        x = x.reshape(-1, 64*64).to(device)\n",
    "        x = x.to(device)\n",
    "            \n",
    "        targets = targets.to(device)\n",
    "            \n",
    "        pred = model_reg(x)\n",
    "        loss = loss_reg(pred, targets)\n",
    "            \n",
    "        running_test_loss.append(loss.item())\n",
    "        mean_test_loss = sum(running_test_loss) / len(running_test_loss)\n",
    "            \n",
    "        true_answer += (torch.round(pred) == targets).all(dim=1).sum().item()\n",
    "            \n",
    "    running_test_acc = true_answer / len(test_set)\n",
    "        \n",
    "print(f'test_losqs={mean_test_loss:.4f},'\n",
    "      f'test_acc={running_test_acc:.4f}', end='\\n\\n')"
   ]
  },
  {
   "cell_type": "code",
   "execution_count": 103,
   "id": "31b2df2c",
   "metadata": {
    "scrolled": false
   },
   "outputs": [
    {
     "name": "stdout",
     "output_type": "stream",
     "text": [
      "Pred coord:        tensor([39.8386, 32.0921], device='mps:0', grad_fn=<SelectBackward0>)\n",
      "\u001b[31mPred round-coord: \u001b[0m tensor([40., 32.], device='mps:0', grad_fn=<RoundBackward0>)\n",
      "\u001b[32mTrue coord: \u001b[0m       tensor([40., 32.])\n"
     ]
    },
    {
     "data": {
      "text/plain": [
       "[<matplotlib.lines.Line2D at 0x30a16a630>]"
      ]
     },
     "execution_count": 103,
     "metadata": {},
     "output_type": "execute_result"
    },
    {
     "data": {
      "image/png": "[encoded data removed]",
      "text/plain": [
       "<Figure size 640x480 with 1 Axes>"
      ]
     },
     "metadata": {},
     "output_type": "display_data"
    }
   ],
   "source": [
    "img, coord = test_set[500]\n",
    "\n",
    "model_reg.eval()\n",
    "\n",
    "pred = model_reg(torch.unsqueeze(img, 0).to(device)).to(device)\n",
    "\n",
    "x_pred = torch.round(pred[0])[1].item()\n",
    "y_pred = torch.round(pred[0])[0].item()\n",
    "\n",
    "print(f'Pred coord:        {pred[0]}')\n",
    "print(f'\\033[31mPred round-coord: \\033[0m {torch.round(pred[0])}')\n",
    "print(f'\\033[32mTrue coord: \\033[0m       {coord}')\n",
    "\n",
    "plt.imshow(img[0].numpy(), cmap='gray')\n",
    "plt.plot(x_pred, y_pred, marker='o', color='red')\n",
    "plt.plot(coord[1].item(), coord[0].item(), marker='o', color='green')"
   ]
  },
  {
   "cell_type": "code",
   "execution_count": 105,
   "id": "0353e994",
   "metadata": {},
   "outputs": [
    {
     "name": "stdout",
     "output_type": "stream",
     "text": [
      "torch.Size([2000, 1, 64, 64])\n",
      "torch.Size([2000, 2])\n"
     ]
    }
   ],
   "source": [
    "model_reg.eval()\n",
    "\n",
    "test_loader_reg = DataLoader(test_set, batch_size=2000)\n",
    "\n",
    "x, targets = next(iter(test_loader_reg))\n",
    "\n",
    "print(x.shape)\n",
    "print(targets.shape)"
   ]
  },
  {
   "cell_type": "code",
   "execution_count": 106,
   "id": "c6062e58",
   "metadata": {},
   "outputs": [
    {
     "name": "stdout",
     "output_type": "stream",
     "text": [
      "From 2000 \u001b[32mcorrect predicted 1972\n",
      "\n"
     ]
    }
   ],
   "source": [
    "pred = model_reg(x.to(device))\n",
    "\n",
    "index = (torch.round(pred) == targets.to(device)).all(dim=1)\n",
    "print(f'From {len(test_set)} \\033[32mcorrect predicted {index.sum()}', end='\\n\\n')\n",
    "\n",
    "imgs_correct_pred = x.to(device)[index]\n",
    "correct_pred = pred[index]\n",
    "rel_correct_pred = targets.to(device)[index]"
   ]
  },
  {
   "cell_type": "code",
   "execution_count": 107,
   "id": "3703381a",
   "metadata": {
    "scrolled": true
   },
   "outputs": [
    {
     "name": "stdout",
     "output_type": "stream",
     "text": [
      "From 2000 \u001b[31mincorrect predicted 28\n",
      "\n"
     ]
    }
   ],
   "source": [
    "pred = model_reg(x.to(device))\n",
    "\n",
    "index = ~(torch.round(pred) == targets.to(device)).all(dim=1)\n",
    "print(f'From {len(test_set)} \\033[31mincorrect predicted {index.sum()}', end='\\n\\n')\n",
    "\n",
    "imgs_false_pred = x.to(device)[index]\n",
    "false_pred = pred[index]\n",
    "rel_false_pred = targets.to(device)[index]"
   ]
  },
  {
   "cell_type": "code",
   "execution_count": 108,
   "id": "9f75ddbd",
   "metadata": {},
   "outputs": [
    {
     "name": "stdout",
     "output_type": "stream",
     "text": [
      "Pred coord:        tensor([40.4488, 37.5571], device='mps:0', grad_fn=<SelectBackward0>)\n",
      "\u001b[31mPred round-coord: \u001b[0m tensor([40., 38.], device='mps:0', grad_fn=<RoundBackward0>)\n",
      "\u001b[32mTrue coord: \u001b[0m       tensor([41., 38.], device='mps:0')\n"
     ]
    },
    {
     "data": {
      "text/plain": [
       "[<matplotlib.lines.Line2D at 0x30a392d20>]"
      ]
     },
     "execution_count": 108,
     "metadata": {},
     "output_type": "execute_result"
    },
    {
     "data": {
      "image/png": "[encoded data removed]",
      "text/plain": [
       "<Figure size 640x480 with 1 Axes>"
      ]
     },
     "metadata": {},
     "output_type": "display_data"
    }
   ],
   "source": [
    "index_false_pred = 22\n",
    "false_coords = false_pred[index_false_pred]\n",
    "rel_coords = rel_false_pred[index_false_pred]\n",
    "\n",
    "print(f'Pred coord:        {false_coords}')\n",
    "print(f'\\033[31mPred round-coord: \\033[0m {torch.round(false_coords)}')\n",
    "print(f'\\033[32mTrue coord: \\033[0m       {rel_coords}')\n",
    "\n",
    "x_pred = torch.round(false_coords)[1].item()\n",
    "y_pred = torch.round(false_coords)[0].item()\n",
    "\n",
    "plt.imshow(imgs_false_pred[index_false_pred][0].to(device='cpu').numpy(), cmap='gray')\n",
    "plt.plot(x_pred, y_pred, marker='o', color='red')\n",
    "plt.plot(rel_coords[1].item(), rel_coords[0].item(), marker='o', color='green')"
   ]
  },
  {
   "cell_type": "markdown",
   "id": "9a96cbbe",
   "metadata": {},
   "source": [
    "#### Regression with blur border"
   ]
  },
  {
   "cell_type": "code",
   "execution_count": 229,
   "id": "4f937b39",
   "metadata": {},
   "outputs": [],
   "source": [
    "dataset_reg_border = DatasetReg('/Users/alexeyfilichkin/Desktop/PyTorch/coordinates/blur_borders/dataset',\n",
    "                        transform=transform)"
   ]
  },
  {
   "cell_type": "code",
   "execution_count": 230,
   "id": "f679b8af",
   "metadata": {},
   "outputs": [
    {
     "name": "stdout",
     "output_type": "stream",
     "text": [
      "Coord: tensor([22., 36.])\n"
     ]
    },
    {
     "data": {
      "image/png": "[encoded data removed]",
      "text/plain": [
       "<Figure size 640x480 with 1 Axes>"
      ]
     },
     "metadata": {},
     "output_type": "display_data"
    }
   ],
   "source": [
    "img, coord = dataset_reg_border[1204]\n",
    "print(f'Coord: {coord}')\n",
    "      \n",
    "plt.imshow(img.numpy()[0], cmap='gray');"
   ]
  },
  {
   "cell_type": "code",
   "execution_count": 231,
   "id": "6d7bf7b6",
   "metadata": {},
   "outputs": [],
   "source": [
    "train_set_border, val_set_border, test_set_border = random_split(dataset_reg_border, [0.7, 0.1, 0.2])"
   ]
  },
  {
   "cell_type": "code",
   "execution_count": 232,
   "id": "43fd232e",
   "metadata": {},
   "outputs": [],
   "source": [
    "train_loader_reg_border = DataLoader(train_set_border, batch_size=16, shuffle=True)\n",
    "val_loader_reg_border = DataLoader(val_set_border, batch_size=16, shuffle=False)\n",
    "test_loader_reg_border = DataLoader(test_set_border, batch_size=16, shuffle=False)"
   ]
  },
  {
   "cell_type": "code",
   "execution_count": 233,
   "id": "44e803d8",
   "metadata": {},
   "outputs": [
    {
     "name": "stdout",
     "output_type": "stream",
     "text": [
      "Image:\n",
      "Img type: <class 'torch.Tensor'>\n",
      "Data shape: torch.Size([16, 1, 64, 64])\n",
      "Data type: torch.float32\n",
      "Coords:\n",
      "Coords type: <class 'torch.Tensor'>\n",
      "Coords shape: torch.Size([16, 2])\n",
      "Coords data type: torch.float32\n"
     ]
    }
   ],
   "source": [
    "imgs, cords = next(iter(train_loader_reg_border))\n",
    "\n",
    "print('Image:')\n",
    "print(f'Img type: {type(imgs)}')\n",
    "print(f'Data shape: {imgs.shape}')\n",
    "print(f'Data type: {imgs.dtype}')\n",
    "\n",
    "print('Coords:')\n",
    "print(f'Coords type: {type(cords)}')\n",
    "print(f'Coords shape: {cords.shape}')\n",
    "print(f'Coords data type: {cords.dtype}')"
   ]
  },
  {
   "cell_type": "code",
   "execution_count": 234,
   "id": "81ab0767",
   "metadata": {},
   "outputs": [],
   "source": [
    "model_reg_border = MyModelReg(1, 2).to(device)"
   ]
  },
  {
   "cell_type": "code",
   "execution_count": 235,
   "id": "26b54067",
   "metadata": {},
   "outputs": [
    {
     "data": {
      "text/plain": [
       "torch.Size([16, 2])"
      ]
     },
     "execution_count": 235,
     "metadata": {},
     "output_type": "execute_result"
    }
   ],
   "source": [
    "inp = torch.rand([16, 1, 64, 64], dtype=torch.float32).to(device)\n",
    "test = model_reg(inp)\n",
    "test.shape"
   ]
  },
  {
   "cell_type": "code",
   "execution_count": 236,
   "id": "3bc4e850",
   "metadata": {},
   "outputs": [],
   "source": [
    "loss_reg = nn.MSELoss()\n",
    "opt_reg_border = torch.optim.Adam(model_reg_border.parameters(), lr=0.001)\n",
    "lr_scheduler_border = torch.optim.lr_scheduler.ReduceLROnPlateau(opt_reg_border, patience=5)\n",
    "earlystopping = EarlyStopping(mode='min', patience=10)"
   ]
  },
  {
   "cell_type": "code",
   "execution_count": 237,
   "id": "1c274065",
   "metadata": {},
   "outputs": [],
   "source": [
    "EPOCHS = 50\n",
    "train_loss = []\n",
    "train_acc = []\n",
    "val_loss = []\n",
    "val_acc = []\n",
    "lr_list = []\n",
    "best_loss = None\n",
    "#count = 0"
   ]
  },
  {
   "cell_type": "code",
   "execution_count": 238,
   "id": "174bc77d",
   "metadata": {
    "scrolled": false
   },
   "outputs": [
    {
     "name": "stderr",
     "output_type": "stream",
     "text": [
      "                                                                                \r"
     ]
    },
    {
     "name": "stdout",
     "output_type": "stream",
     "text": [
      "Epoch [1 / 50], train_loss=12.7462,train_acc=0.2174, val_loss=0.5833,val_acc=0.2310, lr=0.0010\n"
     ]
    },
    {
     "name": "stderr",
     "output_type": "stream",
     "text": [
      "                                                                                \r"
     ]
    },
    {
     "name": "stdout",
     "output_type": "stream",
     "text": [
      "On epoch 2,model was saved with validation los function data: 0.3166\n",
      "\n"
     ]
    },
    {
     "name": "stderr",
     "output_type": "stream",
     "text": [
      "                                                                                \r"
     ]
    },
    {
     "name": "stdout",
     "output_type": "stream",
     "text": [
      "Epoch [5 / 50], train_loss=0.2746,train_acc=0.4984, val_loss=0.7974,val_acc=0.0540, lr=0.0010\n"
     ]
    },
    {
     "name": "stderr",
     "output_type": "stream",
     "text": [
      "                                                                                \r"
     ]
    },
    {
     "name": "stdout",
     "output_type": "stream",
     "text": [
      "On epoch 6,model was saved with validation los function data: 0.2722\n",
      "\n"
     ]
    },
    {
     "name": "stderr",
     "output_type": "stream",
     "text": [
      "                                                                                \r"
     ]
    },
    {
     "name": "stdout",
     "output_type": "stream",
     "text": [
      "On epoch 8,model was saved with validation los function data: 0.1612\n",
      "\n"
     ]
    },
    {
     "name": "stderr",
     "output_type": "stream",
     "text": [
      "                                                                                \r"
     ]
    },
    {
     "name": "stdout",
     "output_type": "stream",
     "text": [
      "Epoch [10 / 50], train_loss=0.1585,train_acc=0.6610, val_loss=0.1541,val_acc=0.6760, lr=0.0010\n",
      "On epoch 10,model was saved with validation los function data: 0.1541\n",
      "\n"
     ]
    },
    {
     "name": "stderr",
     "output_type": "stream",
     "text": [
      "                                                                                \r"
     ]
    },
    {
     "name": "stdout",
     "output_type": "stream",
     "text": [
      "On epoch 14,model was saved with validation los function data: 0.1267\n",
      "\n"
     ]
    },
    {
     "name": "stderr",
     "output_type": "stream",
     "text": [
      "                                                                                \r"
     ]
    },
    {
     "name": "stdout",
     "output_type": "stream",
     "text": [
      "Epoch [15 / 50], train_loss=0.1221,train_acc=0.7554, val_loss=0.3023,val_acc=0.3840, lr=0.0010\n"
     ]
    },
    {
     "name": "stderr",
     "output_type": "stream",
     "text": [
      "                                                                                \r"
     ]
    },
    {
     "name": "stdout",
     "output_type": "stream",
     "text": [
      "Epoch [20 / 50], train_loss=0.1027,train_acc=0.8213, val_loss=0.1580,val_acc=0.6730, lr=0.0001\n"
     ]
    },
    {
     "name": "stderr",
     "output_type": "stream",
     "text": [
      "                                                                                \r"
     ]
    },
    {
     "name": "stdout",
     "output_type": "stream",
     "text": [
      "On epoch 21,model was saved with validation los function data: 0.1118\n",
      "\n"
     ]
    },
    {
     "name": "stderr",
     "output_type": "stream",
     "text": [
      "                                                                                \r"
     ]
    },
    {
     "name": "stdout",
     "output_type": "stream",
     "text": [
      "On epoch 22,model was saved with validation los function data: 0.1076\n",
      "\n"
     ]
    },
    {
     "name": "stderr",
     "output_type": "stream",
     "text": [
      "                                                                                \r"
     ]
    },
    {
     "name": "stdout",
     "output_type": "stream",
     "text": [
      "On epoch 23,model was saved with validation los function data: 0.1070\n",
      "\n"
     ]
    },
    {
     "name": "stderr",
     "output_type": "stream",
     "text": [
      "                                                                                \r"
     ]
    },
    {
     "name": "stdout",
     "output_type": "stream",
     "text": [
      "Epoch [25 / 50], train_loss=0.0123,train_acc=1.0000, val_loss=0.1113,val_acc=0.7720, lr=0.0001\n"
     ]
    },
    {
     "name": "stderr",
     "output_type": "stream",
     "text": [
      "                                                                                \r"
     ]
    },
    {
     "name": "stdout",
     "output_type": "stream",
     "text": [
      "On epoch 26,model was saved with validation los function data: 0.1070\n",
      "\n"
     ]
    },
    {
     "name": "stderr",
     "output_type": "stream",
     "text": [
      "                                                                                \r"
     ]
    },
    {
     "name": "stdout",
     "output_type": "stream",
     "text": [
      "Epoch [30 / 50], train_loss=0.0037,train_acc=1.0000, val_loss=0.1077,val_acc=0.7750, lr=0.0001\n"
     ]
    },
    {
     "name": "stderr",
     "output_type": "stream",
     "text": [
      "                                                                                \r"
     ]
    },
    {
     "name": "stdout",
     "output_type": "stream",
     "text": [
      "Epoch [35 / 50], train_loss=0.0006,train_acc=1.0000, val_loss=0.1069,val_acc=0.7830, lr=0.0000\n",
      "On epoch 35,model was saved with validation los function data: 0.1069\n",
      "\n"
     ]
    },
    {
     "name": "stderr",
     "output_type": "stream",
     "text": [
      "                                                                                \r"
     ]
    },
    {
     "name": "stdout",
     "output_type": "stream",
     "text": [
      "On epoch 38,model was saved with validation los function data: 0.1069\n",
      "\n"
     ]
    },
    {
     "name": "stderr",
     "output_type": "stream",
     "text": [
      "                                                                                \r"
     ]
    },
    {
     "name": "stdout",
     "output_type": "stream",
     "text": [
      "Epoch [40 / 50], train_loss=0.0003,train_acc=1.0000, val_loss=0.1070,val_acc=0.7780, lr=0.0000\n"
     ]
    },
    {
     "name": "stderr",
     "output_type": "stream",
     "text": [
      "                                                                                \r"
     ]
    },
    {
     "name": "stdout",
     "output_type": "stream",
     "text": [
      "On epoch 44,model was saved with validation los function data: 0.1068\n",
      "\n"
     ]
    },
    {
     "name": "stderr",
     "output_type": "stream",
     "text": [
      "                                                                                \r"
     ]
    },
    {
     "name": "stdout",
     "output_type": "stream",
     "text": [
      "Epoch [45 / 50], train_loss=0.0001,train_acc=1.0000, val_loss=0.1069,val_acc=0.7790, lr=0.0000\n"
     ]
    },
    {
     "name": "stderr",
     "output_type": "stream",
     "text": [
      "                                                                                \r"
     ]
    },
    {
     "name": "stdout",
     "output_type": "stream",
     "text": [
      "Epoch [50 / 50], train_loss=0.0000,train_acc=1.0000, val_loss=0.1069,val_acc=0.7830, lr=0.0000\n"
     ]
    }
   ],
   "source": [
    "for epoch in range(1, EPOCHS+1):\n",
    "    \n",
    "    model_reg_border.train()\n",
    "    running_train_loss = []\n",
    "    true_answer = 0\n",
    "    \n",
    "    train_loop = tqdm(train_loader_reg_border, leave=False)\n",
    "    for x, targets in train_loop:\n",
    "#        x = x.reshape(-1, 64*64).to(device)\n",
    "        x = x.to(device)\n",
    "        targets = targets.to(device)\n",
    "        \n",
    "        pred = model_reg_border(x)\n",
    "        loss = loss_reg(pred, targets)\n",
    "        \n",
    "        opt_reg_border.zero_grad()\n",
    "        loss.backward()\n",
    "        \n",
    "        opt_reg_border.step()\n",
    "        \n",
    "        running_train_loss.append(loss.item())\n",
    "        mean_train_loss = sum(running_train_loss) / len(running_train_loss)\n",
    "        \n",
    "        true_answer += (torch.round(pred) == targets).all(dim=1).sum().item()\n",
    "        train_loop.set_description(f'Epoch [{epoch} / {EPOCHS}], train_loss={mean_train_loss:.4f}')\n",
    "    \n",
    "    running_train_acc = true_answer / len(train_set_border)\n",
    "    \n",
    "    train_loss.append(mean_train_loss)\n",
    "    train_acc.append(running_train_acc)\n",
    "    \n",
    "    model_reg_border.eval()\n",
    "    with torch.no_grad():\n",
    "        running_val_loss = []\n",
    "        true_answer = 0\n",
    "        \n",
    "        for x, targets in val_loader_reg_border:\n",
    "#            x = x.reshape(-1, 64*64).to(device)\n",
    "            x = x.to(device)\n",
    "            targets = targets.to(device)\n",
    "            \n",
    "            pred = model_reg_border(x)\n",
    "            loss = loss_reg(pred, targets)\n",
    "            \n",
    "            running_val_loss.append(loss.item())\n",
    "            mean_val_loss = sum(running_val_loss) / len(running_val_loss)\n",
    "            \n",
    "            true_answer += (torch.round(pred) == targets).all(dim=1).sum().item()\n",
    "            \n",
    "        running_val_acc = true_answer / len(val_set_border)\n",
    "        \n",
    "        val_loss.append(mean_val_loss)\n",
    "        val_acc.append(running_val_acc)\n",
    "        \n",
    "        \n",
    "    \n",
    "    lr_scheduler_border.step(mean_val_loss)\n",
    "    lr = lr_scheduler_border._last_lr[0]\n",
    "    lr_list.append(lr)\n",
    "    \n",
    "    if epoch == 1 or epoch % 5 == 0:\n",
    "        print(f'Epoch [{epoch} / {EPOCHS}], train_loss={mean_train_loss:.4f},'\n",
    "              f'train_acc={running_train_acc:.4f}, val_loss={mean_val_loss:.4f},'\n",
    "              f'val_acc={running_val_acc:.4f}, lr={lr:.4f}'\n",
    "             )\n",
    "    \n",
    "    if best_loss == None:\n",
    "        best_loss = mean_val_loss\n",
    "        \n",
    "    if mean_val_loss < best_loss:\n",
    "        best_loss = mean_val_loss\n",
    "        \n",
    "        checkpoint = {\n",
    "            'state_model': model_reg_border.state_dict(),\n",
    "            'state_opt': opt_reg_border.state_dict(),\n",
    "            'state_lr_scheduler': lr_scheduler_border.state_dict(),\n",
    "            'loss': {\n",
    "                'train_loss': train_loss,\n",
    "                'val_loss': val_loss,\n",
    "                'best_loss': best_loss\n",
    "            },\n",
    "            'metric': {\n",
    "                'train_acc': train_acc,\n",
    "                'val_acc': val_acc\n",
    "            },\n",
    "            'lr': lr_list,\n",
    "            'epoch': {\n",
    "                'EPOCHS': EPOCHS,\n",
    "                'save_epoch': epoch\n",
    "            }\n",
    "        }\n",
    "        \n",
    "        torch.save(checkpoint,\n",
    "                   f'/Users/alexeyfilichkin/Desktop/PyTorch/coordinates/blur_borders/models_saved/modelb_state_dict_epoch_{epoch}.pt')\n",
    "        print(f'On epoch {epoch},'\n",
    "              f'model was saved with validation los function data: {mean_val_loss:.4f}', end='\\n\\n')\n",
    "    \n",
    "    if earlystopping(mean_val_loss):\n",
    "        print(f'\\33[31mTraining was stopped on {epoch+1} epoch\\033[0m')\n",
    "        break"
   ]
  },
  {
   "cell_type": "code",
   "execution_count": 239,
   "id": "b7daf455",
   "metadata": {},
   "outputs": [
    {
     "data": {
      "image/png": "[encoded data removed]",
      "text/plain": [
       "<Figure size 640x480 with 1 Axes>"
      ]
     },
     "metadata": {},
     "output_type": "display_data"
    }
   ],
   "source": [
    "plt.plot(lr_list)\n",
    "plt.show()"
   ]
  },
  {
   "cell_type": "code",
   "execution_count": 240,
   "id": "03785b13",
   "metadata": {},
   "outputs": [
    {
     "data": {
      "image/png": "[encoded data removed]",
      "text/plain": [
       "<Figure size 640x480 with 1 Axes>"
      ]
     },
     "metadata": {},
     "output_type": "display_data"
    }
   ],
   "source": [
    "plt.plot(train_loss)\n",
    "plt.plot(val_loss)\n",
    "plt.legend(['loss_train', 'loss_val'])\n",
    "plt.show()"
   ]
  },
  {
   "cell_type": "code",
   "execution_count": 241,
   "id": "68a49f16",
   "metadata": {},
   "outputs": [
    {
     "data": {
      "image/png": "[encoded data removed]",
      "text/plain": [
       "<Figure size 640x480 with 1 Axes>"
      ]
     },
     "metadata": {},
     "output_type": "display_data"
    }
   ],
   "source": [
    "plt.plot(train_acc)\n",
    "plt.plot(val_acc)\n",
    "plt.legend(['acc_train', 'acc_val'])\n",
    "plt.show()"
   ]
  },
  {
   "cell_type": "markdown",
   "id": "19a044d2",
   "metadata": {},
   "source": [
    "#### Model evaluation with test data (blur border_dataset)"
   ]
  },
  {
   "cell_type": "code",
   "execution_count": 242,
   "id": "3769dcd3",
   "metadata": {},
   "outputs": [
    {
     "data": {
      "text/plain": [
       "<All keys matched successfully>"
      ]
     },
     "execution_count": 242,
     "metadata": {},
     "output_type": "execute_result"
    }
   ],
   "source": [
    "checkpoint_board = torch.load(\n",
    "    '/Users/alexeyfilichkin/Desktop/PyTorch/coordinates/blur_borders/models_saved/modelb_state_dict_epoch_44.pt',\n",
    "    weights_only=True)\n",
    "model_reg_border.load_state_dict(checkpoint_board['state_model'])"
   ]
  },
  {
   "cell_type": "code",
   "execution_count": 243,
   "id": "19f18a60",
   "metadata": {},
   "outputs": [
    {
     "name": "stdout",
     "output_type": "stream",
     "text": [
      "test_loss=0.1134,test_acc=0.7630\n",
      "\n"
     ]
    }
   ],
   "source": [
    "model_reg_border.eval()\n",
    "with torch.no_grad():\n",
    "    running_test_loss = []\n",
    "    true_answer = 0\n",
    "        \n",
    "    for x, targets in test_loader_reg_border:\n",
    "#        x = x.reshape(-1, 64*64).to(device)\n",
    "        x = x.to(device)   \n",
    "        targets = targets.to(device)\n",
    "            \n",
    "        pred = model_reg_border(x)\n",
    "        loss = loss_reg(pred, targets)\n",
    "            \n",
    "        running_test_loss.append(loss.item())\n",
    "        mean_test_loss = sum(running_test_loss) / len(running_test_loss)\n",
    "            \n",
    "        true_answer += (torch.round(pred) == targets).all(dim=1).sum().item()\n",
    "            \n",
    "    running_test_acc = true_answer / len(test_set_border)\n",
    "        \n",
    "print(f'test_loss={mean_test_loss:.4f},'\n",
    "      f'test_acc={running_test_acc:.4f}', end='\\n\\n')"
   ]
  },
  {
   "cell_type": "code",
   "execution_count": 244,
   "id": "cab6fc29",
   "metadata": {},
   "outputs": [
    {
     "name": "stdout",
     "output_type": "stream",
     "text": [
      "Pred coord:        tensor([35.6110, 25.4037], device='mps:0', grad_fn=<SelectBackward0>)\n",
      "\u001b[31mPred round-coord: \u001b[0m tensor([36., 25.], device='mps:0', grad_fn=<RoundBackward0>)\n",
      "\u001b[32mTrue coord: \u001b[0m       tensor([36., 25.])\n"
     ]
    },
    {
     "data": {
      "text/plain": [
       "[<matplotlib.lines.Line2D at 0x49b7e6000>]"
      ]
     },
     "execution_count": 244,
     "metadata": {},
     "output_type": "execute_result"
    },
    {
     "data": {
      "image/png": "[encoded data removed]",
      "text/plain": [
       "<Figure size 640x480 with 1 Axes>"
      ]
     },
     "metadata": {},
     "output_type": "display_data"
    }
   ],
   "source": [
    "img, coord = test_set_border[1000]\n",
    "\n",
    "model_reg_border.eval()\n",
    "\n",
    "pred = model_reg_border(torch.unsqueeze(img, 0).to(device)).to(device)\n",
    "\n",
    "x_pred = torch.round(pred[0])[1].item()\n",
    "y_pred = torch.round(pred[0])[0].item()\n",
    "\n",
    "print(f'Pred coord:        {pred[0]}')\n",
    "print(f'\\033[31mPred round-coord: \\033[0m {torch.round(pred[0])}')\n",
    "print(f'\\033[32mTrue coord: \\033[0m       {coord}')\n",
    "\n",
    "plt.imshow(img[0].numpy(), cmap='gray')\n",
    "plt.plot(x_pred, y_pred, marker='o', color='red')\n",
    "plt.plot(coord[1].item(), coord[0].item(), marker='o', color='green')"
   ]
  },
  {
   "cell_type": "code",
   "execution_count": 245,
   "id": "9432ed4f",
   "metadata": {},
   "outputs": [
    {
     "name": "stdout",
     "output_type": "stream",
     "text": [
      "torch.Size([2000, 1, 64, 64])\n",
      "torch.Size([2000, 2])\n"
     ]
    }
   ],
   "source": [
    "model_reg_border.eval()\n",
    "\n",
    "test_loader_reg_border = DataLoader(test_set_border, batch_size=2000, shuffle=False)\n",
    "\n",
    "x, targets = next(iter(test_loader_reg_border))\n",
    "\n",
    "print(x.shape)\n",
    "print(targets.shape)"
   ]
  },
  {
   "cell_type": "code",
   "execution_count": 246,
   "id": "b8598c51",
   "metadata": {},
   "outputs": [
    {
     "name": "stdout",
     "output_type": "stream",
     "text": [
      "From 2000 \u001b[31mincorrect predicted 474\n",
      "\n"
     ]
    }
   ],
   "source": [
    "pred = model_reg_border(x.to(device))\n",
    "\n",
    "index = ~(torch.round(pred) == targets.to(device)).all(dim=1)\n",
    "print(f'From {len(test_set)} \\033[31mincorrect predicted {index.sum()}', end='\\n\\n')\n",
    "\n",
    "imgs_false_pred = x.to(device)[index]\n",
    "false_pred = pred[index]\n",
    "rel_false_pred = targets.to(device)[index]"
   ]
  },
  {
   "cell_type": "code",
   "execution_count": 247,
   "id": "11506d16",
   "metadata": {},
   "outputs": [
    {
     "name": "stdout",
     "output_type": "stream",
     "text": [
      "Pred coord:        tensor([37.8831, 32.7091], device='mps:0', grad_fn=<SelectBackward0>)\n",
      "\u001b[31mPred round-coord: \u001b[0m tensor([38., 33.], device='mps:0', grad_fn=<RoundBackward0>)\n",
      "\u001b[32mTrue coord: \u001b[0m       tensor([38., 32.], device='mps:0')\n"
     ]
    },
    {
     "data": {
      "text/plain": [
       "[<matplotlib.lines.Line2D at 0x5904f0f20>]"
      ]
     },
     "execution_count": 247,
     "metadata": {},
     "output_type": "execute_result"
    },
    {
     "data": {
      "image/png": "[encoded data removed]",
      "text/plain": [
       "<Figure size 640x480 with 1 Axes>"
      ]
     },
     "metadata": {},
     "output_type": "display_data"
    }
   ],
   "source": [
    "index_false_pred = 450\n",
    "false_coords = false_pred[index_false_pred]\n",
    "rel_coords = rel_false_pred[index_false_pred]\n",
    "\n",
    "print(f'Pred coord:        {false_coords}')\n",
    "print(f'\\033[31mPred round-coord: \\033[0m {torch.round(false_coords)}')\n",
    "print(f'\\033[32mTrue coord: \\033[0m       {rel_coords}')\n",
    "\n",
    "x_pred = torch.round(false_coords)[1].item()\n",
    "y_pred = torch.round(false_coords)[0].item()\n",
    "\n",
    "plt.imshow(imgs_false_pred[index_false_pred][0].to(device='cpu').numpy(), cmap='gray')\n",
    "plt.plot(x_pred, y_pred, marker='o', color='red')\n",
    "plt.plot(rel_coords[1].item(), rel_coords[0].item(), marker='o', color='green')"
   ]
  },
  {
   "cell_type": "markdown",
   "id": "281d16af",
   "metadata": {},
   "source": [
    "#### Additional model (reg_model) training with blur border (model pre-trained, no frozen pre-trained parameters)"
   ]
  },
  {
   "cell_type": "code",
   "execution_count": 248,
   "id": "b750831a",
   "metadata": {},
   "outputs": [],
   "source": [
    "param_model = torch.load(\n",
    "    '/Users/alexeyfilichkin/Desktop/PyTorch/coordinates/clear_borders/models_saved/model_state_dict_epoch_4.pt',\n",
    "    map_location=device,\n",
    "    weights_only=True)"
   ]
  },
  {
   "cell_type": "code",
   "execution_count": 249,
   "id": "37d22673",
   "metadata": {},
   "outputs": [],
   "source": [
    "new_model = MyModelReg(1, 2).to(device)"
   ]
  },
  {
   "cell_type": "code",
   "execution_count": 250,
   "id": "b7b99dbe",
   "metadata": {},
   "outputs": [
    {
     "data": {
      "text/plain": [
       "<All keys matched successfully>"
      ]
     },
     "execution_count": 250,
     "metadata": {},
     "output_type": "execute_result"
    }
   ],
   "source": [
    "new_model.load_state_dict(param_model['state_model'])"
   ]
  },
  {
   "cell_type": "code",
   "execution_count": 251,
   "id": "6e5ec9be",
   "metadata": {},
   "outputs": [
    {
     "data": {
      "text/plain": [
       "MyModelReg(\n",
       "  (conv): Sequential(\n",
       "    (0): Conv2d(1, 32, kernel_size=(3, 3), stride=(1, 1))\n",
       "    (1): ReLU()\n",
       "    (2): Conv2d(32, 64, kernel_size=(3, 3), stride=(1, 1))\n",
       "    (3): ReLU()\n",
       "  )\n",
       "  (flatten): Flatten(start_dim=1, end_dim=-1)\n",
       "  (fc): Sequential(\n",
       "    (0): Linear(in_features=230400, out_features=128, bias=True)\n",
       "    (1): ReLU()\n",
       "    (2): Linear(in_features=128, out_features=2, bias=True)\n",
       "  )\n",
       ")"
      ]
     },
     "execution_count": 251,
     "metadata": {},
     "output_type": "execute_result"
    }
   ],
   "source": [
    "new_model"
   ]
  },
  {
   "cell_type": "code",
   "execution_count": 252,
   "id": "d04b7b40",
   "metadata": {},
   "outputs": [],
   "source": [
    "loss_reg = nn.MSELoss()\n",
    "opt_new = torch.optim.Adam(new_model.parameters(), lr=0.001)\n",
    "lr_scheduler_new = torch.optim.lr_scheduler.ReduceLROnPlateau(opt_new, patience=5)\n",
    "earlystopping = EarlyStopping(mode='min', patience=10)"
   ]
  },
  {
   "cell_type": "code",
   "execution_count": 253,
   "id": "78663e78",
   "metadata": {},
   "outputs": [],
   "source": [
    "EPOCHS = 50\n",
    "train_loss = []\n",
    "train_acc = []\n",
    "val_loss = []\n",
    "val_acc = []\n",
    "lr_list = []\n",
    "best_loss = None"
   ]
  },
  {
   "cell_type": "code",
   "execution_count": 254,
   "id": "8efeaabc",
   "metadata": {},
   "outputs": [
    {
     "name": "stderr",
     "output_type": "stream",
     "text": [
      "                                                                                \r"
     ]
    },
    {
     "name": "stdout",
     "output_type": "stream",
     "text": [
      "Epoch [1 / 50], train_loss=10.4751,train_acc=0.2369, val_loss=0.5192,val_acc=0.2730, lr=0.0010\n"
     ]
    },
    {
     "name": "stderr",
     "output_type": "stream",
     "text": [
      "                                                                                \r"
     ]
    },
    {
     "name": "stdout",
     "output_type": "stream",
     "text": [
      "On epoch 2,model was saved with validation los function data: 0.2926\n",
      "\n"
     ]
    },
    {
     "name": "stderr",
     "output_type": "stream",
     "text": [
      "                                                                                \r"
     ]
    },
    {
     "name": "stdout",
     "output_type": "stream",
     "text": [
      "On epoch 3,model was saved with validation los function data: 0.2394\n",
      "\n"
     ]
    },
    {
     "name": "stderr",
     "output_type": "stream",
     "text": [
      "                                                                                \r"
     ]
    },
    {
     "name": "stdout",
     "output_type": "stream",
     "text": [
      "On epoch 4,model was saved with validation los function data: 0.2128\n",
      "\n"
     ]
    },
    {
     "name": "stderr",
     "output_type": "stream",
     "text": [
      "                                                                                \r"
     ]
    },
    {
     "name": "stdout",
     "output_type": "stream",
     "text": [
      "Epoch [5 / 50], train_loss=0.2582,train_acc=0.4767, val_loss=0.4741,val_acc=0.2130, lr=0.0010\n"
     ]
    },
    {
     "name": "stderr",
     "output_type": "stream",
     "text": [
      "                                                                                \r"
     ]
    },
    {
     "name": "stdout",
     "output_type": "stream",
     "text": [
      "Epoch [10 / 50], train_loss=0.3152,train_acc=0.4794, val_loss=0.2989,val_acc=0.4120, lr=0.0001\n"
     ]
    },
    {
     "name": "stderr",
     "output_type": "stream",
     "text": [
      "                                                                                \r"
     ]
    },
    {
     "name": "stdout",
     "output_type": "stream",
     "text": [
      "On epoch 11,model was saved with validation los function data: 0.1447\n",
      "\n"
     ]
    },
    {
     "name": "stderr",
     "output_type": "stream",
     "text": [
      "                                                                                \r"
     ]
    },
    {
     "name": "stdout",
     "output_type": "stream",
     "text": [
      "On epoch 13,model was saved with validation los function data: 0.1407\n",
      "\n"
     ]
    },
    {
     "name": "stderr",
     "output_type": "stream",
     "text": [
      "                                                                                \r"
     ]
    },
    {
     "name": "stdout",
     "output_type": "stream",
     "text": [
      "Epoch [15 / 50], train_loss=0.0438,train_acc=0.9694, val_loss=0.1427,val_acc=0.6770, lr=0.0001\n"
     ]
    },
    {
     "name": "stderr",
     "output_type": "stream",
     "text": [
      "                                                                                \r"
     ]
    },
    {
     "name": "stdout",
     "output_type": "stream",
     "text": [
      "Epoch [20 / 50], train_loss=0.0159,train_acc=0.9996, val_loss=0.1416,val_acc=0.6900, lr=0.0000\n"
     ]
    },
    {
     "name": "stderr",
     "output_type": "stream",
     "text": [
      "                                                                                \r"
     ]
    },
    {
     "name": "stdout",
     "output_type": "stream",
     "text": [
      "\u001b[31mTraining was stopped on 24 epoch\u001b[0m\n"
     ]
    }
   ],
   "source": [
    "for epoch in range(1, EPOCHS+1):\n",
    "    \n",
    "    new_model.train()\n",
    "    running_train_loss = []\n",
    "    true_answer = 0\n",
    "    \n",
    "    train_loop = tqdm(train_loader_reg_border, leave=False)\n",
    "    for x, targets in train_loop:\n",
    "#        x = x.reshape(-1, 64*64).to(device)\n",
    "        x = x.to(device)\n",
    "        targets = targets.to(device)\n",
    "        \n",
    "        pred = new_model(x)\n",
    "        loss = loss_reg(pred, targets)\n",
    "        \n",
    "        opt_new.zero_grad()\n",
    "        loss.backward()\n",
    "        \n",
    "        opt_new.step()\n",
    "        \n",
    "        running_train_loss.append(loss.item())\n",
    "        mean_train_loss = sum(running_train_loss) / len(running_train_loss)\n",
    "        \n",
    "        true_answer += (torch.round(pred) == targets).all(dim=1).sum().item()\n",
    "        train_loop.set_description(f'Epoch [{epoch} / {EPOCHS}], train_loss={mean_train_loss:.4f}')\n",
    "    \n",
    "    running_train_acc = true_answer / len(train_set_border)\n",
    "    \n",
    "    train_loss.append(mean_train_loss)\n",
    "    train_acc.append(running_train_acc)\n",
    "    \n",
    "    new_model.eval()\n",
    "    with torch.no_grad():\n",
    "        running_val_loss = []\n",
    "        true_answer = 0\n",
    "        \n",
    "        for x, targets in val_loader_reg_border:\n",
    "#            x = x.reshape(-1, 64*64).to(device)\n",
    "            x = x.to(device)\n",
    "            targets = targets.to(device)\n",
    "            \n",
    "            pred = new_model(x)\n",
    "            loss = loss_reg(pred, targets)\n",
    "            \n",
    "            running_val_loss.append(loss.item())\n",
    "            mean_val_loss = sum(running_val_loss) / len(running_val_loss)\n",
    "            \n",
    "            true_answer += (torch.round(pred) == targets).all(dim=1).sum().item()\n",
    "            \n",
    "        running_val_acc = true_answer / len(val_set_border)\n",
    "        \n",
    "        val_loss.append(mean_val_loss)\n",
    "        val_acc.append(running_val_acc)\n",
    "        \n",
    "        \n",
    "    \n",
    "    lr_scheduler_new.step(mean_val_loss)\n",
    "    lr = lr_scheduler_new._last_lr[0]\n",
    "    lr_list.append(lr)\n",
    "    \n",
    "    if epoch == 1 or epoch % 5 == 0:\n",
    "        print(f'Epoch [{epoch} / {EPOCHS}], train_loss={mean_train_loss:.4f},'\n",
    "              f'train_acc={running_train_acc:.4f}, val_loss={mean_val_loss:.4f},'\n",
    "              f'val_acc={running_val_acc:.4f}, lr={lr:.4f}'\n",
    "             )\n",
    "    \n",
    "    if best_loss == None:\n",
    "        best_loss = mean_val_loss\n",
    "        \n",
    "    if mean_val_loss < best_loss:\n",
    "        best_loss = mean_val_loss\n",
    "        \n",
    "        checkpoint = {\n",
    "            'state_model': model_reg_border.state_dict(),\n",
    "            'state_opt': opt_reg_border.state_dict(),\n",
    "            'state_lr_scheduler': lr_scheduler_border.state_dict(),\n",
    "            'loss': {\n",
    "                'train_loss': train_loss,\n",
    "                'val_loss': val_loss,\n",
    "                'best_loss': best_loss\n",
    "            },\n",
    "            'metric': {\n",
    "                'train_acc': train_acc,\n",
    "                'val_acc': val_acc\n",
    "            },\n",
    "            'lr': lr_list,\n",
    "            'epoch': {\n",
    "                'EPOCHS': EPOCHS,\n",
    "                'save_epoch': epoch\n",
    "            }\n",
    "        }\n",
    "        \n",
    "        torch.save(checkpoint,\n",
    "                   f'/Users/alexeyfilichkin/Desktop/PyTorch/coordinates/blur_borders/models_saved/modelb_state_dict_epoch_{epoch}.pt')\n",
    "        print(f'On epoch {epoch},'\n",
    "              f'model was saved with validation los function data: {mean_val_loss:.4f}', end='\\n\\n')\n",
    "    \n",
    "    if earlystopping(mean_val_loss):\n",
    "        print(f'\\33[31mTraining was stopped on {epoch+1} epoch\\033[0m')\n",
    "        break"
   ]
  },
  {
   "cell_type": "code",
   "execution_count": 255,
   "id": "4aaf6569",
   "metadata": {},
   "outputs": [
    {
     "data": {
      "image/png": "[encoded data removed]",
      "text/plain": [
       "<Figure size 640x480 with 1 Axes>"
      ]
     },
     "metadata": {},
     "output_type": "display_data"
    }
   ],
   "source": [
    "plt.plot(lr_list)\n",
    "plt.show()"
   ]
  },
  {
   "cell_type": "code",
   "execution_count": 256,
   "id": "a86dc424",
   "metadata": {},
   "outputs": [
    {
     "data": {
      "image/png": "[encoded data removed]",
      "text/plain": [
       "<Figure size 640x480 with 1 Axes>"
      ]
     },
     "metadata": {},
     "output_type": "display_data"
    }
   ],
   "source": [
    "plt.plot(train_loss)\n",
    "plt.plot(val_loss)\n",
    "plt.legend(['loss_train', 'loss_val'])\n",
    "plt.show()"
   ]
  },
  {
   "cell_type": "code",
   "execution_count": 257,
   "id": "6eac5837",
   "metadata": {},
   "outputs": [
    {
     "data": {
      "image/png": "[encoded data removed]",
      "text/plain": [
       "<Figure size 640x480 with 1 Axes>"
      ]
     },
     "metadata": {},
     "output_type": "display_data"
    }
   ],
   "source": [
    "plt.plot(train_acc)\n",
    "plt.plot(val_acc)\n",
    "plt.legend(['acc_train', 'acc_val'])\n",
    "plt.show()"
   ]
  },
  {
   "cell_type": "markdown",
   "id": "457bcc4d",
   "metadata": {},
   "source": [
    "#### Additional model (reg_model) training with blur border (model pre-trained, frozen pre-trained parameters)"
   ]
  },
  {
   "cell_type": "code",
   "execution_count": 258,
   "id": "e6d38515",
   "metadata": {},
   "outputs": [],
   "source": [
    "param_model = torch.load(\n",
    "    '/Users/alexeyfilichkin/Desktop/PyTorch/coordinates/clear_borders/models_saved/model_state_dict_epoch_4.pt',\n",
    "    map_location=device,\n",
    "    weights_only=True)"
   ]
  },
  {
   "cell_type": "code",
   "execution_count": 259,
   "id": "3fc5499f",
   "metadata": {},
   "outputs": [],
   "source": [
    "new_model_frozen = MyModelReg(1, 2).to(device)"
   ]
  },
  {
   "cell_type": "code",
   "execution_count": 260,
   "id": "9425af52",
   "metadata": {},
   "outputs": [
    {
     "data": {
      "text/plain": [
       "<All keys matched successfully>"
      ]
     },
     "execution_count": 260,
     "metadata": {},
     "output_type": "execute_result"
    }
   ],
   "source": [
    "new_model_frozen.load_state_dict(param_model['state_model'])"
   ]
  },
  {
   "cell_type": "code",
   "execution_count": 261,
   "id": "46514b05",
   "metadata": {},
   "outputs": [
    {
     "data": {
      "text/plain": [
       "MyModelReg(\n",
       "  (conv): Sequential(\n",
       "    (0): Conv2d(1, 32, kernel_size=(3, 3), stride=(1, 1))\n",
       "    (1): ReLU()\n",
       "    (2): Conv2d(32, 64, kernel_size=(3, 3), stride=(1, 1))\n",
       "    (3): ReLU()\n",
       "  )\n",
       "  (flatten): Flatten(start_dim=1, end_dim=-1)\n",
       "  (fc): Sequential(\n",
       "    (0): Linear(in_features=230400, out_features=128, bias=True)\n",
       "    (1): ReLU()\n",
       "    (2): Linear(in_features=128, out_features=2, bias=True)\n",
       "  )\n",
       ")"
      ]
     },
     "execution_count": 261,
     "metadata": {},
     "output_type": "execute_result"
    }
   ],
   "source": [
    "new_model_frozen"
   ]
  },
  {
   "cell_type": "code",
   "execution_count": 263,
   "id": "cb070ff0",
   "metadata": {},
   "outputs": [
    {
     "data": {
      "text/plain": [
       "MyModelReg(\n",
       "  (conv): Sequential(\n",
       "    (0): Conv2d(1, 32, kernel_size=(3, 3), stride=(1, 1))\n",
       "    (1): ReLU()\n",
       "    (2): Conv2d(32, 64, kernel_size=(3, 3), stride=(1, 1))\n",
       "    (3): ReLU()\n",
       "  )\n",
       "  (flatten): Flatten(start_dim=1, end_dim=-1)\n",
       "  (fc): Sequential(\n",
       "    (0): Linear(in_features=230400, out_features=128, bias=True)\n",
       "    (1): ReLU()\n",
       "    (2): Linear(in_features=128, out_features=2, bias=True)\n",
       "  )\n",
       ")"
      ]
     },
     "execution_count": 263,
     "metadata": {},
     "output_type": "execute_result"
    }
   ],
   "source": [
    "for param in new_model_frozen.parameters():\n",
    "    param.requires_grad = False\n",
    "\n",
    "new_model_frozen.fc = nn.Sequential(\n",
    "            nn.Linear(230400, 128),\n",
    "            nn.ReLU(),\n",
    "            nn.Linear(128, 2)\n",
    "        )\n",
    "new_model_frozen"
   ]
  },
  {
   "cell_type": "code",
   "execution_count": 264,
   "id": "97af7ae7",
   "metadata": {},
   "outputs": [
    {
     "name": "stdout",
     "output_type": "stream",
     "text": [
      "conv.0\n",
      "    weights.requires_grad = False\n",
      "    bias.requires_grad = False\n",
      "\n",
      "conv.2\n",
      "    weights.requires_grad = False\n",
      "    bias.requires_grad = False\n",
      "\n",
      "fc.0\n",
      "    weights.requires_grad = True\n",
      "    bias.requires_grad = True\n",
      "\n",
      "fc.2\n",
      "    weights.requires_grad = True\n",
      "    bias.requires_grad = True\n",
      "\n"
     ]
    }
   ],
   "source": [
    "for name, layer in new_model_frozen.named_modules():\n",
    "    if isinstance(layer, (nn.Conv2d, nn.Linear)):\n",
    "        print(name)\n",
    "        for i, param in enumerate(layer.parameters()):\n",
    "            if i == 0:\n",
    "                print(f'    weights.requires_grad = {param.requires_grad}')\n",
    "            else:\n",
    "                print(f'    bias.requires_grad = {param.requires_grad}', end='\\n\\n')"
   ]
  },
  {
   "cell_type": "code",
   "execution_count": 265,
   "id": "81db9d39",
   "metadata": {},
   "outputs": [],
   "source": [
    "new_model_frozen = new_model_frozen.to(device)"
   ]
  },
  {
   "cell_type": "code",
   "execution_count": 266,
   "id": "a3444294",
   "metadata": {},
   "outputs": [],
   "source": [
    "loss_reg = nn.MSELoss()\n",
    "opt_frozen = torch.optim.Adam(new_model_frozen.parameters(), lr=0.001)\n",
    "lr_scheduler_frozen = torch.optim.lr_scheduler.ReduceLROnPlateau(opt_frozen, patience=5)\n",
    "earlystopping = EarlyStopping(mode='min', patience=10)"
   ]
  },
  {
   "cell_type": "code",
   "execution_count": 267,
   "id": "dec11d9c",
   "metadata": {},
   "outputs": [],
   "source": [
    "EPOCHS = 50\n",
    "train_loss = []\n",
    "train_acc = []\n",
    "val_loss = []\n",
    "val_acc = []\n",
    "lr_list = []\n",
    "best_loss = None"
   ]
  },
  {
   "cell_type": "code",
   "execution_count": 268,
   "id": "d9296771",
   "metadata": {},
   "outputs": [
    {
     "name": "stderr",
     "output_type": "stream",
     "text": [
      "                                                                                \r"
     ]
    },
    {
     "name": "stdout",
     "output_type": "stream",
     "text": [
      "Epoch [1 / 50], train_loss=14.2704,train_acc=0.0584, val_loss=1.9946,val_acc=0.0660, lr=0.0010\n"
     ]
    },
    {
     "name": "stderr",
     "output_type": "stream",
     "text": [
      "                                                                                \r"
     ]
    },
    {
     "name": "stdout",
     "output_type": "stream",
     "text": [
      "On epoch 3,model was saved with validation los function data: 1.0694\n",
      "\n"
     ]
    },
    {
     "name": "stderr",
     "output_type": "stream",
     "text": [
      "                                                                                \r"
     ]
    },
    {
     "name": "stdout",
     "output_type": "stream",
     "text": [
      "Epoch [5 / 50], train_loss=0.9617,train_acc=0.1516, val_loss=1.4107,val_acc=0.0900, lr=0.0010\n"
     ]
    },
    {
     "name": "stderr",
     "output_type": "stream",
     "text": [
      "                                                                                \r"
     ]
    },
    {
     "name": "stdout",
     "output_type": "stream",
     "text": [
      "On epoch 7,model was saved with validation los function data: 1.0203\n",
      "\n"
     ]
    },
    {
     "name": "stderr",
     "output_type": "stream",
     "text": [
      "                                                                                \r"
     ]
    },
    {
     "name": "stdout",
     "output_type": "stream",
     "text": [
      "On epoch 8,model was saved with validation los function data: 0.9452\n",
      "\n"
     ]
    },
    {
     "name": "stderr",
     "output_type": "stream",
     "text": [
      "                                                                                \r"
     ]
    },
    {
     "name": "stdout",
     "output_type": "stream",
     "text": [
      "Epoch [10 / 50], train_loss=0.5481,train_acc=0.2647, val_loss=1.1463,val_acc=0.1190, lr=0.0010\n"
     ]
    },
    {
     "name": "stderr",
     "output_type": "stream",
     "text": [
      "                                                                                \r"
     ]
    },
    {
     "name": "stdout",
     "output_type": "stream",
     "text": [
      "On epoch 11,model was saved with validation los function data: 0.8522\n",
      "\n"
     ]
    },
    {
     "name": "stderr",
     "output_type": "stream",
     "text": [
      "                                                                                \r"
     ]
    },
    {
     "name": "stdout",
     "output_type": "stream",
     "text": [
      "On epoch 12,model was saved with validation los function data: 0.8225\n",
      "\n"
     ]
    },
    {
     "name": "stderr",
     "output_type": "stream",
     "text": [
      "                                                                                \r"
     ]
    },
    {
     "name": "stdout",
     "output_type": "stream",
     "text": [
      "Epoch [15 / 50], train_loss=0.3508,train_acc=0.3506, val_loss=0.8239,val_acc=0.1870, lr=0.0010\n"
     ]
    },
    {
     "name": "stderr",
     "output_type": "stream",
     "text": [
      "                                                                                \r"
     ]
    },
    {
     "name": "stdout",
     "output_type": "stream",
     "text": [
      "On epoch 16,model was saved with validation los function data: 0.7801\n",
      "\n"
     ]
    },
    {
     "name": "stderr",
     "output_type": "stream",
     "text": [
      "                                                                                \r"
     ]
    },
    {
     "name": "stdout",
     "output_type": "stream",
     "text": [
      "Epoch [20 / 50], train_loss=0.3088,train_acc=0.4323, val_loss=0.6753,val_acc=0.2250, lr=0.0010\n",
      "On epoch 20,model was saved with validation los function data: 0.6753\n",
      "\n"
     ]
    },
    {
     "name": "stderr",
     "output_type": "stream",
     "text": [
      "                                                                                \r"
     ]
    },
    {
     "name": "stdout",
     "output_type": "stream",
     "text": [
      "Epoch [25 / 50], train_loss=0.2104,train_acc=0.5413, val_loss=0.7628,val_acc=0.2000, lr=0.0010\n"
     ]
    },
    {
     "name": "stderr",
     "output_type": "stream",
     "text": [
      "                                                                                \r"
     ]
    },
    {
     "name": "stdout",
     "output_type": "stream",
     "text": [
      "On epoch 27,model was saved with validation los function data: 0.6437\n",
      "\n"
     ]
    },
    {
     "name": "stderr",
     "output_type": "stream",
     "text": [
      "                                                                                \r"
     ]
    },
    {
     "name": "stdout",
     "output_type": "stream",
     "text": [
      "On epoch 28,model was saved with validation los function data: 0.6360\n",
      "\n"
     ]
    },
    {
     "name": "stderr",
     "output_type": "stream",
     "text": [
      "                                                                                \r"
     ]
    },
    {
     "name": "stdout",
     "output_type": "stream",
     "text": [
      "Epoch [30 / 50], train_loss=0.0391,train_acc=0.9761, val_loss=0.6417,val_acc=0.2370, lr=0.0001\n"
     ]
    },
    {
     "name": "stderr",
     "output_type": "stream",
     "text": [
      "                                                                                \r"
     ]
    },
    {
     "name": "stdout",
     "output_type": "stream",
     "text": [
      "On epoch 32,model was saved with validation los function data: 0.6341\n",
      "\n"
     ]
    },
    {
     "name": "stderr",
     "output_type": "stream",
     "text": [
      "                                                                                \r"
     ]
    },
    {
     "name": "stdout",
     "output_type": "stream",
     "text": [
      "Epoch [35 / 50], train_loss=0.0232,train_acc=0.9977, val_loss=0.6295,val_acc=0.2420, lr=0.0001\n",
      "On epoch 35,model was saved with validation los function data: 0.6295\n",
      "\n"
     ]
    },
    {
     "name": "stderr",
     "output_type": "stream",
     "text": [
      "                                                                                \r"
     ]
    },
    {
     "name": "stdout",
     "output_type": "stream",
     "text": [
      "Epoch [40 / 50], train_loss=0.0145,train_acc=0.9999, val_loss=0.6388,val_acc=0.2300, lr=0.0001\n"
     ]
    },
    {
     "name": "stderr",
     "output_type": "stream",
     "text": [
      "                                                                                \r"
     ]
    },
    {
     "name": "stdout",
     "output_type": "stream",
     "text": [
      "On epoch 42,model was saved with validation los function data: 0.6241\n",
      "\n"
     ]
    },
    {
     "name": "stderr",
     "output_type": "stream",
     "text": [
      "                                                                                \r"
     ]
    },
    {
     "name": "stdout",
     "output_type": "stream",
     "text": [
      "On epoch 44,model was saved with validation los function data: 0.6241\n",
      "\n"
     ]
    },
    {
     "name": "stderr",
     "output_type": "stream",
     "text": [
      "                                                                                \r"
     ]
    },
    {
     "name": "stdout",
     "output_type": "stream",
     "text": [
      "Epoch [45 / 50], train_loss=0.0067,train_acc=1.0000, val_loss=0.6233,val_acc=0.2490, lr=0.0000\n",
      "On epoch 45,model was saved with validation los function data: 0.6233\n",
      "\n"
     ]
    },
    {
     "name": "stderr",
     "output_type": "stream",
     "text": [
      "                                                                                \r"
     ]
    },
    {
     "name": "stdout",
     "output_type": "stream",
     "text": [
      "On epoch 48,model was saved with validation los function data: 0.6232\n",
      "\n"
     ]
    },
    {
     "name": "stderr",
     "output_type": "stream",
     "text": [
      "                                                                                \r"
     ]
    },
    {
     "name": "stdout",
     "output_type": "stream",
     "text": [
      "On epoch 49,model was saved with validation los function data: 0.6226\n",
      "\n"
     ]
    },
    {
     "name": "stderr",
     "output_type": "stream",
     "text": [
      "                                                                                \r"
     ]
    },
    {
     "name": "stdout",
     "output_type": "stream",
     "text": [
      "Epoch [50 / 50], train_loss=0.0059,train_acc=1.0000, val_loss=0.6232,val_acc=0.2470, lr=0.0000\n"
     ]
    }
   ],
   "source": [
    "for epoch in range(1, EPOCHS+1):\n",
    "    \n",
    "    new_model_frozen.train()\n",
    "    running_train_loss = []\n",
    "    true_answer = 0\n",
    "    \n",
    "    train_loop = tqdm(train_loader_reg_border, leave=False)\n",
    "    for x, targets in train_loop:\n",
    "#        x = x.reshape(-1, 64*64).to(device)\n",
    "        x = x.to(device)\n",
    "        targets = targets.to(device)\n",
    "        \n",
    "        pred = new_model_frozen(x)\n",
    "        loss = loss_reg(pred, targets)\n",
    "        \n",
    "        opt_frozen.zero_grad()\n",
    "        loss.backward()\n",
    "        \n",
    "        opt_frozen.step()\n",
    "        \n",
    "        running_train_loss.append(loss.item())\n",
    "        mean_train_loss = sum(running_train_loss) / len(running_train_loss)\n",
    "        \n",
    "        true_answer += (torch.round(pred) == targets).all(dim=1).sum().item()\n",
    "        train_loop.set_description(f'Epoch [{epoch} / {EPOCHS}], train_loss={mean_train_loss:.4f}')\n",
    "    \n",
    "    running_train_acc = true_answer / len(train_set_border)\n",
    "    \n",
    "    train_loss.append(mean_train_loss)\n",
    "    train_acc.append(running_train_acc)\n",
    "    \n",
    "    new_model_frozen.eval()\n",
    "    with torch.no_grad():\n",
    "        running_val_loss = []\n",
    "        true_answer = 0\n",
    "        \n",
    "        for x, targets in val_loader_reg_border:\n",
    "#            x = x.reshape(-1, 64*64).to(device)\n",
    "            x = x.to(device)\n",
    "            targets = targets.to(device)\n",
    "            \n",
    "            pred = new_model_frozen(x)\n",
    "            loss = loss_reg(pred, targets)\n",
    "            \n",
    "            running_val_loss.append(loss.item())\n",
    "            mean_val_loss = sum(running_val_loss) / len(running_val_loss)\n",
    "            \n",
    "            true_answer += (torch.round(pred) == targets).all(dim=1).sum().item()\n",
    "            \n",
    "        running_val_acc = true_answer / len(val_set_border)\n",
    "        \n",
    "        val_loss.append(mean_val_loss)\n",
    "        val_acc.append(running_val_acc)\n",
    "        \n",
    "        \n",
    "    \n",
    "    lr_scheduler_frozen.step(mean_val_loss)\n",
    "    lr = lr_scheduler_frozen._last_lr[0]\n",
    "    lr_list.append(lr)\n",
    "    \n",
    "    if epoch == 1 or epoch % 5 == 0:\n",
    "        print(f'Epoch [{epoch} / {EPOCHS}], train_loss={mean_train_loss:.4f},'\n",
    "              f'train_acc={running_train_acc:.4f}, val_loss={mean_val_loss:.4f},'\n",
    "              f'val_acc={running_val_acc:.4f}, lr={lr:.4f}'\n",
    "             )\n",
    "    \n",
    "    if best_loss == None:\n",
    "        best_loss = mean_val_loss\n",
    "        \n",
    "    if mean_val_loss < best_loss:\n",
    "        best_loss = mean_val_loss\n",
    "        \n",
    "        checkpoint = {\n",
    "            'state_model': model_reg_border.state_dict(),\n",
    "            'state_opt': opt_reg_border.state_dict(),\n",
    "            'state_lr_scheduler': lr_scheduler_border.state_dict(),\n",
    "            'loss': {\n",
    "                'train_loss': train_loss,\n",
    "                'val_loss': val_loss,\n",
    "                'best_loss': best_loss\n",
    "            },\n",
    "            'metric': {\n",
    "                'train_acc': train_acc,\n",
    "                'val_acc': val_acc\n",
    "            },\n",
    "            'lr': lr_list,\n",
    "            'epoch': {\n",
    "                'EPOCHS': EPOCHS,\n",
    "                'save_epoch': epoch\n",
    "            }\n",
    "        }\n",
    "        \n",
    "        torch.save(checkpoint,\n",
    "                   f'/Users/alexeyfilichkin/Desktop/PyTorch/coordinates/blur_borders/models_saved/modelb_state_dict_epoch_{epoch}.pt')\n",
    "        print(f'On epoch {epoch},'\n",
    "              f'model was saved with validation los function data: {mean_val_loss:.4f}', end='\\n\\n')\n",
    "    \n",
    "    if earlystopping(mean_val_loss):\n",
    "        print(f'\\33[31mTraining was stopped on {epoch+1} epoch\\033[0m')\n",
    "        break"
   ]
  },
  {
   "cell_type": "markdown",
   "id": "04158824",
   "metadata": {},
   "source": [
    "####  Finetuning"
   ]
  },
  {
   "cell_type": "code",
   "execution_count": 269,
   "id": "6eed5aab",
   "metadata": {},
   "outputs": [],
   "source": [
    "for param in new_model_frozen.conv[2:].parameters():\n",
    "    param.requires_grad = True"
   ]
  },
  {
   "cell_type": "code",
   "execution_count": 270,
   "id": "adef3220",
   "metadata": {},
   "outputs": [
    {
     "name": "stdout",
     "output_type": "stream",
     "text": [
      "conv.0\n",
      "    weights.requires_grad = False\n",
      "    bias.requires_grad = False\n",
      "\n",
      "conv.2\n",
      "    weights.requires_grad = True\n",
      "    bias.requires_grad = True\n",
      "\n",
      "fc.0\n",
      "    weights.requires_grad = True\n",
      "    bias.requires_grad = True\n",
      "\n",
      "fc.2\n",
      "    weights.requires_grad = True\n",
      "    bias.requires_grad = True\n",
      "\n"
     ]
    }
   ],
   "source": [
    "for name, layer in new_model_frozen.named_modules():\n",
    "    if isinstance(layer, (nn.Conv2d, nn.Linear)):\n",
    "        print(name)\n",
    "        for i, param in enumerate(layer.parameters()):\n",
    "            if i == 0:\n",
    "                print(f'    weights.requires_grad = {param.requires_grad}')\n",
    "            else:\n",
    "                print(f'    bias.requires_grad = {param.requires_grad}', end='\\n\\n')"
   ]
  },
  {
   "cell_type": "code",
   "execution_count": 271,
   "id": "90a0fe01",
   "metadata": {},
   "outputs": [],
   "source": [
    "new_model_frozen = new_model_frozen.to(device)\n",
    "\n",
    "\n",
    "loss_reg = nn.MSELoss()\n",
    "opt_frozen = torch.optim.Adam(\n",
    "    [\n",
    "        {'params': new_model_frozen.conv[2:].parameters(), 'lr': 0.000001},\n",
    "        {'params': new_model_frozen.fc.parameters()},\n",
    "    ],\n",
    "    lr=0.0001\n",
    ")\n",
    "lr_scheduler_frozen = torch.optim.lr_scheduler.ReduceLROnPlateau(opt_frozen, patience=5)\n",
    "earlystopping = EarlyStopping(mode='min', patience=10)"
   ]
  },
  {
   "cell_type": "code",
   "execution_count": 272,
   "id": "6d8c489a",
   "metadata": {},
   "outputs": [],
   "source": [
    "EPOCHS = 50\n",
    "train_loss = []\n",
    "train_acc = []\n",
    "val_loss = []\n",
    "val_acc = []\n",
    "lr_list = []\n",
    "best_loss = None"
   ]
  },
  {
   "cell_type": "code",
   "execution_count": 273,
   "id": "68b4acf6",
   "metadata": {},
   "outputs": [
    {
     "name": "stderr",
     "output_type": "stream",
     "text": [
      "                                                                                \r"
     ]
    },
    {
     "name": "stdout",
     "output_type": "stream",
     "text": [
      "Epoch [1 / 50], train_loss=0.0136,train_acc=0.9893, val_loss=0.6284,val_acc=0.2410, lr=0.0000\n"
     ]
    },
    {
     "name": "stderr",
     "output_type": "stream",
     "text": [
      "                                                                                \r"
     ]
    },
    {
     "name": "stdout",
     "output_type": "stream",
     "text": [
      "On epoch 3,model was saved with validation los function data: 0.6270\n",
      "\n"
     ]
    },
    {
     "name": "stderr",
     "output_type": "stream",
     "text": [
      "                                                                                \r"
     ]
    },
    {
     "name": "stdout",
     "output_type": "stream",
     "text": [
      "On epoch 4,model was saved with validation los function data: 0.6249\n",
      "\n"
     ]
    },
    {
     "name": "stderr",
     "output_type": "stream",
     "text": [
      "                                                                                \r"
     ]
    },
    {
     "name": "stdout",
     "output_type": "stream",
     "text": [
      "Epoch [5 / 50], train_loss=0.0068,train_acc=1.0000, val_loss=0.6262,val_acc=0.2430, lr=0.0000\n"
     ]
    },
    {
     "name": "stderr",
     "output_type": "stream",
     "text": [
      "                                                                                \r"
     ]
    },
    {
     "name": "stdout",
     "output_type": "stream",
     "text": [
      "On epoch 8,model was saved with validation los function data: 0.6242\n",
      "\n"
     ]
    },
    {
     "name": "stderr",
     "output_type": "stream",
     "text": [
      "                                                                                \r"
     ]
    },
    {
     "name": "stdout",
     "output_type": "stream",
     "text": [
      "Epoch [10 / 50], train_loss=0.0040,train_acc=1.0000, val_loss=0.6336,val_acc=0.2310, lr=0.0000\n"
     ]
    },
    {
     "name": "stderr",
     "output_type": "stream",
     "text": [
      "                                                                                \r"
     ]
    },
    {
     "name": "stdout",
     "output_type": "stream",
     "text": [
      "On epoch 12,model was saved with validation los function data: 0.6233\n",
      "\n"
     ]
    },
    {
     "name": "stderr",
     "output_type": "stream",
     "text": [
      "                                                                                \r"
     ]
    },
    {
     "name": "stdout",
     "output_type": "stream",
     "text": [
      "Epoch [15 / 50], train_loss=0.0032,train_acc=1.0000, val_loss=0.6215,val_acc=0.2450, lr=0.0000\n",
      "On epoch 15,model was saved with validation los function data: 0.6215\n",
      "\n"
     ]
    },
    {
     "name": "stderr",
     "output_type": "stream",
     "text": [
      "                                                                                \r"
     ]
    },
    {
     "name": "stdout",
     "output_type": "stream",
     "text": [
      "On epoch 16,model was saved with validation los function data: 0.6206\n",
      "\n"
     ]
    },
    {
     "name": "stderr",
     "output_type": "stream",
     "text": [
      "                                                                                \r"
     ]
    },
    {
     "name": "stdout",
     "output_type": "stream",
     "text": [
      "Epoch [20 / 50], train_loss=0.0028,train_acc=1.0000, val_loss=0.6233,val_acc=0.2380, lr=0.0000\n"
     ]
    },
    {
     "name": "stderr",
     "output_type": "stream",
     "text": [
      "                                                                                \r"
     ]
    },
    {
     "name": "stdout",
     "output_type": "stream",
     "text": [
      "On epoch 24,model was saved with validation los function data: 0.6206\n",
      "\n"
     ]
    },
    {
     "name": "stderr",
     "output_type": "stream",
     "text": [
      "                                                                                \r"
     ]
    },
    {
     "name": "stdout",
     "output_type": "stream",
     "text": [
      "Epoch [25 / 50], train_loss=0.0004,train_acc=1.0000, val_loss=0.6202,val_acc=0.2530, lr=0.0000\n",
      "On epoch 25,model was saved with validation los function data: 0.6202\n",
      "\n"
     ]
    },
    {
     "name": "stderr",
     "output_type": "stream",
     "text": [
      "                                                                                \r"
     ]
    },
    {
     "name": "stdout",
     "output_type": "stream",
     "text": [
      "Epoch [30 / 50], train_loss=0.0003,train_acc=1.0000, val_loss=0.6206,val_acc=0.2530, lr=0.0000\n"
     ]
    },
    {
     "name": "stderr",
     "output_type": "stream",
     "text": [
      "                                                                                \r"
     ]
    },
    {
     "name": "stdout",
     "output_type": "stream",
     "text": [
      "Epoch [35 / 50], train_loss=0.0001,train_acc=1.0000, val_loss=0.6207,val_acc=0.2500, lr=0.0000\n",
      "\u001b[31mTraining was stopped on 36 epoch\u001b[0m\n"
     ]
    }
   ],
   "source": [
    "for epoch in range(1, EPOCHS+1):\n",
    "    \n",
    "    new_model_frozen.train()\n",
    "    running_train_loss = []\n",
    "    true_answer = 0\n",
    "    \n",
    "    train_loop = tqdm(train_loader_reg_border, leave=False)\n",
    "    for x, targets in train_loop:\n",
    "#        x = x.reshape(-1, 64*64).to(device)\n",
    "        x = x.to(device)\n",
    "        targets = targets.to(device)\n",
    "        \n",
    "        pred = new_model_frozen(x)\n",
    "        loss = loss_reg(pred, targets)\n",
    "        \n",
    "        opt_frozen.zero_grad()\n",
    "        loss.backward()\n",
    "        \n",
    "        opt_frozen.step()\n",
    "        \n",
    "        running_train_loss.append(loss.item())\n",
    "        mean_train_loss = sum(running_train_loss) / len(running_train_loss)\n",
    "        \n",
    "        true_answer += (torch.round(pred) == targets).all(dim=1).sum().item()\n",
    "        train_loop.set_description(f'Epoch [{epoch} / {EPOCHS}], train_loss={mean_train_loss:.4f}')\n",
    "    \n",
    "    running_train_acc = true_answer / len(train_set_border)\n",
    "    \n",
    "    train_loss.append(mean_train_loss)\n",
    "    train_acc.append(running_train_acc)\n",
    "    \n",
    "    new_model_frozen.eval()\n",
    "    with torch.no_grad():\n",
    "        running_val_loss = []\n",
    "        true_answer = 0\n",
    "        \n",
    "        for x, targets in val_loader_reg_border:\n",
    "#            x = x.reshape(-1, 64*64).to(device)\n",
    "            x = x.to(device)\n",
    "            targets = targets.to(device)\n",
    "            \n",
    "            pred = new_model_frozen(x)\n",
    "            loss = loss_reg(pred, targets)\n",
    "            \n",
    "            running_val_loss.append(loss.item())\n",
    "            mean_val_loss = sum(running_val_loss) / len(running_val_loss)\n",
    "            \n",
    "            true_answer += (torch.round(pred) == targets).all(dim=1).sum().item()\n",
    "            \n",
    "        running_val_acc = true_answer / len(val_set_border)\n",
    "        \n",
    "        val_loss.append(mean_val_loss)\n",
    "        val_acc.append(running_val_acc)\n",
    "        \n",
    "        \n",
    "    \n",
    "    lr_scheduler_frozen.step(mean_val_loss)\n",
    "    lr = lr_scheduler_frozen._last_lr[0]\n",
    "    lr_list.append(lr)\n",
    "    \n",
    "    if epoch == 1 or epoch % 5 == 0:\n",
    "        print(f'Epoch [{epoch} / {EPOCHS}], train_loss={mean_train_loss:.4f},'\n",
    "              f'train_acc={running_train_acc:.4f}, val_loss={mean_val_loss:.4f},'\n",
    "              f'val_acc={running_val_acc:.4f}, lr={lr:.4f}'\n",
    "             )\n",
    "    \n",
    "    if best_loss == None:\n",
    "        best_loss = mean_val_loss\n",
    "        \n",
    "    if mean_val_loss < best_loss:\n",
    "        best_loss = mean_val_loss\n",
    "        \n",
    "        checkpoint = {\n",
    "            'state_model': model_reg_border.state_dict(),\n",
    "            'state_opt': opt_reg_border.state_dict(),\n",
    "            'state_lr_scheduler': lr_scheduler_border.state_dict(),\n",
    "            'loss': {\n",
    "                'train_loss': train_loss,\n",
    "                'val_loss': val_loss,\n",
    "                'best_loss': best_loss\n",
    "            },\n",
    "            'metric': {\n",
    "                'train_acc': train_acc,\n",
    "                'val_acc': val_acc\n",
    "            },\n",
    "            'lr': lr_list,\n",
    "            'epoch': {\n",
    "                'EPOCHS': EPOCHS,\n",
    "                'save_epoch': epoch\n",
    "            }\n",
    "        }\n",
    "        \n",
    "        torch.save(checkpoint,\n",
    "                   f'/Users/alexeyfilichkin/Desktop/PyTorch/coordinates/blur_borders/models_saved/modelb_state_dict_epoch_{epoch}.pt')\n",
    "        print(f'On epoch {epoch},'\n",
    "              f'model was saved with validation los function data: {mean_val_loss:.4f}', end='\\n\\n')\n",
    "    \n",
    "    if earlystopping(mean_val_loss):\n",
    "        print(f'\\33[31mTraining was stopped on {epoch+1} epoch\\033[0m')\n",
    "        break"
   ]
  },
  {
   "cell_type": "code",
   "execution_count": null,
   "id": "72fc931e",
   "metadata": {},
   "outputs": [],
   "source": []
  }
 ],
 "metadata": {
  "kernelspec": {
   "display_name": "Python 3 (ipykernel)",
   "language": "python",
   "name": "python3"
  },
  "language_info": {
   "codemirror_mode": {
    "name": "ipython",
    "version": 3
   },
   "file_extension": ".py",
   "mimetype": "text/x-python",
   "name": "python",
   "nbconvert_exporter": "python",
   "pygments_lexer": "ipython3",
   "version": "3.12.2"
  },
  "toc": {
   "base_numbering": 1,
   "nav_menu": {},
   "number_sections": true,
   "sideBar": true,
   "skip_h1_title": true,
   "title_cell": "Regression tasks with PyTorch",
   "title_sidebar": "Contents",
   "toc_cell": true,
   "toc_position": {
    "height": "calc(100% - 180px)",
    "left": "10px",
    "top": "150px",
    "width": "288px"
   },
   "toc_section_display": true,
   "toc_window_display": false
  },
  "varInspector": {
   "cols": {
    "lenName": 16,
    "lenType": 16,
    "lenVar": 40
   },
   "kernels_config": {
    "python": {
     "delete_cmd_postfix": "",
     "delete_cmd_prefix": "del ",
     "library": "var_list.py",
     "varRefreshCmd": "print(var_dic_list())"
    },
    "r": {
     "delete_cmd_postfix": ") ",
     "delete_cmd_prefix": "rm(",
     "library": "var_list.r",
     "varRefreshCmd": "cat(var_dic_list()) "
    }
   },
   "types_to_exclude": [
    "module",
    "function",
    "builtin_function_or_method",
    "instance",
    "_Feature"
   ],
   "window_display": false
  }
 },
 "nbformat": 4,
 "nbformat_minor": 5
}
